{
 "cells": [
  {
   "cell_type": "code",
   "execution_count": 1,
   "metadata": {},
   "outputs": [],
   "source": [
    "from Bio import SeqIO\n",
    "from Bio.SeqUtils import GC\n",
    "from matplotlib import pyplot as plt\n",
    "%matplotlib inline"
   ]
  },
  {
   "cell_type": "code",
   "execution_count": 2,
   "metadata": {},
   "outputs": [],
   "source": [
    "def filter_read(read, min_quality=20, min_good_nucl_percentage=0.5):\n",
    "    # возвращает последовательность из нуклеотидов только хорошего качества \n",
    "    # или пустую строку, если таких нуклеотидов оказалось меньше заданной доли\n",
    "    filtered = \"\"\n",
    "    for (nucl, q) in zip(read.seq, read.letter_annotations[\"phred_quality\"]):\n",
    "        if q >= min_quality:\n",
    "            filtered += nucl\n",
    "    if len(filtered) / len(read.seq) >= min_good_nucl_percentage:\n",
    "        return filtered\n",
    "    else:\n",
    "        return \"\""
   ]
  },
  {
   "cell_type": "code",
   "execution_count": 3,
   "metadata": {},
   "outputs": [],
   "source": [
    "def count_GC_content(filename, format_, min_quality=20, min_good_nucl_percentage=0.5):\n",
    "    GC_content_list = []\n",
    "    for read in SeqIO.parse(filename, format_):\n",
    "        filtered = filter_read(read, min_quality, min_good_nucl_percentage)\n",
    "        if len(filtered) > 0:\n",
    "            GC_content_list.append(GC(filtered))\n",
    "            \n",
    "    return GC_content_list"
   ]
  },
  {
   "cell_type": "markdown",
   "metadata": {},
   "source": [
    "# Гистограммы плотности распределения GC-состава для ридов в файлах 100x.1 и 100x.2\n",
    "\n",
    "При построении гистограмм не учитывались нуклеотиды с качеством ниже 20 и риды, в которых доля нуклеотидов с качеством >20 составляла менее 0.5"
   ]
  },
  {
   "cell_type": "code",
   "execution_count": 4,
   "metadata": {},
   "outputs": [
    {
     "data": {
      "image/png": "[encoded data removed]",
      "text/plain": [
       "<Figure size 432x288 with 1 Axes>"
      ]
     },
     "metadata": {},
     "output_type": "display_data"
    }
   ],
   "source": [
    "GC_cont1 = count_GC_content(\"data/100x.1.fastq\", \"fastq\", \n",
    "                           min_quality=20, min_good_nucl_percentage=0.5)\n",
    "plt.hist(GC_cont1, bins=50)\n",
    "plt.savefig(\"gc1.png\")"
   ]
  },
  {
   "cell_type": "code",
   "execution_count": 5,
   "metadata": {},
   "outputs": [
    {
     "data": {
      "image/png": "[encoded data removed]",
      "text/plain": [
       "<Figure size 432x288 with 1 Axes>"
      ]
     },
     "metadata": {},
     "output_type": "display_data"
    }
   ],
   "source": [
    "GC_cont2 = count_GC_content(\"data/100x.2.fastq\", \"fastq\", \n",
    "                           min_quality=20, min_good_nucl_percentage=0.5)\n",
    "plt.hist(GC_cont2, bins=50)\n",
    "plt.savefig(\"gc2.png\")"
   ]
  },
  {
   "cell_type": "code",
   "execution_count": 6,
   "metadata": {},
   "outputs": [
    {
     "name": "stdout",
     "output_type": "stream",
     "text": [
      "Средний GC-состав ридов в файле 100x.1: 50.8%\n",
      "Средний GC-состав ридов в файле 100x.2: 50.7%\n"
     ]
    }
   ],
   "source": [
    "print(\"Средний GC-состав ридов в файле 100x.1: {:.3}%\\n\"\n",
    "      \"Средний GC-состав ридов в файле 100x.2: {:.3}%\".format(sum(GC_cont1) / len(GC_cont1),\n",
    "                                                                sum(GC_cont2) / len(GC_cont2)))"
   ]
  },
  {
   "cell_type": "markdown",
   "metadata": {},
   "source": [
    "# Распределение GC-состава ридов в файле 100x.1, построенное программой fastq\n",
    "![gc1](data/100x.1.gc_cont_distribution.png)"
   ]
  },
  {
   "cell_type": "markdown",
   "metadata": {},
   "source": [
    "# Распределение GC-состава ридов в файле 100x.2, построенное программой fastq\n",
    "![gc2](data/100x.2.gc_cont_distribution.png)"
   ]
  }
 ],
 "metadata": {
  "kernelspec": {
   "display_name": "Python 3",
   "language": "python",
   "name": "python3"
  },
  "language_info": {
   "codemirror_mode": {
    "name": "ipython",
    "version": 3
   },
   "file_extension": ".py",
   "mimetype": "text/x-python",
   "name": "python",
   "nbconvert_exporter": "python",
   "pygments_lexer": "ipython3",
   "version": "3.6.7"
  }
 },
 "nbformat": 4,
 "nbformat_minor": 2
}
