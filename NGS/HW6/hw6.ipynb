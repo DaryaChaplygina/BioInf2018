{
 "cells": [
  {
   "cell_type": "code",
   "execution_count": 1,
   "metadata": {},
   "outputs": [],
   "source": [
    "import pandas as pd"
   ]
  },
  {
   "cell_type": "markdown",
   "metadata": {},
   "source": [
    "## Assemble PacBio reads with Canu:"
   ]
  },
  {
   "cell_type": "markdown",
   "metadata": {},
   "source": [
    "```canu -p ecoli -d ecoli-pacbio4 stopOnLowCoverage=6 genomeSize=4.8m useGrid=false -pacbio-raw ../../NGS/6/pacbio_10x.fq.gz ```"
   ]
  },
  {
   "cell_type": "markdown",
   "metadata": {},
   "source": [
    "## Assemble Illumina reads with SPAdes:"
   ]
  },
  {
   "cell_type": "markdown",
   "metadata": {},
   "source": [
    "```spades.py -k 21,33,55,77 --careful --pe1-1 ../../NGS/6/illumina.100x.1.fq.gz --pe1-2 ../../NGS/6/illumina.100x.2.fq.gz -o illumina_assembly```"
   ]
  },
  {
   "cell_type": "markdown",
   "metadata": {},
   "source": [
    "## Hybrid assembly with SPAdes:"
   ]
  },
  {
   "cell_type": "markdown",
   "metadata": {},
   "source": [
    "```spades.py -k 77 --trusted-contigs ecoli-pacbio2/ecoli.contigs.fasta --pe1-1 ../../NGS/6/illumina.100x.1.fq.gz --pe1-2 ../../NGS/6/illumina.100x.2.fq.gz -o hybrid_20```"
   ]
  },
  {
   "cell_type": "markdown",
   "metadata": {},
   "source": [
    "# QUAST assembly evaluation"
   ]
  },
  {
   "cell_type": "code",
   "execution_count": 2,
   "metadata": {},
   "outputs": [],
   "source": [
    "quast_report = pd.read_csv('quast_results/latest/report.tsv', delimiter='\\t')"
   ]
  },
  {
   "cell_type": "markdown",
   "metadata": {},
   "source": [
    "## Basic statistics"
   ]
  },
  {
   "cell_type": "markdown",
   "metadata": {},
   "source": [
    "### Contig sizes"
   ]
  },
  {
   "cell_type": "code",
   "execution_count": 3,
   "metadata": {
    "scrolled": true
   },
   "outputs": [
    {
     "data": {
      "text/html": [
       "<div>\n",
       "<style scoped>\n",
       "    .dataframe tbody tr th:only-of-type {\n",
       "        vertical-align: middle;\n",
       "    }\n",
       "\n",
       "    .dataframe tbody tr th {\n",
       "        vertical-align: top;\n",
       "    }\n",
       "\n",
       "    .dataframe thead th {\n",
       "        text-align: right;\n",
       "    }\n",
       "</style>\n",
       "<table border=\"1\" class=\"dataframe\">\n",
       "  <thead>\n",
       "    <tr style=\"text-align: right;\">\n",
       "      <th></th>\n",
       "      <th>Assembly</th>\n",
       "      <th>pacbio10x</th>\n",
       "      <th>pacbio20x</th>\n",
       "      <th>pacbio40x</th>\n",
       "      <th>pacbio80x</th>\n",
       "      <th>illuminaK77</th>\n",
       "      <th>hybrid10</th>\n",
       "      <th>hybrid20</th>\n",
       "      <th>hybrid40</th>\n",
       "      <th>hybrid80</th>\n",
       "    </tr>\n",
       "  </thead>\n",
       "  <tbody>\n",
       "    <tr>\n",
       "      <th>1</th>\n",
       "      <td># contigs (&gt;= 1000 bp)</td>\n",
       "      <td>132</td>\n",
       "      <td>24</td>\n",
       "      <td>3</td>\n",
       "      <td>1</td>\n",
       "      <td>73</td>\n",
       "      <td>6</td>\n",
       "      <td>3</td>\n",
       "      <td>2</td>\n",
       "      <td>2</td>\n",
       "    </tr>\n",
       "    <tr>\n",
       "      <th>12</th>\n",
       "      <td># contigs</td>\n",
       "      <td>132</td>\n",
       "      <td>24</td>\n",
       "      <td>3</td>\n",
       "      <td>1</td>\n",
       "      <td>81</td>\n",
       "      <td>8</td>\n",
       "      <td>4</td>\n",
       "      <td>3</td>\n",
       "      <td>3</td>\n",
       "    </tr>\n",
       "    <tr>\n",
       "      <th>13</th>\n",
       "      <td>Largest contig</td>\n",
       "      <td>180610</td>\n",
       "      <td>749388</td>\n",
       "      <td>4640801</td>\n",
       "      <td>4652986</td>\n",
       "      <td>315011</td>\n",
       "      <td>1999155</td>\n",
       "      <td>4589664</td>\n",
       "      <td>4589665</td>\n",
       "      <td>4589665</td>\n",
       "    </tr>\n",
       "    <tr>\n",
       "      <th>14</th>\n",
       "      <td>Total length</td>\n",
       "      <td>3817958</td>\n",
       "      <td>4606872</td>\n",
       "      <td>4656609</td>\n",
       "      <td>4652986</td>\n",
       "      <td>4561340</td>\n",
       "      <td>4638678</td>\n",
       "      <td>4639164</td>\n",
       "      <td>4641289</td>\n",
       "      <td>4641289</td>\n",
       "    </tr>\n",
       "  </tbody>\n",
       "</table>\n",
       "</div>"
      ],
      "text/plain": [
       "                  Assembly pacbio10x pacbio20x pacbio40x pacbio80x  \\\n",
       "1   # contigs (>= 1000 bp)       132        24         3         1   \n",
       "12               # contigs       132        24         3         1   \n",
       "13          Largest contig    180610    749388   4640801   4652986   \n",
       "14            Total length   3817958   4606872   4656609   4652986   \n",
       "\n",
       "   illuminaK77 hybrid10 hybrid20 hybrid40 hybrid80  \n",
       "1           73        6        3        2        2  \n",
       "12          81        8        4        3        3  \n",
       "13      315011  1999155  4589664  4589665  4589665  \n",
       "14     4561340  4638678  4639164  4641289  4641289  "
      ]
     },
     "execution_count": 3,
     "metadata": {},
     "output_type": "execute_result"
    }
   ],
   "source": [
    "quast_report.where(quast_report.Assembly.isin(['# contigs',\n",
    "                                               '# contigs (>= 1000 bp)',\n",
    "                                               'Largest contig',\n",
    "                                               'Total length'])).dropna()"
   ]
  },
  {
   "cell_type": "markdown",
   "metadata": {},
   "source": [
    "![gc1](pics/cumulative_plot.png)"
   ]
  },
  {
   "cell_type": "markdown",
   "metadata": {},
   "source": [
    "### Nx and Lx"
   ]
  },
  {
   "cell_type": "code",
   "execution_count": 4,
   "metadata": {},
   "outputs": [
    {
     "data": {
      "text/html": [
       "<div>\n",
       "<style scoped>\n",
       "    .dataframe tbody tr th:only-of-type {\n",
       "        vertical-align: middle;\n",
       "    }\n",
       "\n",
       "    .dataframe tbody tr th {\n",
       "        vertical-align: top;\n",
       "    }\n",
       "\n",
       "    .dataframe thead th {\n",
       "        text-align: right;\n",
       "    }\n",
       "</style>\n",
       "<table border=\"1\" class=\"dataframe\">\n",
       "  <thead>\n",
       "    <tr style=\"text-align: right;\">\n",
       "      <th></th>\n",
       "      <th>Assembly</th>\n",
       "      <th>pacbio10x</th>\n",
       "      <th>pacbio20x</th>\n",
       "      <th>pacbio40x</th>\n",
       "      <th>pacbio80x</th>\n",
       "      <th>illuminaK77</th>\n",
       "      <th>hybrid10</th>\n",
       "      <th>hybrid20</th>\n",
       "      <th>hybrid40</th>\n",
       "      <th>hybrid80</th>\n",
       "    </tr>\n",
       "  </thead>\n",
       "  <tbody>\n",
       "    <tr>\n",
       "      <th>18</th>\n",
       "      <td>N50</td>\n",
       "      <td>47884</td>\n",
       "      <td>273158</td>\n",
       "      <td>4640801</td>\n",
       "      <td>4652986</td>\n",
       "      <td>133059</td>\n",
       "      <td>1034546</td>\n",
       "      <td>4589664</td>\n",
       "      <td>4589665</td>\n",
       "      <td>4589665</td>\n",
       "    </tr>\n",
       "    <tr>\n",
       "      <th>20</th>\n",
       "      <td>N75</td>\n",
       "      <td>26677</td>\n",
       "      <td>199297</td>\n",
       "      <td>4640801</td>\n",
       "      <td>4652986</td>\n",
       "      <td>66190</td>\n",
       "      <td>552505</td>\n",
       "      <td>4589664</td>\n",
       "      <td>4589665</td>\n",
       "      <td>4589665</td>\n",
       "    </tr>\n",
       "    <tr>\n",
       "      <th>22</th>\n",
       "      <td>L50</td>\n",
       "      <td>27</td>\n",
       "      <td>5</td>\n",
       "      <td>1</td>\n",
       "      <td>1</td>\n",
       "      <td>12</td>\n",
       "      <td>2</td>\n",
       "      <td>1</td>\n",
       "      <td>1</td>\n",
       "      <td>1</td>\n",
       "    </tr>\n",
       "    <tr>\n",
       "      <th>24</th>\n",
       "      <td>L75</td>\n",
       "      <td>52</td>\n",
       "      <td>10</td>\n",
       "      <td>1</td>\n",
       "      <td>1</td>\n",
       "      <td>24</td>\n",
       "      <td>3</td>\n",
       "      <td>1</td>\n",
       "      <td>1</td>\n",
       "      <td>1</td>\n",
       "    </tr>\n",
       "  </tbody>\n",
       "</table>\n",
       "</div>"
      ],
      "text/plain": [
       "   Assembly pacbio10x pacbio20x pacbio40x pacbio80x illuminaK77 hybrid10  \\\n",
       "18      N50     47884    273158   4640801   4652986      133059  1034546   \n",
       "20      N75     26677    199297   4640801   4652986       66190   552505   \n",
       "22      L50        27         5         1         1          12        2   \n",
       "24      L75        52        10         1         1          24        3   \n",
       "\n",
       "   hybrid20 hybrid40 hybrid80  \n",
       "18  4589664  4589665  4589665  \n",
       "20  4589664  4589665  4589665  \n",
       "22        1        1        1  \n",
       "24        1        1        1  "
      ]
     },
     "execution_count": 4,
     "metadata": {},
     "output_type": "execute_result"
    }
   ],
   "source": [
    "quast_report.where(quast_report.Assembly.isin(['N50',\n",
    "                                               'N75',\n",
    "                                               'L50',\n",
    "                                               'L75'])).dropna()"
   ]
  },
  {
   "cell_type": "markdown",
   "metadata": {},
   "source": [
    "![gc1](pics/Nx_plot.png)"
   ]
  },
  {
   "cell_type": "markdown",
   "metadata": {},
   "source": [
    "### GC content and Ns"
   ]
  },
  {
   "cell_type": "code",
   "execution_count": 5,
   "metadata": {
    "scrolled": false
   },
   "outputs": [
    {
     "data": {
      "text/html": [
       "<div>\n",
       "<style scoped>\n",
       "    .dataframe tbody tr th:only-of-type {\n",
       "        vertical-align: middle;\n",
       "    }\n",
       "\n",
       "    .dataframe tbody tr th {\n",
       "        vertical-align: top;\n",
       "    }\n",
       "\n",
       "    .dataframe thead th {\n",
       "        text-align: right;\n",
       "    }\n",
       "</style>\n",
       "<table border=\"1\" class=\"dataframe\">\n",
       "  <thead>\n",
       "    <tr style=\"text-align: right;\">\n",
       "      <th></th>\n",
       "      <th>Assembly</th>\n",
       "      <th>pacbio10x</th>\n",
       "      <th>pacbio20x</th>\n",
       "      <th>pacbio40x</th>\n",
       "      <th>pacbio80x</th>\n",
       "      <th>illuminaK77</th>\n",
       "      <th>hybrid10</th>\n",
       "      <th>hybrid20</th>\n",
       "      <th>hybrid40</th>\n",
       "      <th>hybrid80</th>\n",
       "    </tr>\n",
       "  </thead>\n",
       "  <tbody>\n",
       "    <tr>\n",
       "      <th>16</th>\n",
       "      <td>GC (%)</td>\n",
       "      <td>50.50</td>\n",
       "      <td>50.76</td>\n",
       "      <td>50.76</td>\n",
       "      <td>50.79</td>\n",
       "      <td>50.74</td>\n",
       "      <td>50.78</td>\n",
       "      <td>50.78</td>\n",
       "      <td>50.79</td>\n",
       "      <td>50.79</td>\n",
       "    </tr>\n",
       "    <tr>\n",
       "      <th>37</th>\n",
       "      <td># N's per 100 kbp</td>\n",
       "      <td>0.00</td>\n",
       "      <td>0.00</td>\n",
       "      <td>0.00</td>\n",
       "      <td>0.00</td>\n",
       "      <td>0.00</td>\n",
       "      <td>0.00</td>\n",
       "      <td>0.00</td>\n",
       "      <td>0.00</td>\n",
       "      <td>0.00</td>\n",
       "    </tr>\n",
       "  </tbody>\n",
       "</table>\n",
       "</div>"
      ],
      "text/plain": [
       "             Assembly pacbio10x pacbio20x pacbio40x pacbio80x illuminaK77  \\\n",
       "16             GC (%)     50.50     50.76     50.76     50.79       50.74   \n",
       "37  # N's per 100 kbp      0.00      0.00      0.00      0.00        0.00   \n",
       "\n",
       "   hybrid10 hybrid20 hybrid40 hybrid80  \n",
       "16    50.78    50.78    50.79    50.79  \n",
       "37     0.00     0.00     0.00     0.00  "
      ]
     },
     "execution_count": 5,
     "metadata": {},
     "output_type": "execute_result"
    }
   ],
   "source": [
    "quast_report.where(quast_report.Assembly.isin(['GC (%)',\n",
    "                                               '# N\\'s per 100 kbp'])).dropna()"
   ]
  },
  {
   "cell_type": "markdown",
   "metadata": {},
   "source": [
    "### _По базовым статистикам сборка прочтений pacbio с максимальным покрытием оказалась самой лучшей - потому что они собрались в один контиг._"
   ]
  },
  {
   "cell_type": "markdown",
   "metadata": {},
   "source": [
    "## Reference-based metrics"
   ]
  },
  {
   "cell_type": "markdown",
   "metadata": {},
   "source": [
    "### NGx and LGx"
   ]
  },
  {
   "cell_type": "code",
   "execution_count": 6,
   "metadata": {},
   "outputs": [
    {
     "data": {
      "text/html": [
       "<div>\n",
       "<style scoped>\n",
       "    .dataframe tbody tr th:only-of-type {\n",
       "        vertical-align: middle;\n",
       "    }\n",
       "\n",
       "    .dataframe tbody tr th {\n",
       "        vertical-align: top;\n",
       "    }\n",
       "\n",
       "    .dataframe thead th {\n",
       "        text-align: right;\n",
       "    }\n",
       "</style>\n",
       "<table border=\"1\" class=\"dataframe\">\n",
       "  <thead>\n",
       "    <tr style=\"text-align: right;\">\n",
       "      <th></th>\n",
       "      <th>Assembly</th>\n",
       "      <th>pacbio10x</th>\n",
       "      <th>pacbio20x</th>\n",
       "      <th>pacbio40x</th>\n",
       "      <th>pacbio80x</th>\n",
       "      <th>illuminaK77</th>\n",
       "      <th>hybrid10</th>\n",
       "      <th>hybrid20</th>\n",
       "      <th>hybrid40</th>\n",
       "      <th>hybrid80</th>\n",
       "    </tr>\n",
       "  </thead>\n",
       "  <tbody>\n",
       "    <tr>\n",
       "      <th>19</th>\n",
       "      <td>NG50</td>\n",
       "      <td>42731</td>\n",
       "      <td>273158</td>\n",
       "      <td>4640801</td>\n",
       "      <td>4652986</td>\n",
       "      <td>133059</td>\n",
       "      <td>1034546</td>\n",
       "      <td>4589664</td>\n",
       "      <td>4589665</td>\n",
       "      <td>4589665</td>\n",
       "    </tr>\n",
       "    <tr>\n",
       "      <th>21</th>\n",
       "      <td>NG75</td>\n",
       "      <td>12082</td>\n",
       "      <td>199297</td>\n",
       "      <td>4640801</td>\n",
       "      <td>4652986</td>\n",
       "      <td>64443</td>\n",
       "      <td>552505</td>\n",
       "      <td>4589664</td>\n",
       "      <td>4589665</td>\n",
       "      <td>4589665</td>\n",
       "    </tr>\n",
       "    <tr>\n",
       "      <th>23</th>\n",
       "      <td>LG50</td>\n",
       "      <td>36</td>\n",
       "      <td>5</td>\n",
       "      <td>1</td>\n",
       "      <td>1</td>\n",
       "      <td>12</td>\n",
       "      <td>2</td>\n",
       "      <td>1</td>\n",
       "      <td>1</td>\n",
       "      <td>1</td>\n",
       "    </tr>\n",
       "    <tr>\n",
       "      <th>25</th>\n",
       "      <td>LG75</td>\n",
       "      <td>85</td>\n",
       "      <td>10</td>\n",
       "      <td>1</td>\n",
       "      <td>1</td>\n",
       "      <td>25</td>\n",
       "      <td>3</td>\n",
       "      <td>1</td>\n",
       "      <td>1</td>\n",
       "      <td>1</td>\n",
       "    </tr>\n",
       "  </tbody>\n",
       "</table>\n",
       "</div>"
      ],
      "text/plain": [
       "   Assembly pacbio10x pacbio20x pacbio40x pacbio80x illuminaK77 hybrid10  \\\n",
       "19     NG50     42731    273158   4640801   4652986      133059  1034546   \n",
       "21     NG75     12082    199297   4640801   4652986       64443   552505   \n",
       "23     LG50        36         5         1         1          12        2   \n",
       "25     LG75        85        10         1         1          25        3   \n",
       "\n",
       "   hybrid20 hybrid40 hybrid80  \n",
       "19  4589664  4589665  4589665  \n",
       "21  4589664  4589665  4589665  \n",
       "23        1        1        1  \n",
       "25        1        1        1  "
      ]
     },
     "execution_count": 6,
     "metadata": {},
     "output_type": "execute_result"
    }
   ],
   "source": [
    "quast_report.where(quast_report.Assembly.isin(['NG50',\n",
    "                                               'NG75',\n",
    "                                               'LG50',\n",
    "                                               'LG75'])).dropna()"
   ]
  },
  {
   "cell_type": "markdown",
   "metadata": {},
   "source": [
    "### Alignment statistics"
   ]
  },
  {
   "cell_type": "code",
   "execution_count": 7,
   "metadata": {},
   "outputs": [
    {
     "data": {
      "text/html": [
       "<div>\n",
       "<style scoped>\n",
       "    .dataframe tbody tr th:only-of-type {\n",
       "        vertical-align: middle;\n",
       "    }\n",
       "\n",
       "    .dataframe tbody tr th {\n",
       "        vertical-align: top;\n",
       "    }\n",
       "\n",
       "    .dataframe thead th {\n",
       "        text-align: right;\n",
       "    }\n",
       "</style>\n",
       "<table border=\"1\" class=\"dataframe\">\n",
       "  <thead>\n",
       "    <tr style=\"text-align: right;\">\n",
       "      <th></th>\n",
       "      <th>Assembly</th>\n",
       "      <th>pacbio10x</th>\n",
       "      <th>pacbio20x</th>\n",
       "      <th>pacbio40x</th>\n",
       "      <th>pacbio80x</th>\n",
       "      <th>illuminaK77</th>\n",
       "      <th>hybrid10</th>\n",
       "      <th>hybrid20</th>\n",
       "      <th>hybrid40</th>\n",
       "      <th>hybrid80</th>\n",
       "    </tr>\n",
       "  </thead>\n",
       "  <tbody>\n",
       "    <tr>\n",
       "      <th>14</th>\n",
       "      <td>Total length</td>\n",
       "      <td>3817958</td>\n",
       "      <td>4606872</td>\n",
       "      <td>4656609</td>\n",
       "      <td>4652986</td>\n",
       "      <td>4561340</td>\n",
       "      <td>4638678</td>\n",
       "      <td>4639164</td>\n",
       "      <td>4641289</td>\n",
       "      <td>4641289</td>\n",
       "    </tr>\n",
       "    <tr>\n",
       "      <th>15</th>\n",
       "      <td>Reference length</td>\n",
       "      <td>4639675</td>\n",
       "      <td>4639675</td>\n",
       "      <td>4639675</td>\n",
       "      <td>4639675</td>\n",
       "      <td>4639675</td>\n",
       "      <td>4639675</td>\n",
       "      <td>4639675</td>\n",
       "      <td>4639675</td>\n",
       "      <td>4639675</td>\n",
       "    </tr>\n",
       "    <tr>\n",
       "      <th>35</th>\n",
       "      <td>Genome fraction (%)</td>\n",
       "      <td>82.135</td>\n",
       "      <td>98.615</td>\n",
       "      <td>99.994</td>\n",
       "      <td>99.998</td>\n",
       "      <td>98.271</td>\n",
       "      <td>99.904</td>\n",
       "      <td>99.916</td>\n",
       "      <td>99.962</td>\n",
       "      <td>99.962</td>\n",
       "    </tr>\n",
       "    <tr>\n",
       "      <th>36</th>\n",
       "      <td>Duplication ratio</td>\n",
       "      <td>1.002</td>\n",
       "      <td>1.007</td>\n",
       "      <td>1.004</td>\n",
       "      <td>1.003</td>\n",
       "      <td>1.000</td>\n",
       "      <td>1.001</td>\n",
       "      <td>1.001</td>\n",
       "      <td>1.001</td>\n",
       "      <td>1.001</td>\n",
       "    </tr>\n",
       "    <tr>\n",
       "      <th>38</th>\n",
       "      <td># mismatches per 100 kbp</td>\n",
       "      <td>48.81</td>\n",
       "      <td>6.05</td>\n",
       "      <td>1.23</td>\n",
       "      <td>0.39</td>\n",
       "      <td>1.16</td>\n",
       "      <td>10.20</td>\n",
       "      <td>9.15</td>\n",
       "      <td>9.62</td>\n",
       "      <td>9.66</td>\n",
       "    </tr>\n",
       "    <tr>\n",
       "      <th>39</th>\n",
       "      <td># indels per 100 kbp</td>\n",
       "      <td>677.23</td>\n",
       "      <td>151.42</td>\n",
       "      <td>34.16</td>\n",
       "      <td>11.29</td>\n",
       "      <td>0.37</td>\n",
       "      <td>1.38</td>\n",
       "      <td>0.73</td>\n",
       "      <td>0.88</td>\n",
       "      <td>0.88</td>\n",
       "    </tr>\n",
       "    <tr>\n",
       "      <th>40</th>\n",
       "      <td>Largest alignment</td>\n",
       "      <td>149583</td>\n",
       "      <td>514798</td>\n",
       "      <td>3022595</td>\n",
       "      <td>3026092</td>\n",
       "      <td>315011</td>\n",
       "      <td>1034546</td>\n",
       "      <td>3023576</td>\n",
       "      <td>3023577</td>\n",
       "      <td>3023577</td>\n",
       "    </tr>\n",
       "    <tr>\n",
       "      <th>41</th>\n",
       "      <td>Total aligned length</td>\n",
       "      <td>3817753</td>\n",
       "      <td>4606854</td>\n",
       "      <td>4653329</td>\n",
       "      <td>4652984</td>\n",
       "      <td>4560081</td>\n",
       "      <td>4637935</td>\n",
       "      <td>4635836</td>\n",
       "      <td>4637961</td>\n",
       "      <td>4637961</td>\n",
       "    </tr>\n",
       "  </tbody>\n",
       "</table>\n",
       "</div>"
      ],
      "text/plain": [
       "                    Assembly pacbio10x pacbio20x pacbio40x pacbio80x  \\\n",
       "14              Total length   3817958   4606872   4656609   4652986   \n",
       "15          Reference length   4639675   4639675   4639675   4639675   \n",
       "35       Genome fraction (%)    82.135    98.615    99.994    99.998   \n",
       "36         Duplication ratio     1.002     1.007     1.004     1.003   \n",
       "38  # mismatches per 100 kbp     48.81      6.05      1.23      0.39   \n",
       "39      # indels per 100 kbp    677.23    151.42     34.16     11.29   \n",
       "40         Largest alignment    149583    514798   3022595   3026092   \n",
       "41      Total aligned length   3817753   4606854   4653329   4652984   \n",
       "\n",
       "   illuminaK77 hybrid10 hybrid20 hybrid40 hybrid80  \n",
       "14     4561340  4638678  4639164  4641289  4641289  \n",
       "15     4639675  4639675  4639675  4639675  4639675  \n",
       "35      98.271   99.904   99.916   99.962   99.962  \n",
       "36       1.000    1.001    1.001    1.001    1.001  \n",
       "38        1.16    10.20     9.15     9.62     9.66  \n",
       "39        0.37     1.38     0.73     0.88     0.88  \n",
       "40      315011  1034546  3023576  3023577  3023577  \n",
       "41     4560081  4637935  4635836  4637961  4637961  "
      ]
     },
     "execution_count": 7,
     "metadata": {},
     "output_type": "execute_result"
    }
   ],
   "source": [
    "quast_report.where(quast_report.Assembly.isin(['Genome fraction (%)',\n",
    "                                               'Total length','Reference length',\n",
    "                                               'Duplication ratio',\n",
    "                                               'Largest alignment', '# mismatches per 100 kbp',\n",
    "                                               'Total aligned length', '# indels per 100 kbp'])).dropna()"
   ]
  },
  {
   "cell_type": "markdown",
   "metadata": {},
   "source": [
    "### _По статистикам, основанным на референсе, у сборки прочтений illumina оказалось меньше ошибок в выравнивании, а у сборки pacbio больше процент покрытого генома. Их гибридная сборка, соответственно, дает в результате увеличение в проценте покрытого генома и улучшение в качестве. _"
   ]
  },
  {
   "cell_type": "markdown",
   "metadata": {},
   "source": [
    "### Missassemblies"
   ]
  },
  {
   "cell_type": "code",
   "execution_count": 8,
   "metadata": {},
   "outputs": [
    {
     "data": {
      "text/html": [
       "<div>\n",
       "<style scoped>\n",
       "    .dataframe tbody tr th:only-of-type {\n",
       "        vertical-align: middle;\n",
       "    }\n",
       "\n",
       "    .dataframe tbody tr th {\n",
       "        vertical-align: top;\n",
       "    }\n",
       "\n",
       "    .dataframe thead th {\n",
       "        text-align: right;\n",
       "    }\n",
       "</style>\n",
       "<table border=\"1\" class=\"dataframe\">\n",
       "  <thead>\n",
       "    <tr style=\"text-align: right;\">\n",
       "      <th></th>\n",
       "      <th>Assembly</th>\n",
       "      <th>pacbio10x</th>\n",
       "      <th>pacbio20x</th>\n",
       "      <th>pacbio40x</th>\n",
       "      <th>pacbio80x</th>\n",
       "      <th>illuminaK77</th>\n",
       "      <th>hybrid10</th>\n",
       "      <th>hybrid20</th>\n",
       "      <th>hybrid40</th>\n",
       "      <th>hybrid80</th>\n",
       "    </tr>\n",
       "  </thead>\n",
       "  <tbody>\n",
       "    <tr>\n",
       "      <th>26</th>\n",
       "      <td># misassemblies</td>\n",
       "      <td>11</td>\n",
       "      <td>8</td>\n",
       "      <td>8</td>\n",
       "      <td>8</td>\n",
       "      <td>0</td>\n",
       "      <td>6</td>\n",
       "      <td>6</td>\n",
       "      <td>6</td>\n",
       "      <td>6</td>\n",
       "    </tr>\n",
       "    <tr>\n",
       "      <th>27</th>\n",
       "      <td># misassembled contigs</td>\n",
       "      <td>7</td>\n",
       "      <td>3</td>\n",
       "      <td>1</td>\n",
       "      <td>1</td>\n",
       "      <td>0</td>\n",
       "      <td>2</td>\n",
       "      <td>1</td>\n",
       "      <td>1</td>\n",
       "      <td>1</td>\n",
       "    </tr>\n",
       "    <tr>\n",
       "      <th>28</th>\n",
       "      <td>Misassembled contigs length</td>\n",
       "      <td>345889</td>\n",
       "      <td>1187160</td>\n",
       "      <td>4640801</td>\n",
       "      <td>4652986</td>\n",
       "      <td>0</td>\n",
       "      <td>2499203</td>\n",
       "      <td>4589664</td>\n",
       "      <td>4589665</td>\n",
       "      <td>4589665</td>\n",
       "    </tr>\n",
       "    <tr>\n",
       "      <th>29</th>\n",
       "      <td># local misassemblies</td>\n",
       "      <td>1</td>\n",
       "      <td>2</td>\n",
       "      <td>2</td>\n",
       "      <td>2</td>\n",
       "      <td>9</td>\n",
       "      <td>6</td>\n",
       "      <td>5</td>\n",
       "      <td>5</td>\n",
       "      <td>5</td>\n",
       "    </tr>\n",
       "  </tbody>\n",
       "</table>\n",
       "</div>"
      ],
      "text/plain": [
       "                       Assembly pacbio10x pacbio20x pacbio40x pacbio80x  \\\n",
       "26              # misassemblies        11         8         8         8   \n",
       "27       # misassembled contigs         7         3         1         1   \n",
       "28  Misassembled contigs length    345889   1187160   4640801   4652986   \n",
       "29        # local misassemblies         1         2         2         2   \n",
       "\n",
       "   illuminaK77 hybrid10 hybrid20 hybrid40 hybrid80  \n",
       "26           0        6        6        6        6  \n",
       "27           0        2        1        1        1  \n",
       "28           0  2499203  4589664  4589665  4589665  \n",
       "29           9        6        5        5        5  "
      ]
     },
     "execution_count": 8,
     "metadata": {},
     "output_type": "execute_result"
    }
   ],
   "source": [
    "quast_report.where(quast_report.Assembly.isin(['# misassemblies',\n",
    "                                               '# misassembled contigs',\n",
    "                                               'Misassembled contigs length',\n",
    "                                               '# local misassemblies'])).dropna()"
   ]
  },
  {
   "cell_type": "markdown",
   "metadata": {},
   "source": [
    "### _По misassemblies прочтения illumina оказались лучше. Возможно, в pacbio они появились из-за того, что весь геном собрался в один контиг, и поэтому, в случае повторов или длинных мономеров неправильное разрешение всегда ведет к мисассемблу - а прочтения illumina в таких местах разделяются на разные контиги и выравниваются куда надо_"
   ]
  }
 ],
 "metadata": {
  "kernelspec": {
   "display_name": "Python 3",
   "language": "python",
   "name": "python3"
  },
  "language_info": {
   "codemirror_mode": {
    "name": "ipython",
    "version": 3
   },
   "file_extension": ".py",
   "mimetype": "text/x-python",
   "name": "python",
   "nbconvert_exporter": "python",
   "pygments_lexer": "ipython3",
   "version": "3.6.7"
  }
 },
 "nbformat": 4,
 "nbformat_minor": 2
}
