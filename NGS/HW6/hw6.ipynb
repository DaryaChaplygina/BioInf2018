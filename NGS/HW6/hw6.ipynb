{
 "cells": [
  {
   "cell_type": "code",
   "execution_count": 1,
   "metadata": {},
   "outputs": [],
   "source": [
    "import pandas as pd"
   ]
  },
  {
   "cell_type": "markdown",
   "metadata": {},
   "source": [
    "## Assemble PacBio reads with Canu:"
   ]
  },
  {
   "cell_type": "markdown",
   "metadata": {},
   "source": [
    "```canu -p ecoli -d ecoli-pacbio4 stopOnLowCoverage=6 genomeSize=4.8m useGrid=false -pacbio-raw ../../NGS/6/pacbio_10x.fq.gz ```"
   ]
  },
  {
   "cell_type": "markdown",
   "metadata": {},
   "source": [
    "## Assemble Illumina reads with SPAdes:"
   ]
  },
  {
   "cell_type": "markdown",
   "metadata": {},
   "source": [
    "```spades.py -k 21,33,55,77 --careful --pe1-1 ../../NGS/6/illumina.100x.1.fq.gz --pe1-2 ../../NGS/6/illumina.100x.2.fq.gz -o illumina_assembly```"
   ]
  },
  {
   "cell_type": "markdown",
   "metadata": {},
   "source": [
    "# QUAST assembly evaluation"
   ]
  },
  {
   "cell_type": "code",
   "execution_count": 2,
   "metadata": {},
   "outputs": [],
   "source": [
    "quast_report = pd.read_csv('quast_results/latest/report.tsv', delimiter='\\t')"
   ]
  },
  {
   "cell_type": "markdown",
   "metadata": {},
   "source": [
    "## Basic statistics"
   ]
  },
  {
   "cell_type": "markdown",
   "metadata": {},
   "source": [
    "### Contig sizes"
   ]
  },
  {
   "cell_type": "code",
   "execution_count": 6,
   "metadata": {
    "scrolled": true
   },
   "outputs": [
    {
     "data": {
      "text/html": [
       "<div>\n",
       "<style scoped>\n",
       "    .dataframe tbody tr th:only-of-type {\n",
       "        vertical-align: middle;\n",
       "    }\n",
       "\n",
       "    .dataframe tbody tr th {\n",
       "        vertical-align: top;\n",
       "    }\n",
       "\n",
       "    .dataframe thead th {\n",
       "        text-align: right;\n",
       "    }\n",
       "</style>\n",
       "<table border=\"1\" class=\"dataframe\">\n",
       "  <thead>\n",
       "    <tr style=\"text-align: right;\">\n",
       "      <th></th>\n",
       "      <th>Assembly</th>\n",
       "      <th>pacbio10x</th>\n",
       "      <th>pacbio20x</th>\n",
       "      <th>pacbio40x</th>\n",
       "      <th>pacbio80x</th>\n",
       "      <th>illuminaK21</th>\n",
       "      <th>illuminaK33</th>\n",
       "      <th>illuminaK55</th>\n",
       "      <th>illuminaK77</th>\n",
       "    </tr>\n",
       "  </thead>\n",
       "  <tbody>\n",
       "    <tr>\n",
       "      <th>1</th>\n",
       "      <td># contigs (&gt;= 1000 bp)</td>\n",
       "      <td>132</td>\n",
       "      <td>24</td>\n",
       "      <td>3</td>\n",
       "      <td>1</td>\n",
       "      <td>593</td>\n",
       "      <td>306</td>\n",
       "      <td>133</td>\n",
       "      <td>73</td>\n",
       "    </tr>\n",
       "    <tr>\n",
       "      <th>12</th>\n",
       "      <td># contigs</td>\n",
       "      <td>132</td>\n",
       "      <td>24</td>\n",
       "      <td>3</td>\n",
       "      <td>1</td>\n",
       "      <td>693</td>\n",
       "      <td>328</td>\n",
       "      <td>147</td>\n",
       "      <td>81</td>\n",
       "    </tr>\n",
       "    <tr>\n",
       "      <th>13</th>\n",
       "      <td>Largest contig</td>\n",
       "      <td>180610</td>\n",
       "      <td>749388</td>\n",
       "      <td>4640801</td>\n",
       "      <td>4652986</td>\n",
       "      <td>44931</td>\n",
       "      <td>81459</td>\n",
       "      <td>187502</td>\n",
       "      <td>315011</td>\n",
       "    </tr>\n",
       "    <tr>\n",
       "      <th>14</th>\n",
       "      <td>Total length</td>\n",
       "      <td>3817958</td>\n",
       "      <td>4606872</td>\n",
       "      <td>4656609</td>\n",
       "      <td>4652986</td>\n",
       "      <td>4470814</td>\n",
       "      <td>4514267</td>\n",
       "      <td>4537483</td>\n",
       "      <td>4561340</td>\n",
       "    </tr>\n",
       "  </tbody>\n",
       "</table>\n",
       "</div>"
      ],
      "text/plain": [
       "                  Assembly pacbio10x pacbio20x pacbio40x pacbio80x  \\\n",
       "1   # contigs (>= 1000 bp)       132        24         3         1   \n",
       "12               # contigs       132        24         3         1   \n",
       "13          Largest contig    180610    749388   4640801   4652986   \n",
       "14            Total length   3817958   4606872   4656609   4652986   \n",
       "\n",
       "   illuminaK21 illuminaK33 illuminaK55 illuminaK77  \n",
       "1          593         306         133          73  \n",
       "12         693         328         147          81  \n",
       "13       44931       81459      187502      315011  \n",
       "14     4470814     4514267     4537483     4561340  "
      ]
     },
     "execution_count": 6,
     "metadata": {},
     "output_type": "execute_result"
    }
   ],
   "source": [
    "quast_report.where(quast_report.Assembly.isin(['# contigs',\n",
    "                                               '# contigs (>= 1000 bp)',\n",
    "                                               'Largest contig',\n",
    "                                               'Total length'])).dropna()"
   ]
  },
  {
   "cell_type": "markdown",
   "metadata": {},
   "source": [
    "![gc1](pics/cumulative_plot.png)"
   ]
  },
  {
   "cell_type": "markdown",
   "metadata": {},
   "source": [
    "### Nx and Lx"
   ]
  },
  {
   "cell_type": "code",
   "execution_count": 7,
   "metadata": {},
   "outputs": [
    {
     "data": {
      "text/html": [
       "<div>\n",
       "<style scoped>\n",
       "    .dataframe tbody tr th:only-of-type {\n",
       "        vertical-align: middle;\n",
       "    }\n",
       "\n",
       "    .dataframe tbody tr th {\n",
       "        vertical-align: top;\n",
       "    }\n",
       "\n",
       "    .dataframe thead th {\n",
       "        text-align: right;\n",
       "    }\n",
       "</style>\n",
       "<table border=\"1\" class=\"dataframe\">\n",
       "  <thead>\n",
       "    <tr style=\"text-align: right;\">\n",
       "      <th></th>\n",
       "      <th>Assembly</th>\n",
       "      <th>pacbio10x</th>\n",
       "      <th>pacbio20x</th>\n",
       "      <th>pacbio40x</th>\n",
       "      <th>pacbio80x</th>\n",
       "      <th>illuminaK21</th>\n",
       "      <th>illuminaK33</th>\n",
       "      <th>illuminaK55</th>\n",
       "      <th>illuminaK77</th>\n",
       "    </tr>\n",
       "  </thead>\n",
       "  <tbody>\n",
       "    <tr>\n",
       "      <th>18</th>\n",
       "      <td>N50</td>\n",
       "      <td>47884</td>\n",
       "      <td>273158</td>\n",
       "      <td>4640801</td>\n",
       "      <td>4652986</td>\n",
       "      <td>10524</td>\n",
       "      <td>25441</td>\n",
       "      <td>61808</td>\n",
       "      <td>133059</td>\n",
       "    </tr>\n",
       "    <tr>\n",
       "      <th>20</th>\n",
       "      <td>N75</td>\n",
       "      <td>26677</td>\n",
       "      <td>199297</td>\n",
       "      <td>4640801</td>\n",
       "      <td>4652986</td>\n",
       "      <td>6493</td>\n",
       "      <td>12671</td>\n",
       "      <td>39099</td>\n",
       "      <td>66190</td>\n",
       "    </tr>\n",
       "    <tr>\n",
       "      <th>22</th>\n",
       "      <td>L50</td>\n",
       "      <td>27</td>\n",
       "      <td>5</td>\n",
       "      <td>1</td>\n",
       "      <td>1</td>\n",
       "      <td>128</td>\n",
       "      <td>56</td>\n",
       "      <td>21</td>\n",
       "      <td>12</td>\n",
       "    </tr>\n",
       "    <tr>\n",
       "      <th>24</th>\n",
       "      <td>L75</td>\n",
       "      <td>52</td>\n",
       "      <td>10</td>\n",
       "      <td>1</td>\n",
       "      <td>1</td>\n",
       "      <td>267</td>\n",
       "      <td>120</td>\n",
       "      <td>43</td>\n",
       "      <td>24</td>\n",
       "    </tr>\n",
       "  </tbody>\n",
       "</table>\n",
       "</div>"
      ],
      "text/plain": [
       "   Assembly pacbio10x pacbio20x pacbio40x pacbio80x illuminaK21 illuminaK33  \\\n",
       "18      N50     47884    273158   4640801   4652986       10524       25441   \n",
       "20      N75     26677    199297   4640801   4652986        6493       12671   \n",
       "22      L50        27         5         1         1         128          56   \n",
       "24      L75        52        10         1         1         267         120   \n",
       "\n",
       "   illuminaK55 illuminaK77  \n",
       "18       61808      133059  \n",
       "20       39099       66190  \n",
       "22          21          12  \n",
       "24          43          24  "
      ]
     },
     "execution_count": 7,
     "metadata": {},
     "output_type": "execute_result"
    }
   ],
   "source": [
    "quast_report.where(quast_report.Assembly.isin(['N50',\n",
    "                                               'N75',\n",
    "                                               'L50',\n",
    "                                               'L75'])).dropna()"
   ]
  },
  {
   "cell_type": "markdown",
   "metadata": {},
   "source": [
    "![gc1](pics/Nx_plot.png)"
   ]
  },
  {
   "cell_type": "markdown",
   "metadata": {},
   "source": [
    "### GC content and Ns"
   ]
  },
  {
   "cell_type": "code",
   "execution_count": 10,
   "metadata": {
    "scrolled": false
   },
   "outputs": [
    {
     "data": {
      "text/html": [
       "<div>\n",
       "<style scoped>\n",
       "    .dataframe tbody tr th:only-of-type {\n",
       "        vertical-align: middle;\n",
       "    }\n",
       "\n",
       "    .dataframe tbody tr th {\n",
       "        vertical-align: top;\n",
       "    }\n",
       "\n",
       "    .dataframe thead th {\n",
       "        text-align: right;\n",
       "    }\n",
       "</style>\n",
       "<table border=\"1\" class=\"dataframe\">\n",
       "  <thead>\n",
       "    <tr style=\"text-align: right;\">\n",
       "      <th></th>\n",
       "      <th>Assembly</th>\n",
       "      <th>pacbio10x</th>\n",
       "      <th>pacbio20x</th>\n",
       "      <th>pacbio40x</th>\n",
       "      <th>pacbio80x</th>\n",
       "      <th>illuminaK21</th>\n",
       "      <th>illuminaK33</th>\n",
       "      <th>illuminaK55</th>\n",
       "      <th>illuminaK77</th>\n",
       "    </tr>\n",
       "  </thead>\n",
       "  <tbody>\n",
       "    <tr>\n",
       "      <th>16</th>\n",
       "      <td>GC (%)</td>\n",
       "      <td>50.50</td>\n",
       "      <td>50.76</td>\n",
       "      <td>50.76</td>\n",
       "      <td>50.79</td>\n",
       "      <td>50.72</td>\n",
       "      <td>50.75</td>\n",
       "      <td>50.75</td>\n",
       "      <td>50.74</td>\n",
       "    </tr>\n",
       "    <tr>\n",
       "      <th>37</th>\n",
       "      <td># N's per 100 kbp</td>\n",
       "      <td>0.00</td>\n",
       "      <td>0.00</td>\n",
       "      <td>0.00</td>\n",
       "      <td>0.00</td>\n",
       "      <td>0.00</td>\n",
       "      <td>0.00</td>\n",
       "      <td>0.00</td>\n",
       "      <td>0.00</td>\n",
       "    </tr>\n",
       "  </tbody>\n",
       "</table>\n",
       "</div>"
      ],
      "text/plain": [
       "             Assembly pacbio10x pacbio20x pacbio40x pacbio80x illuminaK21  \\\n",
       "16             GC (%)     50.50     50.76     50.76     50.79       50.72   \n",
       "37  # N's per 100 kbp      0.00      0.00      0.00      0.00        0.00   \n",
       "\n",
       "   illuminaK33 illuminaK55 illuminaK77  \n",
       "16       50.75       50.75       50.74  \n",
       "37        0.00        0.00        0.00  "
      ]
     },
     "execution_count": 10,
     "metadata": {},
     "output_type": "execute_result"
    }
   ],
   "source": [
    "quast_report.where(quast_report.Assembly.isin(['GC (%)',\n",
    "                                               '# N\\'s per 100 kbp'])).dropna()"
   ]
  },
  {
   "cell_type": "markdown",
   "metadata": {},
   "source": [
    "### _По базовым статистикам сборка прочтений pacbio с максимальным покрытием оказалась самой лучшей - потому что они собрались в один контиг_"
   ]
  },
  {
   "cell_type": "markdown",
   "metadata": {},
   "source": [
    "## Reference-based metrics"
   ]
  },
  {
   "cell_type": "markdown",
   "metadata": {},
   "source": [
    "### NGx and LGx"
   ]
  },
  {
   "cell_type": "code",
   "execution_count": 11,
   "metadata": {},
   "outputs": [
    {
     "data": {
      "text/html": [
       "<div>\n",
       "<style scoped>\n",
       "    .dataframe tbody tr th:only-of-type {\n",
       "        vertical-align: middle;\n",
       "    }\n",
       "\n",
       "    .dataframe tbody tr th {\n",
       "        vertical-align: top;\n",
       "    }\n",
       "\n",
       "    .dataframe thead th {\n",
       "        text-align: right;\n",
       "    }\n",
       "</style>\n",
       "<table border=\"1\" class=\"dataframe\">\n",
       "  <thead>\n",
       "    <tr style=\"text-align: right;\">\n",
       "      <th></th>\n",
       "      <th>Assembly</th>\n",
       "      <th>pacbio10x</th>\n",
       "      <th>pacbio20x</th>\n",
       "      <th>pacbio40x</th>\n",
       "      <th>pacbio80x</th>\n",
       "      <th>illuminaK21</th>\n",
       "      <th>illuminaK33</th>\n",
       "      <th>illuminaK55</th>\n",
       "      <th>illuminaK77</th>\n",
       "    </tr>\n",
       "  </thead>\n",
       "  <tbody>\n",
       "    <tr>\n",
       "      <th>19</th>\n",
       "      <td>NG50</td>\n",
       "      <td>42731</td>\n",
       "      <td>273158</td>\n",
       "      <td>4640801</td>\n",
       "      <td>4652986</td>\n",
       "      <td>10092</td>\n",
       "      <td>24744</td>\n",
       "      <td>61808</td>\n",
       "      <td>133059</td>\n",
       "    </tr>\n",
       "    <tr>\n",
       "      <th>21</th>\n",
       "      <td>NG75</td>\n",
       "      <td>12082</td>\n",
       "      <td>199297</td>\n",
       "      <td>4640801</td>\n",
       "      <td>4652986</td>\n",
       "      <td>5762</td>\n",
       "      <td>11450</td>\n",
       "      <td>35764</td>\n",
       "      <td>64443</td>\n",
       "    </tr>\n",
       "    <tr>\n",
       "      <th>23</th>\n",
       "      <td>LG50</td>\n",
       "      <td>36</td>\n",
       "      <td>5</td>\n",
       "      <td>1</td>\n",
       "      <td>1</td>\n",
       "      <td>136</td>\n",
       "      <td>58</td>\n",
       "      <td>21</td>\n",
       "      <td>12</td>\n",
       "    </tr>\n",
       "    <tr>\n",
       "      <th>25</th>\n",
       "      <td>LG75</td>\n",
       "      <td>85</td>\n",
       "      <td>10</td>\n",
       "      <td>1</td>\n",
       "      <td>1</td>\n",
       "      <td>288</td>\n",
       "      <td>128</td>\n",
       "      <td>45</td>\n",
       "      <td>25</td>\n",
       "    </tr>\n",
       "  </tbody>\n",
       "</table>\n",
       "</div>"
      ],
      "text/plain": [
       "   Assembly pacbio10x pacbio20x pacbio40x pacbio80x illuminaK21 illuminaK33  \\\n",
       "19     NG50     42731    273158   4640801   4652986       10092       24744   \n",
       "21     NG75     12082    199297   4640801   4652986        5762       11450   \n",
       "23     LG50        36         5         1         1         136          58   \n",
       "25     LG75        85        10         1         1         288         128   \n",
       "\n",
       "   illuminaK55 illuminaK77  \n",
       "19       61808      133059  \n",
       "21       35764       64443  \n",
       "23          21          12  \n",
       "25          45          25  "
      ]
     },
     "execution_count": 11,
     "metadata": {},
     "output_type": "execute_result"
    }
   ],
   "source": [
    "quast_report.where(quast_report.Assembly.isin(['NG50',\n",
    "                                               'NG75',\n",
    "                                               'LG50',\n",
    "                                               'LG75'])).dropna()"
   ]
  },
  {
   "cell_type": "markdown",
   "metadata": {},
   "source": [
    "### Alignment statistics"
   ]
  },
  {
   "cell_type": "code",
   "execution_count": 14,
   "metadata": {},
   "outputs": [
    {
     "data": {
      "text/html": [
       "<div>\n",
       "<style scoped>\n",
       "    .dataframe tbody tr th:only-of-type {\n",
       "        vertical-align: middle;\n",
       "    }\n",
       "\n",
       "    .dataframe tbody tr th {\n",
       "        vertical-align: top;\n",
       "    }\n",
       "\n",
       "    .dataframe thead th {\n",
       "        text-align: right;\n",
       "    }\n",
       "</style>\n",
       "<table border=\"1\" class=\"dataframe\">\n",
       "  <thead>\n",
       "    <tr style=\"text-align: right;\">\n",
       "      <th></th>\n",
       "      <th>Assembly</th>\n",
       "      <th>pacbio10x</th>\n",
       "      <th>pacbio20x</th>\n",
       "      <th>pacbio40x</th>\n",
       "      <th>pacbio80x</th>\n",
       "      <th>illuminaK21</th>\n",
       "      <th>illuminaK33</th>\n",
       "      <th>illuminaK55</th>\n",
       "      <th>illuminaK77</th>\n",
       "    </tr>\n",
       "  </thead>\n",
       "  <tbody>\n",
       "    <tr>\n",
       "      <th>14</th>\n",
       "      <td>Total length</td>\n",
       "      <td>3817958</td>\n",
       "      <td>4606872</td>\n",
       "      <td>4656609</td>\n",
       "      <td>4652986</td>\n",
       "      <td>4470814</td>\n",
       "      <td>4514267</td>\n",
       "      <td>4537483</td>\n",
       "      <td>4561340</td>\n",
       "    </tr>\n",
       "    <tr>\n",
       "      <th>15</th>\n",
       "      <td>Reference length</td>\n",
       "      <td>4639675</td>\n",
       "      <td>4639675</td>\n",
       "      <td>4639675</td>\n",
       "      <td>4639675</td>\n",
       "      <td>4639675</td>\n",
       "      <td>4639675</td>\n",
       "      <td>4639675</td>\n",
       "      <td>4639675</td>\n",
       "    </tr>\n",
       "    <tr>\n",
       "      <th>35</th>\n",
       "      <td>Genome fraction (%)</td>\n",
       "      <td>82.135</td>\n",
       "      <td>98.615</td>\n",
       "      <td>99.994</td>\n",
       "      <td>99.998</td>\n",
       "      <td>96.227</td>\n",
       "      <td>97.215</td>\n",
       "      <td>97.743</td>\n",
       "      <td>98.271</td>\n",
       "    </tr>\n",
       "    <tr>\n",
       "      <th>36</th>\n",
       "      <td>Duplication ratio</td>\n",
       "      <td>1.002</td>\n",
       "      <td>1.007</td>\n",
       "      <td>1.004</td>\n",
       "      <td>1.003</td>\n",
       "      <td>1.001</td>\n",
       "      <td>1.001</td>\n",
       "      <td>1.000</td>\n",
       "      <td>1.000</td>\n",
       "    </tr>\n",
       "    <tr>\n",
       "      <th>38</th>\n",
       "      <td># mismatches per 100 kbp</td>\n",
       "      <td>48.81</td>\n",
       "      <td>6.05</td>\n",
       "      <td>1.23</td>\n",
       "      <td>0.39</td>\n",
       "      <td>0.09</td>\n",
       "      <td>0.07</td>\n",
       "      <td>0.11</td>\n",
       "      <td>1.16</td>\n",
       "    </tr>\n",
       "    <tr>\n",
       "      <th>39</th>\n",
       "      <td># indels per 100 kbp</td>\n",
       "      <td>677.23</td>\n",
       "      <td>151.42</td>\n",
       "      <td>34.16</td>\n",
       "      <td>11.29</td>\n",
       "      <td>0.07</td>\n",
       "      <td>0.07</td>\n",
       "      <td>0.11</td>\n",
       "      <td>0.37</td>\n",
       "    </tr>\n",
       "    <tr>\n",
       "      <th>40</th>\n",
       "      <td>Largest alignment</td>\n",
       "      <td>149583</td>\n",
       "      <td>514798</td>\n",
       "      <td>3022595</td>\n",
       "      <td>3026092</td>\n",
       "      <td>44931</td>\n",
       "      <td>81428</td>\n",
       "      <td>187502</td>\n",
       "      <td>315011</td>\n",
       "    </tr>\n",
       "    <tr>\n",
       "      <th>41</th>\n",
       "      <td>Total aligned length</td>\n",
       "      <td>3817753</td>\n",
       "      <td>4606854</td>\n",
       "      <td>4653329</td>\n",
       "      <td>4652984</td>\n",
       "      <td>4470100</td>\n",
       "      <td>4513480</td>\n",
       "      <td>4536582</td>\n",
       "      <td>4560081</td>\n",
       "    </tr>\n",
       "  </tbody>\n",
       "</table>\n",
       "</div>"
      ],
      "text/plain": [
       "                    Assembly pacbio10x pacbio20x pacbio40x pacbio80x  \\\n",
       "14              Total length   3817958   4606872   4656609   4652986   \n",
       "15          Reference length   4639675   4639675   4639675   4639675   \n",
       "35       Genome fraction (%)    82.135    98.615    99.994    99.998   \n",
       "36         Duplication ratio     1.002     1.007     1.004     1.003   \n",
       "38  # mismatches per 100 kbp     48.81      6.05      1.23      0.39   \n",
       "39      # indels per 100 kbp    677.23    151.42     34.16     11.29   \n",
       "40         Largest alignment    149583    514798   3022595   3026092   \n",
       "41      Total aligned length   3817753   4606854   4653329   4652984   \n",
       "\n",
       "   illuminaK21 illuminaK33 illuminaK55 illuminaK77  \n",
       "14     4470814     4514267     4537483     4561340  \n",
       "15     4639675     4639675     4639675     4639675  \n",
       "35      96.227      97.215      97.743      98.271  \n",
       "36       1.001       1.001       1.000       1.000  \n",
       "38        0.09        0.07        0.11        1.16  \n",
       "39        0.07        0.07        0.11        0.37  \n",
       "40       44931       81428      187502      315011  \n",
       "41     4470100     4513480     4536582     4560081  "
      ]
     },
     "execution_count": 14,
     "metadata": {},
     "output_type": "execute_result"
    }
   ],
   "source": [
    "quast_report.where(quast_report.Assembly.isin(['Genome fraction (%)',\n",
    "                                               'Total length','Reference length',\n",
    "                                               'Duplication ratio',\n",
    "                                               'Largest alignment', '# mismatches per 100 kbp',\n",
    "                                               'Total aligned length', '# indels per 100 kbp'])).dropna()"
   ]
  },
  {
   "cell_type": "markdown",
   "metadata": {},
   "source": [
    "### Missaemblies"
   ]
  },
  {
   "cell_type": "code",
   "execution_count": 15,
   "metadata": {},
   "outputs": [
    {
     "data": {
      "text/html": [
       "<div>\n",
       "<style scoped>\n",
       "    .dataframe tbody tr th:only-of-type {\n",
       "        vertical-align: middle;\n",
       "    }\n",
       "\n",
       "    .dataframe tbody tr th {\n",
       "        vertical-align: top;\n",
       "    }\n",
       "\n",
       "    .dataframe thead th {\n",
       "        text-align: right;\n",
       "    }\n",
       "</style>\n",
       "<table border=\"1\" class=\"dataframe\">\n",
       "  <thead>\n",
       "    <tr style=\"text-align: right;\">\n",
       "      <th></th>\n",
       "      <th>Assembly</th>\n",
       "      <th>pacbio10x</th>\n",
       "      <th>pacbio20x</th>\n",
       "      <th>pacbio40x</th>\n",
       "      <th>pacbio80x</th>\n",
       "      <th>illuminaK21</th>\n",
       "      <th>illuminaK33</th>\n",
       "      <th>illuminaK55</th>\n",
       "      <th>illuminaK77</th>\n",
       "    </tr>\n",
       "  </thead>\n",
       "  <tbody>\n",
       "    <tr>\n",
       "      <th>26</th>\n",
       "      <td># misassemblies</td>\n",
       "      <td>11</td>\n",
       "      <td>8</td>\n",
       "      <td>8</td>\n",
       "      <td>8</td>\n",
       "      <td>0</td>\n",
       "      <td>0</td>\n",
       "      <td>0</td>\n",
       "      <td>0</td>\n",
       "    </tr>\n",
       "    <tr>\n",
       "      <th>27</th>\n",
       "      <td># misassembled contigs</td>\n",
       "      <td>7</td>\n",
       "      <td>3</td>\n",
       "      <td>1</td>\n",
       "      <td>1</td>\n",
       "      <td>0</td>\n",
       "      <td>0</td>\n",
       "      <td>0</td>\n",
       "      <td>0</td>\n",
       "    </tr>\n",
       "    <tr>\n",
       "      <th>28</th>\n",
       "      <td>Misassembled contigs length</td>\n",
       "      <td>345889</td>\n",
       "      <td>1187160</td>\n",
       "      <td>4640801</td>\n",
       "      <td>4652986</td>\n",
       "      <td>0</td>\n",
       "      <td>0</td>\n",
       "      <td>0</td>\n",
       "      <td>0</td>\n",
       "    </tr>\n",
       "    <tr>\n",
       "      <th>29</th>\n",
       "      <td># local misassemblies</td>\n",
       "      <td>1</td>\n",
       "      <td>2</td>\n",
       "      <td>2</td>\n",
       "      <td>2</td>\n",
       "      <td>0</td>\n",
       "      <td>0</td>\n",
       "      <td>4</td>\n",
       "      <td>9</td>\n",
       "    </tr>\n",
       "  </tbody>\n",
       "</table>\n",
       "</div>"
      ],
      "text/plain": [
       "                       Assembly pacbio10x pacbio20x pacbio40x pacbio80x  \\\n",
       "26              # misassemblies        11         8         8         8   \n",
       "27       # misassembled contigs         7         3         1         1   \n",
       "28  Misassembled contigs length    345889   1187160   4640801   4652986   \n",
       "29        # local misassemblies         1         2         2         2   \n",
       "\n",
       "   illuminaK21 illuminaK33 illuminaK55 illuminaK77  \n",
       "26           0           0           0           0  \n",
       "27           0           0           0           0  \n",
       "28           0           0           0           0  \n",
       "29           0           0           4           9  "
      ]
     },
     "execution_count": 15,
     "metadata": {},
     "output_type": "execute_result"
    }
   ],
   "source": [
    "quast_report.where(quast_report.Assembly.isin(['# misassemblies',\n",
    "                                               '# misassembled contigs',\n",
    "                                               'Misassembled contigs length',\n",
    "                                               '# local misassemblies'])).dropna()"
   ]
  },
  {
   "cell_type": "markdown",
   "metadata": {},
   "source": [
    "### _По статистикам, основанным на референсе, у сборки прочтений illumina оказалось меньше ошибок в выравнивании, но и длина покрытого генома меньше. По missassemblies (как это перевести-то?) прочтения illumina тоже оказались лучше, но кажется, что сравнивать длины и количества плохих контигов неправильно, учитывая, что из хороших прочтений pacbio получилось 1-3 контига_"
   ]
  }
 ],
 "metadata": {
  "kernelspec": {
   "display_name": "Python 3",
   "language": "python",
   "name": "python3"
  },
  "language_info": {
   "codemirror_mode": {
    "name": "ipython",
    "version": 3
   },
   "file_extension": ".py",
   "mimetype": "text/x-python",
   "name": "python",
   "nbconvert_exporter": "python",
   "pygments_lexer": "ipython3",
   "version": "3.6.7"
  }
 },
 "nbformat": 4,
 "nbformat_minor": 2
}
