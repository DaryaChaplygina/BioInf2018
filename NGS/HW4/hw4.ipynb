{
 "cells": [
  {
   "cell_type": "code",
   "execution_count": 1,
   "metadata": {},
   "outputs": [],
   "source": [
    "import numpy as np\n",
    "import pandas as pd\n",
    "import pysam\n",
    "from Bio import pairwise2\n",
    "from matplotlib import pyplot as plt\n",
    "%matplotlib inline"
   ]
  },
  {
   "cell_type": "markdown",
   "metadata": {},
   "source": [
    "# Methods"
   ]
  },
  {
   "cell_type": "markdown",
   "metadata": {},
   "source": [
    "__Вычисление статистики коррекции ридов__ производилось следующим образом: из sam-файла доставалась последовательность рида и его выравнивание (MD-tag). Для исправленного рида и обычного находились множества позиций, в которых стоят N, и позиций с ошибками. Далее смотрелись различные пересечения/разности этих множеств и множества всех позиций в риде."
   ]
  },
  {
   "cell_type": "code",
   "execution_count": 10,
   "metadata": {},
   "outputs": [],
   "source": [
    "def compare_bamfiles(filename, filename_corr):\n",
    "    stats = pd.DataFrame({'Error in corrected reads' : [0, 0],\n",
    "                          'Correct base in corrected reads' : [0, 0],\n",
    "                          'Base is absent in corrected reads' : [0, 0]\n",
    "                         })\n",
    "    stats = stats.set_index(pd.Series(['Error in raw data', 'Correct base in raw data']))\n",
    "    stats_array = [0 for _ in range(6)]\n",
    "    read_positions = get_read_pos_set(filename)\n",
    "    \n",
    "    all_reads = open(filename, 'r')\n",
    "    curr_read, curr_read_rev = [\"\" for _ in range(4)], [\"\" for _ in range(4)]\n",
    "    corr_rn = ''\n",
    "    \n",
    "    with open(filename_corr) as corr_reads:\n",
    "        for read in corr_reads:\n",
    "            read = read.split(' ')\n",
    "            \n",
    "            if read[0] != corr_rn:\n",
    "                corr_rn = read[0]\n",
    "                while curr_read[0] != read[0]:\n",
    "                    curr_read = next(all_reads).split(' ')\n",
    "                curr_read_rev = next(all_reads).split(' ')\n",
    "                \n",
    "                if curr_read[1].startswith('-'):\n",
    "                    curr_read, curr_read_rev = curr_read_rev, curr_read\n",
    "              \n",
    "            \n",
    "            shift = align_reads(curr_read_rev if read[1].startswith('-') else curr_read, read)\n",
    "            errs_corr = count_errors(read, shift)\n",
    "            \n",
    "            if read[1].startswith('-'):\n",
    "                update_stats(stats_array, count_errors(curr_read_rev), errs_corr, read_positions)\n",
    "            else:\n",
    "                update_stats(stats_array, count_errors(curr_read), errs_corr, read_positions)\n",
    "            \n",
    "    stats['Error in corrected reads'] = stats_array[:2]\n",
    "    stats['Correct base in corrected reads'] = stats_array[2:4]\n",
    "    stats['Base is absent in corrected reads'] = stats_array[4:]\n",
    "    \n",
    "    return stats"
   ]
  },
  {
   "cell_type": "code",
   "execution_count": 14,
   "metadata": {},
   "outputs": [],
   "source": [
    "def align_reads(read, read_corr):\n",
    "    if len(read[2]) == len(read_corr[2]):\n",
    "        return 0\n",
    "    \n",
    "    read_len = len(read[2])\n",
    "    shift = 0\n",
    "    aligned_corr = read_corr[2]\n",
    "    p1, p2 = int(read[4]), int(read_corr[4])\n",
    "    \n",
    "    if read[1].startswith('-') and p1 >= p2 \\\n",
    "       and len(aligned_corr) + (p1 - p2) <= read_len:\n",
    "        shift = p1 - p2\n",
    "        \n",
    "    elif (not read[1].startswith('-')) and p1 <= p2\\\n",
    "       and len(aligned_corr) + (p2 - p1) <= read_len:\n",
    "        shift = p2 - p1\n",
    "        \n",
    "    else:\n",
    "        return 0\n",
    "        \n",
    "    aligned_corr =('N' * shift) + aligned_corr \n",
    "    read_corr[2] = aligned_corr + ('N' * (read_len - len(aligned_corr)))\n",
    "    return shift"
   ]
  },
  {
   "cell_type": "code",
   "execution_count": 4,
   "metadata": {},
   "outputs": [],
   "source": [
    "def update_stats(stats_array, errs, errs_corr, read_positions):\n",
    "    stats_array[0] += len(errs_corr['err'] & errs['err'])\n",
    "    stats_array[1] += len(errs_corr['err'] - errs['err'] - errs['N'])\n",
    "    stats_array[2] += len(errs['err'] - errs_corr['err'])\n",
    "    stats_array[3] += len((read_positions - errs['err'] - errs['N']) \n",
    "                          & (read_positions - errs_corr['err'] - errs_corr['N'])) \n",
    "    stats_array[4] += len(errs_corr['N'] & errs['err'])\n",
    "    stats_array[5] += len(errs_corr['N'] - errs['err'] - errs['N'])"
   ]
  },
  {
   "cell_type": "code",
   "execution_count": 15,
   "metadata": {},
   "outputs": [],
   "source": [
    "def count_errors(read, shift=0):\n",
    "    errs = {'err': set(), 'N': set()}\n",
    "    \n",
    "    for i in range(len(read[2])):\n",
    "        if read[2][i] == 'N':\n",
    "            errs['N'].add(i)\n",
    "    \n",
    "    int_ = ''\n",
    "    isdel = False\n",
    "    curr_pos = 0\n",
    "    for c in read[3].split(':')[2].replace('\\n', ''):\n",
    "        \n",
    "        if c.isdigit():\n",
    "            int_ += c\n",
    "            isdel = False\n",
    "        elif c in \"ACTG\" and not isdel:\n",
    "            curr_pos += int(int_)\n",
    "            errs['err'].add(curr_pos + shift)\n",
    "            curr_pos += 1 \n",
    "            int_ = ''\n",
    "        elif isdel:\n",
    "            continue\n",
    "        elif c == '^':\n",
    "            isdel = True\n",
    "            curr_pos += int(int_)\n",
    "            int_ = ''\n",
    "        else:\n",
    "            curr_pos += int(int_)\n",
    "            int_ = ''\n",
    "            \n",
    "    return errs"
   ]
  },
  {
   "cell_type": "code",
   "execution_count": 6,
   "metadata": {},
   "outputs": [],
   "source": [
    "def get_read_pos_set(filename):\n",
    "    bamfile = open(filename, 'r')\n",
    "\n",
    "    for read in bamfile:\n",
    "        return set(range(len(read.split(' ')[2])))"
   ]
  },
  {
   "cell_type": "markdown",
   "metadata": {},
   "source": [
    "# Procesing dataset"
   ]
  },
  {
   "cell_type": "markdown",
   "metadata": {},
   "source": [
    "``bwa index MG1655-K12.first10K.fasta ``\n",
    "\n",
    "``bwa mem MG1655-K12.first10K.fasta ecoli_10K_err_1.fastq ecoli_10K_err_2.fastq > ecoli_aln.sam``\n",
    "\n",
    "``samtools sort -n ecoli_aln.sam > ecoli_aln.bam``\n",
    "\n",
    "``samtools view -h ecoli_aln.bam > ecoli_aln_sorted.sam``\n",
    "\n",
    "``cat  ecoli_aln_sorted.sam | awk 'NR>3 {print $1, $9, $10, $13}' > ecoli_aln_features``"
   ]
  },
  {
   "cell_type": "markdown",
   "metadata": {},
   "source": [
    "# BayesHammer correction statistics"
   ]
  },
  {
   "cell_type": "markdown",
   "metadata": {},
   "source": [
    "``spades.py -k 55 --careful --only-error-correction --pe1-1 ecoli_10K_err_1.fastq  --pe1-2 ecoli_10K_err_2.fastq -o spades_correction``"
   ]
  },
  {
   "cell_type": "markdown",
   "metadata": {},
   "source": [
    "## ecoli_10K"
   ]
  },
  {
   "cell_type": "code",
   "execution_count": 40,
   "metadata": {},
   "outputs": [
    {
     "data": {
      "text/html": [
       "<div>\n",
       "<style scoped>\n",
       "    .dataframe tbody tr th:only-of-type {\n",
       "        vertical-align: middle;\n",
       "    }\n",
       "\n",
       "    .dataframe tbody tr th {\n",
       "        vertical-align: top;\n",
       "    }\n",
       "\n",
       "    .dataframe thead th {\n",
       "        text-align: right;\n",
       "    }\n",
       "</style>\n",
       "<table border=\"1\" class=\"dataframe\">\n",
       "  <thead>\n",
       "    <tr style=\"text-align: right;\">\n",
       "      <th></th>\n",
       "      <th>Error in corrected reads</th>\n",
       "      <th>Correct base in corrected reads</th>\n",
       "      <th>Base is absent in corrected reads</th>\n",
       "    </tr>\n",
       "  </thead>\n",
       "  <tbody>\n",
       "    <tr>\n",
       "      <th>Error in raw data</th>\n",
       "      <td>3099</td>\n",
       "      <td>48327</td>\n",
       "      <td>30185</td>\n",
       "    </tr>\n",
       "    <tr>\n",
       "      <th>Correct base in raw data</th>\n",
       "      <td>9017</td>\n",
       "      <td>5230155</td>\n",
       "      <td>515351</td>\n",
       "    </tr>\n",
       "  </tbody>\n",
       "</table>\n",
       "</div>"
      ],
      "text/plain": [
       "                          Error in corrected reads  \\\n",
       "Error in raw data                             3099   \n",
       "Correct base in raw data                      9017   \n",
       "\n",
       "                          Correct base in corrected reads  \\\n",
       "Error in raw data                                   48327   \n",
       "Correct base in raw data                          5230155   \n",
       "\n",
       "                          Base is absent in corrected reads  \n",
       "Error in raw data                                     30185  \n",
       "Correct base in raw data                             515351  "
      ]
     },
     "execution_count": 40,
     "metadata": {},
     "output_type": "execute_result"
    }
   ],
   "source": [
    "stats = compare_bamfiles('data2/ecoli_aln_features', 'data2/ecoli_aln_corr_features')\n",
    "stats"
   ]
  },
  {
   "cell_type": "markdown",
   "metadata": {},
   "source": [
    "## ecoli_400K"
   ]
  },
  {
   "cell_type": "code",
   "execution_count": 41,
   "metadata": {},
   "outputs": [
    {
     "data": {
      "text/html": [
       "<div>\n",
       "<style scoped>\n",
       "    .dataframe tbody tr th:only-of-type {\n",
       "        vertical-align: middle;\n",
       "    }\n",
       "\n",
       "    .dataframe tbody tr th {\n",
       "        vertical-align: top;\n",
       "    }\n",
       "\n",
       "    .dataframe thead th {\n",
       "        text-align: right;\n",
       "    }\n",
       "</style>\n",
       "<table border=\"1\" class=\"dataframe\">\n",
       "  <thead>\n",
       "    <tr style=\"text-align: right;\">\n",
       "      <th></th>\n",
       "      <th>Error in corrected reads</th>\n",
       "      <th>Correct base in corrected reads</th>\n",
       "      <th>Base is absent in corrected reads</th>\n",
       "    </tr>\n",
       "  </thead>\n",
       "  <tbody>\n",
       "    <tr>\n",
       "      <th>Error in raw data</th>\n",
       "      <td>218364</td>\n",
       "      <td>2062525</td>\n",
       "      <td>1222058</td>\n",
       "    </tr>\n",
       "    <tr>\n",
       "      <th>Correct base in raw data</th>\n",
       "      <td>438655</td>\n",
       "      <td>249219560</td>\n",
       "      <td>19995699</td>\n",
       "    </tr>\n",
       "  </tbody>\n",
       "</table>\n",
       "</div>"
      ],
      "text/plain": [
       "                          Error in corrected reads  \\\n",
       "Error in raw data                           218364   \n",
       "Correct base in raw data                    438655   \n",
       "\n",
       "                          Correct base in corrected reads  \\\n",
       "Error in raw data                                 2062525   \n",
       "Correct base in raw data                        249219560   \n",
       "\n",
       "                          Base is absent in corrected reads  \n",
       "Error in raw data                                   1222058  \n",
       "Correct base in raw data                           19995699  "
      ]
     },
     "execution_count": 41,
     "metadata": {},
     "output_type": "execute_result"
    }
   ],
   "source": [
    "stats = compare_bamfiles('data1/ecoli_aln_features', 'data1/ecoli_aln_corr_features')\n",
    "stats"
   ]
  },
  {
   "cell_type": "markdown",
   "metadata": {},
   "source": [
    "# Quake correction statistics"
   ]
  },
  {
   "cell_type": "markdown",
   "metadata": {},
   "source": [
    "``jellyfish count --quality-start 33  -m 15 -s 10000000 -C ecoli_10K_err_1.fastq ecoli_10K_err_2.fastq ``\n",
    "\n",
    "``jellyfish dump mer_counts.jf > mer_counts.txt``\n",
    "\n",
    "``parse_kmers.py > kmers.txt``\n",
    "\n",
    "``cov_model.py --int kmers.txt ``\n",
    "\n",
    "``correct -f fastq_files -q 33 -k 15 -c 5 -m kmers.txt``"
   ]
  },
  {
   "cell_type": "markdown",
   "metadata": {},
   "source": [
    "## ecoli_10K"
   ]
  },
  {
   "cell_type": "code",
   "execution_count": 16,
   "metadata": {},
   "outputs": [
    {
     "data": {
      "text/html": [
       "<div>\n",
       "<style scoped>\n",
       "    .dataframe tbody tr th:only-of-type {\n",
       "        vertical-align: middle;\n",
       "    }\n",
       "\n",
       "    .dataframe tbody tr th {\n",
       "        vertical-align: top;\n",
       "    }\n",
       "\n",
       "    .dataframe thead th {\n",
       "        text-align: right;\n",
       "    }\n",
       "</style>\n",
       "<table border=\"1\" class=\"dataframe\">\n",
       "  <thead>\n",
       "    <tr style=\"text-align: right;\">\n",
       "      <th></th>\n",
       "      <th>Error in corrected reads</th>\n",
       "      <th>Correct base in corrected reads</th>\n",
       "      <th>Base is absent in corrected reads</th>\n",
       "    </tr>\n",
       "  </thead>\n",
       "  <tbody>\n",
       "    <tr>\n",
       "      <th>Error in raw data</th>\n",
       "      <td>2590</td>\n",
       "      <td>45600</td>\n",
       "      <td>16393</td>\n",
       "    </tr>\n",
       "    <tr>\n",
       "      <th>Correct base in raw data</th>\n",
       "      <td>1284</td>\n",
       "      <td>5329863</td>\n",
       "      <td>283355</td>\n",
       "    </tr>\n",
       "  </tbody>\n",
       "</table>\n",
       "</div>"
      ],
      "text/plain": [
       "                          Error in corrected reads  \\\n",
       "Error in raw data                             2590   \n",
       "Correct base in raw data                      1284   \n",
       "\n",
       "                          Correct base in corrected reads  \\\n",
       "Error in raw data                                   45600   \n",
       "Correct base in raw data                          5329863   \n",
       "\n",
       "                          Base is absent in corrected reads  \n",
       "Error in raw data                                     16393  \n",
       "Correct base in raw data                             283355  "
      ]
     },
     "execution_count": 16,
     "metadata": {},
     "output_type": "execute_result"
    }
   ],
   "source": [
    "stats_q = compare_bamfiles('data2/ecoli_aln_features', 'data2/ecoli_quake_features')\n",
    "stats_q"
   ]
  },
  {
   "cell_type": "markdown",
   "metadata": {},
   "source": [
    "## ecoli_400K"
   ]
  },
  {
   "cell_type": "code",
   "execution_count": 17,
   "metadata": {},
   "outputs": [
    {
     "data": {
      "text/html": [
       "<div>\n",
       "<style scoped>\n",
       "    .dataframe tbody tr th:only-of-type {\n",
       "        vertical-align: middle;\n",
       "    }\n",
       "\n",
       "    .dataframe tbody tr th {\n",
       "        vertical-align: top;\n",
       "    }\n",
       "\n",
       "    .dataframe thead th {\n",
       "        text-align: right;\n",
       "    }\n",
       "</style>\n",
       "<table border=\"1\" class=\"dataframe\">\n",
       "  <thead>\n",
       "    <tr style=\"text-align: right;\">\n",
       "      <th></th>\n",
       "      <th>Error in corrected reads</th>\n",
       "      <th>Correct base in corrected reads</th>\n",
       "      <th>Base is absent in corrected reads</th>\n",
       "    </tr>\n",
       "  </thead>\n",
       "  <tbody>\n",
       "    <tr>\n",
       "      <th>Error in raw data</th>\n",
       "      <td>162848</td>\n",
       "      <td>1993658</td>\n",
       "      <td>669123</td>\n",
       "    </tr>\n",
       "    <tr>\n",
       "      <th>Correct base in raw data</th>\n",
       "      <td>63841</td>\n",
       "      <td>253265878</td>\n",
       "      <td>11183960</td>\n",
       "    </tr>\n",
       "  </tbody>\n",
       "</table>\n",
       "</div>"
      ],
      "text/plain": [
       "                          Error in corrected reads  \\\n",
       "Error in raw data                           162848   \n",
       "Correct base in raw data                     63841   \n",
       "\n",
       "                          Correct base in corrected reads  \\\n",
       "Error in raw data                                 1993658   \n",
       "Correct base in raw data                        253265878   \n",
       "\n",
       "                          Base is absent in corrected reads  \n",
       "Error in raw data                                    669123  \n",
       "Correct base in raw data                           11183960  "
      ]
     },
     "execution_count": 17,
     "metadata": {},
     "output_type": "execute_result"
    }
   ],
   "source": [
    "stats_q = compare_bamfiles('data1/ecoli_aln_features', 'data1/ecoli_quake_features')\n",
    "stats_q"
   ]
  }
 ],
 "metadata": {
  "kernelspec": {
   "display_name": "Python 3",
   "language": "python",
   "name": "python3"
  },
  "language_info": {
   "codemirror_mode": {
    "name": "ipython",
    "version": 3
   },
   "file_extension": ".py",
   "mimetype": "text/x-python",
   "name": "python",
   "nbconvert_exporter": "python",
   "pygments_lexer": "ipython3",
   "version": "3.6.7"
  }
 },
 "nbformat": 4,
 "nbformat_minor": 2
}
