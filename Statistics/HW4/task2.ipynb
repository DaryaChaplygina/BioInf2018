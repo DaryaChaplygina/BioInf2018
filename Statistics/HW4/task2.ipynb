{
 "cells": [
  {
   "cell_type": "code",
   "execution_count": 1,
   "metadata": {
    "collapsed": true
   },
   "outputs": [],
   "source": [
    "import numpy as np\n",
    "import scipy.stats as st\n",
    "import seaborn as sns\n",
    "%matplotlib inline"
   ]
  },
  {
   "cell_type": "code",
   "execution_count": 2,
   "metadata": {
    "collapsed": true
   },
   "outputs": [],
   "source": [
    "def generate_params(a, N, na):\n",
    "    a_list = np.random.normal(3, 3, N)\n",
    "    a_list[:na] = np.full((na, ), a)\n",
    "    std_list = [1] * N\n",
    "    np.random.shuffle(a_list)\n",
    "    return a_list, std_list"
   ]
  },
  {
   "cell_type": "code",
   "execution_count": 3,
   "metadata": {
    "collapsed": true
   },
   "outputs": [],
   "source": [
    "def generate_samples(a, std, a_list, std_list, n=200):\n",
    "    x = np.random.normal(a, std, n)\n",
    "    pool = []\n",
    "    for i in range(len(a_list)):\n",
    "        pool.append(np.random.normal(a_list[i], std_list[i], n))\n",
    "    return x, pool"
   ]
  },
  {
   "cell_type": "code",
   "execution_count": 4,
   "metadata": {
    "collapsed": true
   },
   "outputs": [],
   "source": [
    "def count_t(x, y):\n",
    "    n = x.shape[0]\n",
    "    m = y.shape[0]\n",
    "    S1 = np.mean((x - np.mean(x))**2) * n / (n - 1)\n",
    "    S2 = np.mean((y - np.mean(y))**2) * m / (m - 1)\n",
    "    t = (np.mean(x) - np.mean(y)) / np.sqrt(1/n + 1/m)\n",
    "    return t"
   ]
  },
  {
   "cell_type": "code",
   "execution_count": 5,
   "metadata": {
    "collapsed": true
   },
   "outputs": [],
   "source": [
    "def check_H0(t, alpha):\n",
    "    z1 = st.norm.ppf(alpha / 2)\n",
    "    z2 = st.norm.ppf(1 - alpha / 2)\n",
    "    if z1 <= t <= z2:\n",
    "        return True\n",
    "    else:\n",
    "        return False"
   ]
  },
  {
   "cell_type": "code",
   "execution_count": 6,
   "metadata": {
    "collapsed": true
   },
   "outputs": [],
   "source": [
    "def show_errors(a, std, N=100, na=4, n_iter=100, alpha=0.05, bf=False):\n",
    "    a_list, std_list = generate_params(a, N, na)\n",
    "    x, pool = generate_samples(a, std, a_list, std_list)\n",
    "    \n",
    "    typeI_errors = 0\n",
    "    typeII_errors = 0\n",
    "    H0 = True\n",
    "    for i in range(N):\n",
    "        t = count_t(x, pool[i])\n",
    "        if bf:\n",
    "            H0 = check_H0(t, alpha / N)\n",
    "        else:\n",
    "            H0 = check_H0(t, alpha)\n",
    "            \n",
    "        if a_list[i] == a and not H0:\n",
    "            typeI_errors += 1\n",
    "        elif a_list[i] != a and H0:\n",
    "            typeII_errors += 1\n",
    "            \n",
    "    print(\"          |Верна H0 |Верна H1\\n\"\n",
    "          \"----------------------------\\n\"\n",
    "          \"Приняли H0| {}\\t    |{}\\n\"\n",
    "          \"----------------------------\\n\"\n",
    "          \"Приняли H1| {}\\t    |{}\".format(na - typeI_errors, typeII_errors, \n",
    "                    typeI_errors, N - na - typeII_errors))"
   ]
  },
  {
   "cell_type": "markdown",
   "metadata": {},
   "source": [
    "Были сгенерированы выборка из $\\mathcal{N}(5, 1)$ и пул из $500$ выборок из нормального распределения с дисперсией $1$. $150$ из этих выборок имели мат. ожидание $5$, для остальных $350$ мат. ожидание было взято случайно из распределения $\\mathcal{N}(3, 3)$. Для целевый выборки и выборки из пула были произведены проверки гипотезы о равенстве мат. ожиданий с уровнем значимости $\\alpha=0.05$. Ниже в таблицах показаны значения ошибок I и II рода при обычном рассмотрении гипотез и с поправкой Бонферрони. Как видно, при обычном рассмотрении уровень ошибок I рода превышает $\\alpha$, а поправка Бонферрони уменьшает ошибки I рода, увеличивая ошибки II рода."
   ]
  },
  {
   "cell_type": "code",
   "execution_count": 7,
   "metadata": {},
   "outputs": [
    {
     "name": "stdout",
     "output_type": "stream",
     "text": [
      "\n",
      "Результат проверки гипотез:\n",
      "\n",
      "          |Верна H0 |Верна H1\n",
      "----------------------------\n",
      "Приняли H0| 147\t    |9\n",
      "----------------------------\n",
      "Приняли H1| 3\t    |341\n",
      "\n",
      "Результат проверки гипотез с поправкой Бонферрони:\n",
      "\n",
      "          |Верна H0 |Верна H1\n",
      "----------------------------\n",
      "Приняли H0| 150\t    |24\n",
      "----------------------------\n",
      "Приняли H1| 0\t    |326\n"
     ]
    }
   ],
   "source": [
    "a = 5\n",
    "std = 1\n",
    "print(\"\\nРезультат проверки гипотез:\\n\")\n",
    "show_errors(a, std, 500, 150)\n",
    "print(\"\\nРезультат проверки гипотез с поправкой Бонферрони:\\n\")\n",
    "show_errors(a, std, 500, 150, bf=True)"
   ]
  },
  {
   "cell_type": "code",
   "execution_count": 8,
   "metadata": {
    "collapsed": true
   },
   "outputs": [],
   "source": [
    "def show_FWER_plot(a, std, N=100, na=4, n_iter=100):\n",
    "    a_list, std_list = generate_params(a, N, na)\n",
    "    \n",
    "    FWER_list = []\n",
    "    for alpha in np.arange(0, 1.01, 0.05):\n",
    "        FWER = 0\n",
    "        for _ in range(n_iter):\n",
    "            typeI_errors = 0\n",
    "            x, pool = generate_samples(a, std, a_list, std_list)\n",
    "            for i in range(N):\n",
    "                t = count_t(x, pool[i])\n",
    "                H0 = check_H0(t, alpha / N)\n",
    "                if a_list[i] == a and not H0:\n",
    "                    typeI_errors += 1\n",
    "            \n",
    "            if typeI_errors == 0:\n",
    "                FWER += 1\n",
    "                \n",
    "        FWER_list.append(1 - (FWER / n_iter))\n",
    "    \n",
    "    sns.plt.plot(np.arange(0, 1.01, 0.05), FWER_list)\n",
    "    sns.plt.plot([0, 1], [0, 1])\n",
    "    sns.plt.legend([\"зависимость FWER от уровня значимости\", \"прямая y=x\"], bbox_to_anchor=(1, 1))\n",
    "    sns.plt.xlabel('alpha')\n",
    "    sns.plt.ylabel('FWER')\n",
    "    sns.plt.show()"
   ]
  },
  {
   "cell_type": "markdown",
   "metadata": {},
   "source": [
    "Ниже на графике показана зависимость групповой вероятности ошибки I рода (FWER) от выбранного уровня значимости $\\alpha$ при поправке Бонферрони. Из графика видно, что поправка Бонферрони понижает FWER."
   ]
  },
  {
   "cell_type": "code",
   "execution_count": 9,
   "metadata": {},
   "outputs": [
    {
     "data": {
      "image/png": "[encoded data removed]",
      "text/plain": [
       "<matplotlib.figure.Figure at 0x7f8749b70cf8>"
      ]
     },
     "metadata": {},
     "output_type": "display_data"
    }
   ],
   "source": [
    "show_FWER_plot(a, std, N=100, na=27)"
   ]
  }
 ],
 "metadata": {
  "kernelspec": {
   "display_name": "Python 3",
   "language": "python",
   "name": "python3"
  },
  "language_info": {
   "codemirror_mode": {
    "name": "ipython",
    "version": 3
   },
   "file_extension": ".py",
   "mimetype": "text/x-python",
   "name": "python",
   "nbconvert_exporter": "python",
   "pygments_lexer": "ipython3",
   "version": "3.6.1"
  }
 },
 "nbformat": 4,
 "nbformat_minor": 2
}
