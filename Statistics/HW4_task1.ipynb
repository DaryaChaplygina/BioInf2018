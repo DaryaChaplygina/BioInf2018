{
 "cells": [
  {
   "cell_type": "code",
   "execution_count": 1,
   "metadata": {
    "collapsed": true
   },
   "outputs": [],
   "source": [
    "import numpy as np\n",
    "import scipy.stats as st\n",
    "import seaborn as sns\n",
    "%matplotlib inline"
   ]
  },
  {
   "cell_type": "code",
   "execution_count": 2,
   "metadata": {
    "collapsed": true
   },
   "outputs": [],
   "source": [
    "def generate_sample(a1, a2, std, n, m):\n",
    "    x = np.random.normal(a1, std, n)\n",
    "    y = np.random.normal(a2, std, m)\n",
    "    return x, y"
   ]
  },
  {
   "cell_type": "code",
   "execution_count": 3,
   "metadata": {
    "collapsed": true
   },
   "outputs": [],
   "source": [
    "def count_t(x, y, std):\n",
    "    n = x.shape[0]\n",
    "    m = y.shape[0]\n",
    "    S1 = np.mean((x - np.mean(x))**2) * n / (n - 1)\n",
    "    S2 = np.mean((y - np.mean(y))**2) * m / (m - 1)\n",
    "    t = (np.mean(x) - np.mean(y)) / (np.sqrt(S1/n + S2/m))\n",
    "    return t"
   ]
  },
  {
   "cell_type": "code",
   "execution_count": 4,
   "metadata": {
    "collapsed": true
   },
   "outputs": [],
   "source": [
    "def count_u(x, y):\n",
    "    n = x.shape[0]\n",
    "    m = y.shape[0]\n",
    "    union_sample = [c for c in x] + [c for c in y]\n",
    "    indexes = [0] * n + [1] * m\n",
    "    union_sample, indexes = zip(*sorted(zip(union_sample, indexes)))\n",
    "    \n",
    "    T0, T1 = 0, 0\n",
    "    for i in range(len(union_sample)):\n",
    "        if indexes[i] == 0:\n",
    "            T0 += i + 1\n",
    "        else:\n",
    "            T1 += i + 1\n",
    "    k = n if (T0 > T1) else m\n",
    "    \n",
    "    u = n * m + (k * (k + 1)) / 2 - max(T0, T1)\n",
    "    return u"
   ]
  },
  {
   "cell_type": "code",
   "execution_count": 5,
   "metadata": {
    "collapsed": true
   },
   "outputs": [],
   "source": [
    "def check_H0_t(t, alpha):\n",
    "    z1 = st.norm.ppf(alpha / 2)\n",
    "    z2 = st.norm.ppf(1 - alpha / 2)\n",
    "    if z1 <= t <= z2:\n",
    "        return True\n",
    "    else:\n",
    "        return False"
   ]
  },
  {
   "cell_type": "code",
   "execution_count": 6,
   "metadata": {
    "collapsed": true
   },
   "outputs": [],
   "source": [
    "def check_H0_u(u, alpha, n, m):\n",
    "    z1 = st.norm.ppf(alpha / 2)\n",
    "    z2 = st.norm.ppf(1 - alpha / 2)\n",
    "    u_normed = (u - n * m / 2) / np.sqrt(n * m * (n + m + 1) / 12)\n",
    "    \n",
    "    if z1 <= u_normed <= z2:\n",
    "        return True\n",
    "    else:\n",
    "        return False"
   ]
  },
  {
   "cell_type": "code",
   "execution_count": 10,
   "metadata": {
    "collapsed": true
   },
   "outputs": [],
   "source": [
    "def show_power(a1, a2, std, n, m, n_iter=200):\n",
    "    power_u_list = []\n",
    "    power_t_list = []\n",
    "    for alpha in np.arange(0, 1.01, 0.05):\n",
    "        n_errors_t = 0\n",
    "        n_errors_u = 0\n",
    "        for _ in range(n_iter):\n",
    "            x, y = generate_sample(a1, a2, std, n, m)\n",
    "            t = count_t(x, y, std)\n",
    "            u = count_u(x, y)\n",
    "            if check_H0_t(t, alpha):\n",
    "                n_errors_t += 1\n",
    "            if check_H0_u(u, alpha, x.shape[0], y.shape[0]):\n",
    "                n_errors_u += 1\n",
    "                \n",
    "        power_t_list.append(1 - n_errors_t / n_iter)\n",
    "        power_u_list.append(1 - n_errors_u / n_iter)\n",
    "\n",
    "    legend = ['зависимость частоты ошибки \\nвторого рода от уровня значимости']\n",
    "\n",
    "    sns.plt.plot(np.arange(0, 1.01, 0.05), power_t_list, c='violet')\n",
    "    sns.plt.plot(np.arange(0, 1.01, 0.05), power_u_list)\n",
    "    sns.plt.legend(['зависимость мощности t-теста\\n от уровня значимости',\n",
    "                    'зависимость мощности критерия Манна-Уитни\\n от уровня значимости'],  bbox_to_anchor=(1, 1))\n",
    "    sns.plt.xlabel('уровень значимости')\n",
    "    sns.plt.ylabel('мощность')\n",
    "    sns.plt.show()"
   ]
  },
  {
   "cell_type": "code",
   "execution_count": 11,
   "metadata": {},
   "outputs": [
    {
     "data": {
      "image/png": "[encoded data removed]",
      "text/plain": [
       "<matplotlib.figure.Figure at 0x7efe416bb390>"
      ]
     },
     "metadata": {},
     "output_type": "display_data"
    }
   ],
   "source": [
    "show_power(0, 0.5, 1, 30, 50)"
   ]
  }
 ],
 "metadata": {
  "kernelspec": {
   "display_name": "Python 3",
   "language": "python",
   "name": "python3"
  },
  "language_info": {
   "codemirror_mode": {
    "name": "ipython",
    "version": 3
   },
   "file_extension": ".py",
   "mimetype": "text/x-python",
   "name": "python",
   "nbconvert_exporter": "python",
   "pygments_lexer": "ipython3",
   "version": "3.6.1"
  }
 },
 "nbformat": 4,
 "nbformat_minor": 2
}
