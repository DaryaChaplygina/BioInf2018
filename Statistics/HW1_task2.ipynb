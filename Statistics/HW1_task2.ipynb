{
 "cells": [
  {
   "cell_type": "code",
   "execution_count": 1,
   "metadata": {},
   "outputs": [],
   "source": [
    "import numpy as np\n",
    "from scipy.optimize import fsolve\n",
    "import seaborn as sns\n",
    "from matplotlib import pyplot as plt\n",
    "%matplotlib inline"
   ]
  },
  {
   "cell_type": "markdown",
   "metadata": {},
   "source": [
    "Генерация выборки для заданных $N$ и $p$: случайно выбираются длины векторов $X_i$, затем для каждого вектора длины $n_i$ генерируется число единиц в нем, имеющее биномиальное распределение $Bin(n_i, p)$. Для $X_i$ так же запоминается значение $I(X_i) = 0$, если в $X_i$ не было единиц и $1$ иначе."
   ]
  },
  {
   "cell_type": "code",
   "execution_count": 2,
   "metadata": {
    "collapsed": true
   },
   "outputs": [],
   "source": [
    "def generate_sample(p, N):\n",
    "    n = np.random.randint(low=1, high=20, size=N)\n",
    "    X = np.zeros((N, ))\n",
    "    I = np.zeros((N, ))\n",
    "\n",
    "    for i in range(N):\n",
    "        X[i] = np.random.binomial(n[i], p)\n",
    "        if (X[i] > 0):\n",
    "            I[i] = 1\n",
    "    \n",
    "    return n, X, I"
   ]
  },
  {
   "cell_type": "code",
   "execution_count": 3,
   "metadata": {},
   "outputs": [],
   "source": [
    "def find_estimation(p, N):\n",
    "    n, X, I = generate_sample(p, N)\n",
    "    \n",
    "    # equation to count eml\n",
    "    eq = lambda x: sum(I / (1 - (1 - x) ** n)) - N\n",
    "    \n",
    "    p_est = fsolve(eq, .5)[0]\n",
    "    return p_est"
   ]
  },
  {
   "cell_type": "markdown",
   "metadata": {},
   "source": [
    "Всего было сгенерировано 300 выборок с $N = 10000$ и $p = 0.7$. Для каждой выборки была подсчитана оценка для $p$\n",
    "по методу максимального правдоподобия: $\\widehat{p} $"
   ]
  },
  {
   "cell_type": "code",
   "execution_count": 4,
   "metadata": {},
   "outputs": [],
   "source": [
    "N = 10000\n",
    "p = .7\n",
    "\n",
    "est = []\n",
    "n_samples = 300\n",
    "for i in range(n_samples):\n",
    "    est.append(find_estimation(p, N) / p)"
   ]
  },
  {
   "cell_type": "markdown",
   "metadata": {},
   "source": [
    "Для моделирования оценки плотности распределения $\\widehat{p}/p$ была построена гистограмма:"
   ]
  },
  {
   "cell_type": "code",
   "execution_count": 5,
   "metadata": {},
   "outputs": [
    {
     "name": "stdout",
     "output_type": "stream",
     "text": [
      "\n"
     ]
    },
    {
     "data": {
      "image/png": "[encoded data removed]",
      "text/plain": [
       "<matplotlib.figure.Figure at 0x7f80cd7cf278>"
      ]
     },
     "metadata": {},
     "output_type": "display_data"
    }
   ],
   "source": [
    "plt.hist(est)\n",
    "print()"
   ]
  }
 ],
 "metadata": {
  "kernelspec": {
   "display_name": "Python 3",
   "language": "python",
   "name": "python3"
  },
  "language_info": {
   "codemirror_mode": {
    "name": "ipython",
    "version": 3
   },
   "file_extension": ".py",
   "mimetype": "text/x-python",
   "name": "python",
   "nbconvert_exporter": "python",
   "pygments_lexer": "ipython3",
   "version": "3.6.1"
  }
 },
 "nbformat": 4,
 "nbformat_minor": 2
}
