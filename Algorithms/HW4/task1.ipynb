{
 "cells": [
  {
   "cell_type": "code",
   "execution_count": 1,
   "metadata": {
    "collapsed": true
   },
   "outputs": [],
   "source": [
    "import numpy as np"
   ]
  },
  {
   "cell_type": "markdown",
   "metadata": {},
   "source": [
    "# Построение филогенетических деревьев алгоритмом W(U)PGMA"
   ]
  },
  {
   "cell_type": "code",
   "execution_count": 2,
   "metadata": {
    "collapsed": true
   },
   "outputs": [],
   "source": [
    "def wupgma(dist, clust_names, key=\"w\"):\n",
    "    n = dist.shape[0]\n",
    "    dist_dynamic = fill_dist_matrix(dist)\n",
    "    clust_size = np.ones((n))\n",
    "    clust_heights = np.zeros((n))\n",
    "    clust_str = clust_names.copy()\n",
    "    \n",
    "    union_dist_i, union_dist_j = 0, 0\n",
    "    i, j = 0, 0\n",
    "    for _ in range(n - 1):\n",
    "        i, j = np.unravel_index(dist_dynamic.argmin(), dist_dynamic.shape)\n",
    "        \n",
    "        if key == \"w\":\n",
    "            union_dist_i, union_dist_j, dist_dynamic = \\\n",
    "              recount_dist_wupgma(i, j, 0.5, 0.5, dist_dynamic, clust_heights)\n",
    "                \n",
    "        elif key == \"u\":\n",
    "            s = clust_size[i] + clust_size[j]\n",
    "            coef_i = clust_size[i] / s\n",
    "            coef_j = clust_size[j] / s\n",
    "            union_dist_i, union_dist_j, dist_dynamic = \\\n",
    "              recount_dist_wupgma(i, j, coef_i, coef_j, dist_dynamic, clust_heights)\n",
    "        \n",
    "        clust_str[i] = \"({}:{}, {}:{})\".format(clust_str[i], \n",
    "                                               round(union_dist_i, 3), clust_str[j], round(union_dist_j, 3)) \n",
    "        clust_size[i] += 1\n",
    "        clust_heights[i] += union_dist_i\n",
    "        \n",
    "    return clust_str[i]"
   ]
  },
  {
   "cell_type": "code",
   "execution_count": 3,
   "metadata": {
    "collapsed": true
   },
   "outputs": [],
   "source": [
    "def recount_dist_wupgma(i, j, coef_i, coef_j, dist, heights):\n",
    "    dist_i = dist[i, j] / 2 - heights[i]\n",
    "    dist_j = dist[i, j] / 2 - heights[j]\n",
    "    \n",
    "    for k in range(dist.shape[0]):\n",
    "        if k != j and k != i:\n",
    "            dist[i, k] = dist[k, i] = dist[k, i] * coef_i + dist[k, j] * coef_j\n",
    "    \n",
    "    for k in range(dist.shape[0]):\n",
    "        dist[k, j] = dist[j, k] = np.inf\n",
    "        \n",
    "    return dist_i, dist_j, dist"
   ]
  },
  {
   "cell_type": "markdown",
   "metadata": {},
   "source": [
    "# Построение филогенетических деревьев алгоритмом Neighbor Joining"
   ]
  },
  {
   "cell_type": "code",
   "execution_count": 4,
   "metadata": {},
   "outputs": [],
   "source": [
    "def neighbor_joining(dist, clust_names):\n",
    "    n = dist.shape[0]\n",
    "    dist_dynamic = fill_dist_matrix(dist)\n",
    "    clust_str = clust_names.copy()\n",
    "    \n",
    "    a, b = 0, 0\n",
    "    for i in range(n - 2):\n",
    "        a, b, dist_a, dist_b = minimize_dist(dist_dynamic, n - i)\n",
    "        dist_dynamic = recount_dist_nj(dist_dynamic, a, b)\n",
    "            \n",
    "        if i != (n - 3):\n",
    "            clust_str[a] = \"({}:{}, {}:{})\".format(clust_str[a], \n",
    "                                               round(dist_a, 3), clust_str[b], round(dist_b, 3))\n",
    "        else:\n",
    "            j, k = np.unravel_index(dist_dynamic.argmin(), dist_dynamic.shape) \n",
    "            c = j if a == k or b == k else k\n",
    "            \n",
    "            clust_str[a] = \"({}:{}, {}:{}, {}:{})\".format(clust_str[a], round(dist_a, 3), \n",
    "                                                          clust_str[b], round(dist_b, 3),\n",
    "                                                          clust_str[c], round(dist_dynamic[j][k], 3))\n",
    "            \n",
    "    return clust_str[a]"
   ]
  },
  {
   "cell_type": "code",
   "execution_count": 5,
   "metadata": {},
   "outputs": [],
   "source": [
    "# helpful functions for NJ\n",
    "def count_sum_dists(dist):\n",
    "    n = dist.shape[0]\n",
    "    sum_dists = np.full((n,), np.inf)\n",
    "    for i in range(n):\n",
    "        sum_i = np.inf\n",
    "        for j in range(n):\n",
    "            if dist[i, j] != np.inf:\n",
    "                sum_i = dist[i, j] if sum_i == np.inf else sum_i + dist[i, j]\n",
    "\n",
    "        sum_dists[i] = sum_i\n",
    "        \n",
    "    return sum_dists\n",
    "\n",
    "def minimize_dist(dist, N):\n",
    "    n = dist.shape[0]\n",
    "    sum_dists = count_sum_dists(dist)\n",
    "    to_minimize = lambda x, y: dist[x, y] - (sum_dists[x] - dist[x, y] + sum_dists[y] - dist[x, y]) / (N - 2)\n",
    "    \n",
    "    a, b, d = 0, 0, np.inf\n",
    "    for i in range(n):\n",
    "        for j in range(i + 1, n):\n",
    "            if dist[i, j] != np.inf and to_minimize(i, j) <= d:\n",
    "                d = to_minimize(i, j)\n",
    "                a = i\n",
    "                b = j\n",
    "                \n",
    "    dist_a = 0.5 * (dist[a, b] + (sum_dists[a] - sum_dists[b]) / (N - 2))\n",
    "    dist_b = 0.5 * (dist[a, b] + (sum_dists[b] - sum_dists[a]) / (N - 2))\n",
    "    \n",
    "    return a, b, dist_a, dist_b\n",
    "\n",
    "def recount_dist_nj(dist, a, b):\n",
    "    n = dist.shape[0]\n",
    "    for k in range(n):\n",
    "        if k != a and k != b:\n",
    "            dist[a, k] = dist[k, a] = 0.5 * (dist[b, k] + dist[a, k] - dist[a, b])\n",
    "\n",
    "    for k in range(n):\n",
    "        dist[b, k] = dist[k, b] = np.inf\n",
    "\n",
    "    return dist"
   ]
  },
  {
   "cell_type": "code",
   "execution_count": 6,
   "metadata": {
    "collapsed": true
   },
   "outputs": [],
   "source": [
    "def fill_dist_matrix(dist):\n",
    "    new_m = dist.astype(float).copy()\n",
    "    \n",
    "    for i in range(dist.shape[0]):\n",
    "        new_m[i, i] = np.inf\n",
    "        for j in range(i):\n",
    "            new_m[i, j] = new_m[j, i]\n",
    "            \n",
    "    return new_m"
   ]
  },
  {
   "cell_type": "markdown",
   "metadata": {},
   "source": [
    "# Тесты 1-2"
   ]
  },
  {
   "cell_type": "code",
   "execution_count": 7,
   "metadata": {
    "collapsed": true
   },
   "outputs": [],
   "source": [
    "def test1():\n",
    "    a = np.asarray([[0, 16, 16, 10],\n",
    "                    [0, 0, 8, 8],\n",
    "                    [0, 0, 0, 4],\n",
    "                    [0, 0, 0, 0]])\n",
    "    print(\"WPGMA: {}\".format(wupgma(a, [\"A\", \"B\", \"C\", \"D\"], \"w\")))\n",
    "    print(\"UPGMA: {}\".format(wupgma(a, [\"A\", \"B\", \"C\", \"D\"], \"u\")))\n",
    "    print(\"NJ: {}\".format(neighbor_joining(a, [\"A\", \"B\", \"C\", \"D\"])))"
   ]
  },
  {
   "cell_type": "code",
   "execution_count": 8,
   "metadata": {},
   "outputs": [
    {
     "name": "stdout",
     "output_type": "stream",
     "text": [
      "WPGMA: (A:7.25, (B:4.0, (C:2.0, D:2.0):2.0):3.25)\n",
      "UPGMA: (A:7.0, (B:4.0, (C:2.0, D:2.0):2.0):3.0)\n",
      "NJ: (B:5.5, (C:3.5, D:0.5):0.5, A:10.5)\n"
     ]
    }
   ],
   "source": [
    "test1()"
   ]
  },
  {
   "cell_type": "code",
   "execution_count": 9,
   "metadata": {
    "collapsed": true
   },
   "outputs": [],
   "source": [
    "def test2():\n",
    "    a = np.asarray([[0, 5, 4, 7, 6, 8],\n",
    "                    [0, 0, 7, 10, 9, 11],\n",
    "                    [0, 0, 0, 7, 6, 8],\n",
    "                    [0, 0, 0, 0, 5, 9],\n",
    "                    [0, 0, 0, 0, 0, 8],\n",
    "                    [0, 0, 0, 0, 0, 0]])\n",
    "    print(\"WPGMA: {}\".format(wupgma(a, [\"A\", \"B\", \"C\", \"D\", \"E\", \"F\"], \"w\")))\n",
    "    print(\"UPGMA: {}\".format(wupgma(a, [\"A\", \"B\", \"C\", \"D\", \"E\", \"F\"], \"u\")))\n",
    "    print(\"NJ: {}\".format(neighbor_joining(a, [\"A\", \"B\", \"C\", \"D\", \"E\", \"F\"])))"
   ]
  },
  {
   "cell_type": "code",
   "execution_count": 10,
   "metadata": {
    "scrolled": true
   },
   "outputs": [
    {
     "name": "stdout",
     "output_type": "stream",
     "text": [
      "WPGMA: ((((A:2.0, C:2.0):1.0, B:3.0):1.0, (D:2.5, E:2.5):1.5):0.5, F:4.5)\n",
      "UPGMA: ((((A:2.0, C:2.0):1.0, B:3.0):0.75, (D:2.5, E:2.5):1.25):0.65, F:4.4)\n",
      "NJ: (((A:1.0, B:4.0):1.0, C:2.0):1.0, (D:3.0, E:2.0):1.0, F:5.0)\n"
     ]
    }
   ],
   "source": [
    "test2()"
   ]
  }
 ],
 "metadata": {
  "kernelspec": {
   "display_name": "Python 3",
   "language": "python",
   "name": "python3"
  },
  "language_info": {
   "codemirror_mode": {
    "name": "ipython",
    "version": 3
   },
   "file_extension": ".py",
   "mimetype": "text/x-python",
   "name": "python",
   "nbconvert_exporter": "python",
   "pygments_lexer": "ipython3",
   "version": "3.6.1"
  }
 },
 "nbformat": 4,
 "nbformat_minor": 2
}
