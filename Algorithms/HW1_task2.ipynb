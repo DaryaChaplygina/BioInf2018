{
 "cells": [
  {
   "cell_type": "code",
   "execution_count": 1,
   "metadata": {
    "collapsed": true
   },
   "outputs": [],
   "source": [
    "import numpy as np"
   ]
  },
  {
   "cell_type": "markdown",
   "metadata": {},
   "source": [
    "# Глобальное выравнивание"
   ]
  },
  {
   "cell_type": "code",
   "execution_count": 2,
   "metadata": {
    "collapsed": true
   },
   "outputs": [],
   "source": [
    "def show_alignment(a, b, DP, gap, mismatch, match):\n",
    "    s1 = \"\"\n",
    "    s2 = \"\"\n",
    "    \n",
    "    i, j = len(a), len(b)\n",
    "    while (i != 0) & (j != 0):\n",
    "        if (a[i - 1] == b[j - 1]) & (DP[i, j] == DP[i - 1, j - 1] + match):\n",
    "            s1 += a[i - 1]\n",
    "            s2 += b[j - 1]\n",
    "            i -= 1\n",
    "            j -= 1\n",
    "            \n",
    "        elif (a[i - 1] != b[j - 1]) & (DP[i, j] == DP[i - 1, j - 1] + mismatch):\n",
    "            s1 += a[i - 1]\n",
    "            s2 += b[j - 1]\n",
    "            i -= 1\n",
    "            j -= 1\n",
    "            \n",
    "        elif DP[i, j] == DP[i - 1, j] + gap:\n",
    "            s1 += a[i - 1]\n",
    "            s2 += \"_\"\n",
    "            i -= 1\n",
    "            \n",
    "        else:\n",
    "            s1 += \"_\"\n",
    "            s2 += b[j - 1]\n",
    "            j -= 1\n",
    "            \n",
    "            \n",
    "    if (i == 0):\n",
    "        s1 += \"_\" * j\n",
    "        s2 += (b[:j])[::-1]\n",
    "        \n",
    "    elif (j == 0):\n",
    "        s1 += (a[:i])[::-1]\n",
    "        s2 += \"_\" * i\n",
    "        \n",
    "    print(s1[::-1])\n",
    "    print(s2[::-1])"
   ]
  },
  {
   "cell_type": "code",
   "execution_count": 3,
   "metadata": {
    "collapsed": true
   },
   "outputs": [],
   "source": [
    "def alignmentNeedlemanWunsch(a, b, gap=-1, mismatch=-1, match=1):\n",
    "    DP = np.zeros((len(a) + 1, len(b) + 1))\n",
    "    \n",
    "    for i in range(len(a)):\n",
    "        DP[i + 1, 0] = DP[i, 0] + gap\n",
    "        \n",
    "    for j in range(len(b)):\n",
    "        DP[0, j + 1] = DP[0, j] + gap\n",
    "        \n",
    "    for i in range(1, len(a) + 1):\n",
    "        for j in range(1, len(b) + 1):\n",
    "            eps = match if a[i - 1] == b[j - 1] else mismatch\n",
    "            DP[i, j] = max(DP[i - 1, j] + gap, DP[i, j - 1] + gap, \n",
    "                           DP[i - 1, j - 1] + eps)\n",
    "            \n",
    "    show_alignment(a, b, DP, gap, mismatch, match)\n",
    "    \n",
    "    return DP"
   ]
  },
  {
   "cell_type": "code",
   "execution_count": 4,
   "metadata": {
    "collapsed": true
   },
   "outputs": [],
   "source": [
    "def example_test():\n",
    "    dp = alignmentNeedlemanWunsch(\"GATTACA\", \"GCATGCU\")\n",
    "    print(dp)"
   ]
  },
  {
   "cell_type": "code",
   "execution_count": 5,
   "metadata": {
    "scrolled": true
   },
   "outputs": [
    {
     "name": "stdout",
     "output_type": "stream",
     "text": [
      "G_ATTACA\n",
      "GCA_TGCU\n",
      "[[ 0. -1. -2. -3. -4. -5. -6. -7.]\n",
      " [-1.  1.  0. -1. -2. -3. -4. -5.]\n",
      " [-2.  0.  0.  1.  0. -1. -2. -3.]\n",
      " [-3. -1. -1.  0.  2.  1.  0. -1.]\n",
      " [-4. -2. -2. -1.  1.  1.  0. -1.]\n",
      " [-5. -3. -3. -1.  0.  0.  0. -1.]\n",
      " [-6. -4. -2. -2. -1. -1.  1.  0.]\n",
      " [-7. -5. -3. -1. -2. -2.  0.  0.]]\n"
     ]
    }
   ],
   "source": [
    "example_test()"
   ]
  },
  {
   "cell_type": "markdown",
   "metadata": {},
   "source": [
    "## Тест 1: последовательности одинаковой длины, в глобальном выравнивании которых есть несовпадения и гэпы\n",
    "## Тест 2: выравнивание последовательностей из теста 1 с измененными штрафами"
   ]
  },
  {
   "cell_type": "code",
   "execution_count": 6,
   "metadata": {
    "collapsed": true
   },
   "outputs": [],
   "source": [
    "def test1():\n",
    "    alignmentNeedlemanWunsch(\"ACTCG\", \"AGCCA\")\n",
    "\n",
    "def test2():\n",
    "    alignmentNeedlemanWunsch(\"ACTCG\", \"AGCCA\", gap=-0.499)"
   ]
  },
  {
   "cell_type": "code",
   "execution_count": 7,
   "metadata": {},
   "outputs": [
    {
     "name": "stdout",
     "output_type": "stream",
     "text": [
      "A_CTCG\n",
      "AGC_CA\n",
      "\n",
      "A_CTC_G\n",
      "AGC_CA_\n"
     ]
    }
   ],
   "source": [
    "test1()\n",
    "print()\n",
    "test2()"
   ]
  }
 ],
 "metadata": {
  "kernelspec": {
   "display_name": "Python 3",
   "language": "python",
   "name": "python3"
  },
  "language_info": {
   "codemirror_mode": {
    "name": "ipython",
    "version": 3
   },
   "file_extension": ".py",
   "mimetype": "text/x-python",
   "name": "python",
   "nbconvert_exporter": "python",
   "pygments_lexer": "ipython3",
   "version": "3.6.1"
  }
 },
 "nbformat": 4,
 "nbformat_minor": 2
}
