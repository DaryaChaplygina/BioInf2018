{
 "cells": [
  {
   "cell_type": "code",
   "execution_count": 1,
   "metadata": {
    "collapsed": true
   },
   "outputs": [],
   "source": [
    "import numpy as np"
   ]
  },
  {
   "cell_type": "markdown",
   "metadata": {},
   "source": [
    "# Выравнивание с матрицей весов"
   ]
  },
  {
   "cell_type": "code",
   "execution_count": 2,
   "metadata": {
    "collapsed": true
   },
   "outputs": [],
   "source": [
    "def show_alignment_m(a, b, DP, weights, atoi):\n",
    "    s1 = \"\"\n",
    "    s2 = \"\"\n",
    "    gap_idx = weights.shape[0] - 1\n",
    "\n",
    "    \n",
    "    i, j = len(a), len(b)\n",
    "    while (i != 0) & (j != 0):\n",
    "        if DP[i, j] == DP[i - 1, j - 1] + weights[atoi[a[i - 1]], atoi[b[j - 1]]]:\n",
    "            s1 += a[i - 1]\n",
    "            s2 += b[j - 1]\n",
    "            i -= 1\n",
    "            j -= 1\n",
    "            \n",
    "        elif DP[i, j] == DP[i - 1, j] + weights[atoi[a[i - 1]], gap_idx]:\n",
    "            s1 += a[i - 1]\n",
    "            s2 += \"_\"\n",
    "            i -= 1\n",
    "            \n",
    "        else:\n",
    "            s1 += \"_\"\n",
    "            s2 += b[j - 1]\n",
    "            j -= 1\n",
    "            \n",
    "            \n",
    "    if (i == 0):\n",
    "        s1 += \"_\" * j\n",
    "        s2 += (b[:j])[::-1]\n",
    "        \n",
    "    elif (j == 0):\n",
    "        s1 += (a[:i])[::-1]\n",
    "        s2 += \"_\" * i\n",
    "        \n",
    "    print(s1[::-1])\n",
    "    print(s2[::-1])"
   ]
  },
  {
   "cell_type": "code",
   "execution_count": 3,
   "metadata": {
    "collapsed": true
   },
   "outputs": [],
   "source": [
    "def alignmentWithMatrix(a, b, weights, atoi):\n",
    "    # atoi returns index of element of sequence in matrix\n",
    "    DP = np.zeros((len(a) + 1, len(b) + 1))\n",
    "    gap_idx = weights.shape[0] - 1\n",
    "    \n",
    "    for i in range(len(a)):\n",
    "        DP[i + 1, 0] = DP[i, 0] + weights[atoi[a[i]], gap_idx]\n",
    "        \n",
    "    for j in range(len(b)):\n",
    "        DP[0, j + 1] = DP[0, j] + weights[atoi[b[j]], gap_idx]\n",
    "        \n",
    "    for i in range(1, len(a) + 1):\n",
    "        for j in range(1, len(b) + 1):\n",
    "            DP[i, j] = max(DP[i - 1, j] + weights[atoi[a[i - 1]], gap_idx], \n",
    "                           DP[i, j - 1] + weights[atoi[b[j - 1]], gap_idx],\n",
    "                           DP[i - 1, j - 1] + weights[atoi[a[i - 1]], atoi[b[j - 1]]])\n",
    "            \n",
    "    show_alignment_m(a, b, DP, weights, atoi)\n",
    "    \n",
    "    return DP"
   ]
  },
  {
   "cell_type": "code",
   "execution_count": 4,
   "metadata": {
    "collapsed": true
   },
   "outputs": [],
   "source": [
    "def example_test_wm():\n",
    "    atoi = {\"G\": 0, \"T\": 1, \"A\": 2, \"C\": 3, \"U\": 4}\n",
    "    matrix = np.full((6, 6), -1)\n",
    "    for i in range(5):\n",
    "        matrix[i, i] = 1\n",
    "    dp = alignmentWithMatrix(\"GATTACA\", \"GCATGCU\", weights=matrix, atoi=atoi)\n",
    "    print(dp)"
   ]
  },
  {
   "cell_type": "code",
   "execution_count": 5,
   "metadata": {},
   "outputs": [
    {
     "name": "stdout",
     "output_type": "stream",
     "text": [
      "G_ATTACA\n",
      "GCA_TGCU\n",
      "[[ 0. -1. -2. -3. -4. -5. -6. -7.]\n",
      " [-1.  1.  0. -1. -2. -3. -4. -5.]\n",
      " [-2.  0.  0.  1.  0. -1. -2. -3.]\n",
      " [-3. -1. -1.  0.  2.  1.  0. -1.]\n",
      " [-4. -2. -2. -1.  1.  1.  0. -1.]\n",
      " [-5. -3. -3. -1.  0.  0.  0. -1.]\n",
      " [-6. -4. -2. -2. -1. -1.  1.  0.]\n",
      " [-7. -5. -3. -1. -2. -2.  0.  0.]]\n"
     ]
    }
   ],
   "source": [
    "example_test_wm()"
   ]
  },
  {
   "cell_type": "markdown",
   "metadata": {},
   "source": [
    "## Пример последовательностей и матрицы весов, при изменении одного элемента которой меняется выравнивание"
   ]
  },
  {
   "cell_type": "code",
   "execution_count": 6,
   "metadata": {
    "collapsed": true
   },
   "outputs": [],
   "source": [
    "def test1_wm():\n",
    "    atoi = {\"G\": 0, \"C\": 1, \"A\": 2}\n",
    "    matrix = np.asarray([[2, -1, -1, -1],\n",
    "                         [-1, 2, -2, -1],\n",
    "                         [-3, -2, 2, -1],\n",
    "                         [-1, -1, -1, -1]])\n",
    "    alignmentWithMatrix(\"GGC\", \"AGA\", matrix, atoi)"
   ]
  },
  {
   "cell_type": "code",
   "execution_count": 7,
   "metadata": {
    "collapsed": true
   },
   "outputs": [],
   "source": [
    "def test2_wm():\n",
    "    atoi = {\"G\": 0, \"C\": 1, \"A\": 2}\n",
    "    matrix = np.asarray([[2, -1, -3, -1],\n",
    "                         [-1, 2, -2, -1],\n",
    "                         [-3, -2, 2, -1],\n",
    "                         [-1, -1, -1, -1]])\n",
    "    alignmentWithMatrix(\"GGC\", \"AGA\", matrix, atoi)"
   ]
  },
  {
   "cell_type": "code",
   "execution_count": 8,
   "metadata": {
    "scrolled": true
   },
   "outputs": [
    {
     "name": "stdout",
     "output_type": "stream",
     "text": [
      "GGC\n",
      "AGA\n",
      "\n",
      "_GGC\n",
      "A_GA\n"
     ]
    }
   ],
   "source": [
    "test1_wm()\n",
    "print()\n",
    "test2_wm()"
   ]
  },
  {
   "cell_type": "markdown",
   "metadata": {},
   "source": [
    "# Локальное выравнивание"
   ]
  },
  {
   "cell_type": "code",
   "execution_count": 9,
   "metadata": {
    "collapsed": true
   },
   "outputs": [],
   "source": [
    "def show_localAlignment(a, b, DP, max_idx, weights, atoi):\n",
    "    s1 = \"\"\n",
    "    s2 = \"\"\n",
    "    gap_idx = weights.shape[0] - 1\n",
    "\n",
    "    \n",
    "    i, j = max_idx\n",
    "    while DP[i][j] != 0:\n",
    "        if DP[i, j] == DP[i - 1, j - 1] + weights[atoi[a[i - 1]], atoi[b[j - 1]]]:\n",
    "            s1 += a[i - 1].upper()\n",
    "            s2 += b[j - 1].upper()\n",
    "            i -= 1\n",
    "            j -= 1\n",
    "            \n",
    "        elif DP[i, j] == DP[i - 1, j] + weights[atoi[a[i - 1]], gap_idx]:\n",
    "            s1 += a[i - 1].upper()\n",
    "            s2 += \"_\"\n",
    "            i -= 1\n",
    "            \n",
    "        else:\n",
    "            s1 += \"_\"\n",
    "            s2 += b[j - 1].upper()\n",
    "            j -= 1\n",
    "       \n",
    "    s1 += (a[:i].lower())[::-1]\n",
    "    s2 += (b[:j].lower())[::-1]\n",
    "    \n",
    "    if i > j:\n",
    "        s2 += \" \" * (i - j)\n",
    "    else:\n",
    "        s1 += \" \" * (j - i)\n",
    "        \n",
    "    s1 = s1[::-1] + a[max_idx[0]:].lower()\n",
    "    s2 = s2[::-1] + b[max_idx[1]:].lower()\n",
    "        \n",
    "    print(s1)\n",
    "    print(s2)"
   ]
  },
  {
   "cell_type": "code",
   "execution_count": 10,
   "metadata": {
    "collapsed": true
   },
   "outputs": [],
   "source": [
    "def localAlignment(a, b, weights, atoi):\n",
    "    # atoi returns index of element of sequence in matrix\n",
    "    DP = np.zeros((len(a) + 1, len(b) + 1))\n",
    "    gap_idx = weights.shape[0] - 1\n",
    "    \n",
    "    for i in range(len(a)):\n",
    "        DP[i + 1, 0] = 0\n",
    "        \n",
    "    for j in range(len(b)):\n",
    "        DP[0, j + 1] = 0\n",
    "        \n",
    "    for i in range(1, len(a) + 1):\n",
    "        for j in range(1, len(b) + 1):\n",
    "            DP[i, j] = max(0,\n",
    "                           DP[i - 1, j] + weights[atoi[a[i - 1]], gap_idx], \n",
    "                           DP[i, j - 1] + weights[atoi[b[j - 1]], gap_idx],\n",
    "                           DP[i - 1, j - 1] + weights[atoi[a[i - 1]], atoi[b[j - 1]]])\n",
    "            \n",
    "    max_idx = np.unravel_index(DP.argmax(), DP.shape)\n",
    "            \n",
    "    show_localAlignment(a, b, DP, max_idx, weights, atoi)\n",
    "    \n",
    "    return DP"
   ]
  },
  {
   "cell_type": "code",
   "execution_count": 11,
   "metadata": {
    "collapsed": true
   },
   "outputs": [],
   "source": [
    "def example_test_la():\n",
    "    atoi = {\"A\" : 0, \"C\" : 1, \"T\" : 2}\n",
    "    matrix = np.asarray([[2, -1, -1, -1],\n",
    "                         [-1, 2, -1, -1],\n",
    "                         [-1, -1, 2, -1],\n",
    "                         [-1, -1, -1, -1]])\n",
    "    \n",
    "    localAlignment(\"AT\", \"CA\", weights=matrix, atoi=atoi)"
   ]
  },
  {
   "cell_type": "code",
   "execution_count": 12,
   "metadata": {},
   "outputs": [
    {
     "name": "stdout",
     "output_type": "stream",
     "text": [
      " At\n",
      "cA\n"
     ]
    }
   ],
   "source": [
    "example_test_la()"
   ]
  },
  {
   "cell_type": "markdown",
   "metadata": {},
   "source": [
    "## Пример последовательностей, для которых локальное и глобальное выравнивание с одинаковой матрицей весов дает разные результаты на участке локального выравнивания"
   ]
  },
  {
   "cell_type": "code",
   "execution_count": 13,
   "metadata": {
    "collapsed": true
   },
   "outputs": [],
   "source": [
    "def test1_la():\n",
    "    atoi = {\"A\" : 0, \"C\" : 1, \"T\" : 2}\n",
    "    matrix = np.asarray([[2, -1, -1, -1],\n",
    "                         [-1, 2, -1, -3],\n",
    "                         [-1, -1, 2, -1],\n",
    "                         [-1, -1, -1, -1]])\n",
    "    \n",
    "    localAlignment(\"TCATC\", \"TAC\", weights=matrix, atoi=atoi)\n",
    "    print()\n",
    "    alignmentWithMatrix(\"TCATC\", \"TAC\", weights=matrix, atoi=atoi)"
   ]
  },
  {
   "cell_type": "code",
   "execution_count": 14,
   "metadata": {},
   "outputs": [
    {
     "name": "stdout",
     "output_type": "stream",
     "text": [
      "T_Catc\n",
      "TAC\n",
      "\n",
      "TCATC\n",
      "T_A_C\n"
     ]
    }
   ],
   "source": [
    "test1_la()"
   ]
  }
 ],
 "metadata": {
  "kernelspec": {
   "display_name": "Python 3",
   "language": "python",
   "name": "python3"
  },
  "language_info": {
   "codemirror_mode": {
    "name": "ipython",
    "version": 3
   },
   "file_extension": ".py",
   "mimetype": "text/x-python",
   "name": "python",
   "nbconvert_exporter": "python",
   "pygments_lexer": "ipython3",
   "version": "3.6.1"
  }
 },
 "nbformat": 4,
 "nbformat_minor": 2
}
