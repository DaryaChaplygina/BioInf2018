{
 "cells": [
  {
   "cell_type": "code",
   "execution_count": 1,
   "metadata": {
    "collapsed": true
   },
   "outputs": [],
   "source": [
    "import numpy as np"
   ]
  },
  {
   "cell_type": "code",
   "execution_count": 2,
   "metadata": {
    "collapsed": true
   },
   "outputs": [],
   "source": [
    "def show_alignment(a, b, layers, gap_open, gap_continue, mismatch, match):\n",
    "    s1 = \"\"\n",
    "    s2 = \"\"\n",
    "    i, j = len(a), len(b)\n",
    "    k = np.argmax([layers[0][i, j], layers[1][i, j], layers[2][i, j]])\n",
    "    \n",
    "    while (i != 0) & (j != 0):\n",
    "        if k == 0:\n",
    "            s1, s2 = s1 + a[i - 1], s2 + \"_\"\n",
    "            i -= 1\n",
    "            if layers[k][i, j] == layers[1][i - 1, j] + gap_open + gap_continue:\n",
    "                k = 1\n",
    "                \n",
    "        elif k == 1:\n",
    "            if (a[i - 1] == b[j - 1] and layers[k][i, j] == layers[k][i - 1, j - 1] + match) or \\\n",
    "               (a[i - 1] != b[j - 1] and layers[k][i, j] == layers[k][i - 1, j - 1] + mismatch):\n",
    "                    s1, s2 = s1 + a[i - 1], s2 + b[j - 1]\n",
    "                    i, j = i - 1, j - 1\n",
    "            elif layers[k][i, j] == layers[0][i, j]:\n",
    "                k = 0\n",
    "            else:\n",
    "                k = 2\n",
    "                \n",
    "        else:\n",
    "            s1, s2 = s1 + \"_\", s2 + b[j - 1]\n",
    "            j -= 1\n",
    "            if layers[k][i, j] == layers[1][i, j - 1] + gap_open + gap_continue: \n",
    "                k = 1\n",
    "                \n",
    "    if (i == 0):\n",
    "        s1 += \"_\" * j\n",
    "        s2 += (b[:j])[::-1]\n",
    "        \n",
    "    elif (j == 0):\n",
    "        s1 += (a[:i])[::-1]\n",
    "        s2 += \"_\" * i\n",
    "        \n",
    "    print(s1[::-1])\n",
    "    print(s2[::-1])"
   ]
  },
  {
   "cell_type": "code",
   "execution_count": 3,
   "metadata": {
    "collapsed": true
   },
   "outputs": [],
   "source": [
    "def alignmentAffineGap(a, b, gap_open=0, gap_continue=-1, mismatch=-1, match=1):\n",
    "    layer1 = np.full((len(a) + 1, len(b) + 1), gap_open)\n",
    "    layer2 = np.zeros((len(a) + 1, len(b) + 1))\n",
    "    layer3 = np.full((len(a) + 1, len(b) + 1), gap_open)\n",
    "    \n",
    "    for i in range(len(a)):\n",
    "        layer1[i + 1, 0] = layer1[i, 0] + gap_continue\n",
    "        \n",
    "    for j in range(len(b)):\n",
    "        layer3[0, j + 1] = layer3[0, j] + gap_continue\n",
    "        \n",
    "    for i in range(1, len(a) + 1):\n",
    "        for j in range(1, len(b) + 1):\n",
    "            eps = match if a[i - 1] == b[j - 1] else mismatch\n",
    "            \n",
    "            layer1[i, j] = max(layer1[i - 1, j] + gap_continue,\n",
    "                               layer2[i - 1, j] + gap_open + gap_continue) \n",
    "            layer3[i, j] = max(layer3[i, j - 1] + gap_continue,\n",
    "                               layer2[i, j - 1] + gap_open + gap_continue)\n",
    "            layer2[i, j] = max(layer1[i, j], layer3[i, j],\n",
    "                               layer2[i - 1, j - 1] + eps)\n",
    "    \n",
    "    show_alignment(a, b, [layer1, layer2, layer3], \n",
    "                   gap_open, gap_continue, mismatch, match)\n",
    "    \n",
    "    return [layer1, layer2, layer3]"
   ]
  },
  {
   "cell_type": "code",
   "execution_count": 4,
   "metadata": {},
   "outputs": [],
   "source": [
    "def example_test():\n",
    "    alignmentAffineGap(\"GATTACA\", \"GCATGCU\")"
   ]
  },
  {
   "cell_type": "code",
   "execution_count": 5,
   "metadata": {},
   "outputs": [
    {
     "name": "stdout",
     "output_type": "stream",
     "text": [
      "G_ATTACA\n",
      "GCA_TGCU\n"
     ]
    }
   ],
   "source": [
    "example_test()"
   ]
  },
  {
   "cell_type": "code",
   "execution_count": 6,
   "metadata": {
    "collapsed": true
   },
   "outputs": [],
   "source": [
    "def test1():\n",
    "    alignmentAffineGap(\"TCCCAGTTATGTCAGGGGACACGAGCATGCAGAGAC\",\n",
    "                      \"AATTGCCGCCGTCGTTTTCAGCAGTTATGTCAGATC\")\n",
    "    \n",
    "def test2():\n",
    "    alignmentAffineGap(\"TCCCAGTTATGTCAGGGGACACGAGCATGCAGAGAC\",\n",
    "                      \"AATTGCCGCCGTCGTTTTCAGCAGTTATGTCAGATC\", gap_open=-100, gap_continue=-0.01)\n",
    "    \n",
    "def test3():\n",
    "    alignmentAffineGap(\"TCCCAGTTATGTCAGGGGACACGAGCATGCAGAGAC\",\n",
    "                      \"AATTGCCGCCGTCGTTTTCAGCAGTTATGTCAGATC\", gap_open=0.5, gap_continue=-0.3)"
   ]
  },
  {
   "cell_type": "code",
   "execution_count": 7,
   "metadata": {},
   "outputs": [
    {
     "name": "stdout",
     "output_type": "stream",
     "text": [
      "___T_CC_CAGT__TATGTCAGGGGACACGAGCATG_CAGAGAC\n",
      "AATTGCCGCCGTCGT_TTTCA___G_CA_G_TTATGTCAGA_TC\n",
      "\n",
      "TCCCAGTTATGTCAGGGGACACGAGCATGCAGAGAC\n",
      "AATTGCCGCCGTCGTTTTCAGCAGTTATGTCAGATC\n",
      "\n",
      "__T__C__C___CAGTTATGTCAGGGGACACG__A_GCATGCAGA_GAC\n",
      "AATTGCCGCCGTC_GTT_T_TCA___G_CA_GTTATG__T_CAGAT__C\n"
     ]
    }
   ],
   "source": [
    "test1()\n",
    "print()\n",
    "test2()\n",
    "print()\n",
    "test3()"
   ]
  }
 ],
 "metadata": {
  "kernelspec": {
   "display_name": "Python 3",
   "language": "python",
   "name": "python3"
  },
  "language_info": {
   "codemirror_mode": {
    "name": "ipython",
    "version": 3
   },
   "file_extension": ".py",
   "mimetype": "text/x-python",
   "name": "python",
   "nbconvert_exporter": "python",
   "pygments_lexer": "ipython3",
   "version": "3.6.1"
  }
 },
 "nbformat": 4,
 "nbformat_minor": 2
}
