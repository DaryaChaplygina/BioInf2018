{
 "cells": [
  {
   "cell_type": "code",
   "execution_count": 1,
   "metadata": {
    "collapsed": true
   },
   "outputs": [],
   "source": [
    "import numpy as np"
   ]
  },
  {
   "cell_type": "markdown",
   "metadata": {},
   "source": [
    "# Выравнивание двух последовательностей с помощью HMM"
   ]
  },
  {
   "cell_type": "code",
   "execution_count": 2,
   "metadata": {
    "collapsed": true
   },
   "outputs": [],
   "source": [
    "def print_m(m, title):\n",
    "    print(title)\n",
    "    print(\"----------------------\")\n",
    "    for row in m:\n",
    "        for c in row:\n",
    "            print(\"{:.2f}\".format(c), end=\" \")\n",
    "        print()"
   ]
  },
  {
   "cell_type": "code",
   "execution_count": 3,
   "metadata": {
    "collapsed": true
   },
   "outputs": [],
   "source": [
    "def alignment_HMM(seq1, seq2, delta1, delta2, p1, p2, eps1, eps2, tao, match, mismatch, gap):\n",
    "    n, m = len(seq1), len(seq2)\n",
    "    \n",
    "    trans_prob = np.asarray([[1 - delta1 - delta2 - tao, delta1, delta2],\n",
    "                             [1 - eps1 - p2 - tao, eps1, p2],\n",
    "                             [1 - eps2 - p1 - tao, p1, eps2]])\n",
    "    start_prob = np.asarray([1 - delta1 - delta2, delta1, delta2])\n",
    "    \n",
    "    event_prob = [[match, mismatch],\n",
    "                  [gap]]\n",
    "    M, I, D = FB_2dim(seq1, seq2, start_prob, trans_prob, match, mismatch, gap, tao)\n",
    "    print_m(M, \"Match\")\n",
    "    print()\n",
    "    print_m(I, \"Insertion\")\n",
    "    print()\n",
    "    print_m(D, \"Deletion\")"
   ]
  },
  {
   "cell_type": "code",
   "execution_count": 4,
   "metadata": {},
   "outputs": [],
   "source": [
    "def FB_2dim(s1, s2, start_prob, trans_prob, match, mismatch, gap, tao):\n",
    "    n, m = len(s1) + 1, len(s2) + 1\n",
    "    alpha = np.zeros((3, n, m))\n",
    "    \n",
    "    alpha[0, 1, 1] = start_prob[0] * (match if s1[0] == s2[0] else mismatch)\n",
    "    alpha[1, 1, 0] = start_prob[1]\n",
    "    alpha[2, 0, 1] = start_prob[2]\n",
    "    for t1 in range(2, n):\n",
    "        alpha[1, t1, 0] = gap * (alpha[1, t1 - 1, 0] * trans_prob[1, 1])\n",
    "    for t2 in range(2, m):\n",
    "        alpha[2, 0, t2] = gap * (alpha[2, 0, t2 - 1] * trans_prob[2, 2])\n",
    "    \n",
    "    for t1 in range(1, n):\n",
    "        for t2 in range(1, m):\n",
    "            match_prob = match if s1[t1 - 1] == s2[t2 - 1] else mismatch\n",
    "            if not (t1 == t2 == 1):\n",
    "                alpha[0, t1, t2] = match_prob * sum(alpha[:, t1 - 1, t2 - 1] * trans_prob[:, 0])\n",
    "            alpha[1, t1, t2] = gap * sum(alpha[:, t1 - 1, t2] * trans_prob[:, 1])\n",
    "            alpha[2, t1, t2] = gap * sum(alpha[:, t1, t2 - 1] * trans_prob[:, 2])\n",
    "            \n",
    "    final_prob = sum(alpha[:, n - 1, m - 1]) * tao\n",
    "    \n",
    "    beta = np.zeros((3, n, m))\n",
    "    beta[:, n - 1, m - 1] = np.full((3, ), tao)\n",
    "    \n",
    "    for t1 in range(n - 2, -1, -1):\n",
    "        beta[:, t1, m - 1] = beta[1, t1 + 1, m - 1] * trans_prob[:, 1] * gap\n",
    "    for t2 in range(m - 2, -1, -1):\n",
    "        beta[:, n - 1, t2] = beta[2, n - 1, t2 + 1] * trans_prob[:, 2] * gap\n",
    "        \n",
    "    for t1 in range(n - 2, -1, -1):\n",
    "        for t2 in range(m - 2, -1, -1):\n",
    "            match_prob = match if s1[t1] == s2[t2] else mismatch\n",
    "            common_mult = np.asarray([beta[0, t1 + 1, t2 + 1] * match_prob,\n",
    "                                      beta[1, t1 + 1, t2] * gap,\n",
    "                                      beta[2, t1, t2 + 1] * gap])\n",
    "            beta[0, t1, t2] = sum(common_mult * trans_prob[0, :])\n",
    "            beta[1, t1, t2] = sum(common_mult * trans_prob[1, :])\n",
    "            beta[2, t1, t2] = sum(common_mult * trans_prob[2, :])\n",
    "            \n",
    "    \n",
    "    MID_prob = np.zeros((3, n, m))\n",
    "    \n",
    "    \n",
    "    for i in range(n):\n",
    "        for j in range(m):\n",
    "            MID_prob[:, i, j] = alpha[:, i, j] * beta[:, i, j] / final_prob\n",
    "            \n",
    "    return MID_prob[0,:,:], MID_prob[1,:,:], MID_prob[2,:,:]"
   ]
  },
  {
   "cell_type": "markdown",
   "metadata": {},
   "source": [
    "# Тесты 1-2"
   ]
  },
  {
   "cell_type": "code",
   "execution_count": 5,
   "metadata": {
    "collapsed": true
   },
   "outputs": [],
   "source": [
    "def test1():\n",
    "    alignment_HMM(\"AGAGA\", \"AGAGAGA\", 0.1, 0.1, 0.1, 0.1, 0.3, 0.3, 0.1, 0.9, 0.1, 1)"
   ]
  },
  {
   "cell_type": "code",
   "execution_count": 6,
   "metadata": {
    "collapsed": true
   },
   "outputs": [],
   "source": [
    "def test2():\n",
    "    alignment_HMM(\"ATAGCTACGAC\", \"TGCTAGCTAGC\", 0.1, 0.1, 0.1, 0.1, 0.3, 0.3, 0.1, 0.9, 0.1, 1)"
   ]
  },
  {
   "cell_type": "code",
   "execution_count": 7,
   "metadata": {},
   "outputs": [
    {
     "name": "stdout",
     "output_type": "stream",
     "text": [
      "Match\n",
      "----------------------\n",
      "0.00 0.00 0.00 0.00 0.00 0.00 0.00 0.00 \n",
      "0.00 0.83 0.00 0.12 0.00 0.00 0.00 0.00 \n",
      "0.00 0.00 0.66 0.01 0.27 0.00 0.00 0.00 \n",
      "0.00 0.00 0.00 0.50 0.01 0.43 0.00 0.00 \n",
      "0.00 0.00 0.00 0.00 0.35 0.01 0.58 0.00 \n",
      "0.00 0.00 0.00 0.00 0.00 0.19 0.01 0.74 \n",
      "\n",
      "Insertion\n",
      "----------------------\n",
      "0.00 0.00 0.00 0.00 0.00 0.00 0.00 0.00 \n",
      "0.02 0.01 0.00 0.01 0.00 0.00 0.00 0.00 \n",
      "0.00 0.02 0.01 0.01 0.01 0.00 0.00 0.00 \n",
      "0.00 0.00 0.02 0.01 0.01 0.01 0.00 0.00 \n",
      "0.00 0.00 0.00 0.01 0.01 0.01 0.02 0.01 \n",
      "0.00 0.00 0.00 0.00 0.01 0.01 0.01 0.03 \n",
      "\n",
      "Deletion\n",
      "----------------------\n",
      "0.00 0.15 0.14 0.01 0.00 0.00 0.00 0.00 \n",
      "0.00 0.01 0.17 0.16 0.01 0.00 0.00 0.00 \n",
      "0.00 0.00 0.02 0.17 0.17 0.02 0.00 0.00 \n",
      "0.00 0.00 0.00 0.02 0.17 0.17 0.02 0.00 \n",
      "0.00 0.00 0.00 0.00 0.01 0.17 0.17 0.02 \n",
      "0.00 0.00 0.00 0.00 0.00 0.02 0.21 0.23 \n"
     ]
    }
   ],
   "source": [
    "test1()"
   ]
  },
  {
   "cell_type": "code",
   "execution_count": 8,
   "metadata": {},
   "outputs": [
    {
     "name": "stdout",
     "output_type": "stream",
     "text": [
      "Match\n",
      "----------------------\n",
      "0.00 0.00 0.00 0.00 0.00 0.00 0.00 0.00 0.00 0.00 0.00 0.00 \n",
      "0.00 0.29 0.05 0.16 0.01 0.01 0.00 0.00 0.00 0.00 0.00 0.00 \n",
      "0.00 0.16 0.04 0.02 0.54 0.00 0.00 0.00 0.00 0.00 0.00 0.00 \n",
      "0.00 0.04 0.02 0.01 0.01 0.67 0.00 0.00 0.00 0.00 0.00 0.00 \n",
      "0.00 0.00 0.18 0.00 0.00 0.00 0.71 0.00 0.00 0.00 0.00 0.00 \n",
      "0.00 0.00 0.00 0.21 0.00 0.00 0.00 0.71 0.00 0.00 0.00 0.00 \n",
      "0.00 0.00 0.00 0.00 0.20 0.00 0.00 0.00 0.68 0.00 0.00 0.00 \n",
      "0.00 0.00 0.00 0.00 0.00 0.17 0.01 0.00 0.01 0.56 0.01 0.00 \n",
      "0.00 0.00 0.00 0.00 0.00 0.01 0.03 0.10 0.01 0.04 0.11 0.04 \n",
      "0.00 0.00 0.00 0.00 0.00 0.00 0.04 0.01 0.07 0.03 0.32 0.02 \n",
      "0.00 0.00 0.00 0.00 0.00 0.00 0.00 0.01 0.01 0.14 0.14 0.05 \n",
      "0.00 0.00 0.00 0.00 0.00 0.00 0.00 0.01 0.00 0.00 0.02 0.73 \n",
      "\n",
      "Insertion\n",
      "----------------------\n",
      "0.00 0.00 0.00 0.00 0.00 0.00 0.00 0.00 0.00 0.00 0.00 0.00 \n",
      "0.32 0.05 0.03 0.07 0.01 0.00 0.00 0.00 0.00 0.00 0.00 0.00 \n",
      "0.08 0.08 0.02 0.01 0.03 0.01 0.00 0.00 0.00 0.00 0.00 0.00 \n",
      "0.02 0.15 0.02 0.01 0.01 0.03 0.00 0.00 0.00 0.00 0.00 0.00 \n",
      "0.00 0.01 0.03 0.01 0.00 0.02 0.02 0.00 0.00 0.00 0.00 0.00 \n",
      "0.00 0.00 0.01 0.01 0.00 0.01 0.02 0.01 0.00 0.00 0.00 0.00 \n",
      "0.00 0.00 0.00 0.01 0.01 0.01 0.02 0.04 0.02 0.01 0.00 0.00 \n",
      "0.00 0.00 0.00 0.00 0.02 0.01 0.02 0.02 0.12 0.03 0.01 0.00 \n",
      "0.00 0.00 0.00 0.00 0.01 0.05 0.01 0.02 0.08 0.41 0.06 0.01 \n",
      "0.00 0.00 0.00 0.00 0.00 0.01 0.01 0.02 0.07 0.17 0.17 0.07 \n",
      "0.00 0.00 0.00 0.00 0.00 0.00 0.01 0.01 0.02 0.06 0.45 0.11 \n",
      "0.00 0.00 0.00 0.00 0.00 0.00 0.00 0.00 0.00 0.02 0.03 0.18 \n",
      "\n",
      "Deletion\n",
      "----------------------\n",
      "0.00 0.39 0.29 0.10 0.02 0.00 0.00 0.00 0.00 0.00 0.00 0.00 \n",
      "0.00 0.09 0.30 0.35 0.03 0.01 0.00 0.00 0.00 0.00 0.00 0.00 \n",
      "0.00 0.02 0.09 0.11 0.13 0.02 0.00 0.00 0.00 0.00 0.00 0.00 \n",
      "0.00 0.02 0.01 0.02 0.03 0.04 0.01 0.00 0.00 0.00 0.00 0.00 \n",
      "0.00 0.00 0.01 0.01 0.01 0.01 0.02 0.01 0.00 0.00 0.00 0.00 \n",
      "0.00 0.00 0.00 0.01 0.01 0.01 0.01 0.02 0.02 0.01 0.00 0.00 \n",
      "0.00 0.00 0.00 0.00 0.01 0.03 0.02 0.01 0.02 0.04 0.01 0.00 \n",
      "0.00 0.00 0.00 0.00 0.00 0.01 0.11 0.03 0.02 0.02 0.09 0.01 \n",
      "0.00 0.00 0.00 0.00 0.00 0.00 0.01 0.03 0.06 0.06 0.03 0.01 \n",
      "0.00 0.00 0.00 0.00 0.00 0.00 0.01 0.04 0.06 0.04 0.03 0.02 \n",
      "0.00 0.00 0.00 0.00 0.00 0.00 0.00 0.01 0.02 0.04 0.20 0.02 \n",
      "0.00 0.00 0.00 0.00 0.00 0.00 0.00 0.00 0.01 0.01 0.03 0.09 \n"
     ]
    }
   ],
   "source": [
    "test2()"
   ]
  }
 ],
 "metadata": {
  "kernelspec": {
   "display_name": "Python 3",
   "language": "python",
   "name": "python3"
  },
  "language_info": {
   "codemirror_mode": {
    "name": "ipython",
    "version": 3
   },
   "file_extension": ".py",
   "mimetype": "text/x-python",
   "name": "python",
   "nbconvert_exporter": "python",
   "pygments_lexer": "ipython3",
   "version": "3.6.1"
  }
 },
 "nbformat": 4,
 "nbformat_minor": 2
}
