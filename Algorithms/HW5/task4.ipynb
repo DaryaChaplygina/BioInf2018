{
 "cells": [
  {
   "cell_type": "code",
   "execution_count": 1,
   "metadata": {
    "collapsed": true
   },
   "outputs": [],
   "source": [
    "import numpy as np"
   ]
  },
  {
   "cell_type": "markdown",
   "metadata": {},
   "source": [
    "# Выравнивание двух последовательностей с помощью HMM"
   ]
  },
  {
   "cell_type": "code",
   "execution_count": 2,
   "metadata": {
    "collapsed": true
   },
   "outputs": [],
   "source": [
    "def print_m(m, title):\n",
    "    print(title)\n",
    "    print(\"----------------------\")\n",
    "    for row in m:\n",
    "        for c in row:\n",
    "            print(\"{:.2f}\".format(c), end=\" \")\n",
    "        print()"
   ]
  },
  {
   "cell_type": "code",
   "execution_count": 3,
   "metadata": {
    "collapsed": true
   },
   "outputs": [],
   "source": [
    "def alignment_HMM(seq1, seq2, delta1, delta2, p1, p2, eps1, eps2, tao, match, mismatch, gap):\n",
    "    n, m = len(seq1), len(seq2)\n",
    "    \n",
    "    trans_prob = np.asarray([[1 - delta1 - delta2 - tao, delta1, delta2],\n",
    "                             [1 - eps1 - p2 - tao, eps1, p2],\n",
    "                             [1 - eps2 - p1 - tao, p1, eps2]])\n",
    "    start_prob = np.asarray([1 - delta1 - delta2, delta1, delta2])\n",
    "    \n",
    "    event_prob = [[match, mismatch],\n",
    "                  [gap]]\n",
    "    M, I, D = FB_2dim(seq1, seq2, start_prob, trans_prob, match, mismatch, gap, tao)\n",
    "    print_m(M, \"Match\")\n",
    "    print()\n",
    "    print_m(I, \"Insertion\")\n",
    "    print()\n",
    "    print_m(D, \"Deletion\")"
   ]
  },
  {
   "cell_type": "code",
   "execution_count": 4,
   "metadata": {
    "collapsed": true
   },
   "outputs": [],
   "source": [
    "def FB_2dim(s1, s2, start_prob, trans_prob, match, mismatch, gap, tao):\n",
    "    n, m = len(s1) + 1, len(s2) + 1\n",
    "    alpha = np.zeros((3, n, m))\n",
    "    \n",
    "    alpha[0, 0, 0] = 1\n",
    "    for t1 in range(1, n):\n",
    "        alpha[1, t1, 0] = gap * (alpha[1, t1 - 1, 0] * trans_prob[1, 1] + trans_prob[0, 1] * alpha[0, t1 - 1, 0])\n",
    "    for t2 in range(1, m):\n",
    "        alpha[2, 0, t2] = gap * (alpha[2, 0, t2 - 1] * trans_prob[2, 2] + trans_prob[0, 2] * alpha[0, 0, t2 - 1])\n",
    "\n",
    "    for t1 in range(1, n):\n",
    "        for t2 in range(1, m):\n",
    "            match_prob = match if s1[t1 - 1] == s2[t2 - 1] else mismatch\n",
    "            alpha[0, t1, t2] = match_prob * sum(alpha[:, t1 - 1, t2 - 1] * trans_prob[:, 0])\n",
    "            alpha[1, t1, t2] = gap * sum(alpha[:, t1 - 1, t2] * trans_prob[:, 1])\n",
    "            alpha[2, t1, t2] = gap * sum(alpha[:, t1, t2 - 1] * trans_prob[:, 2])\n",
    "            \n",
    "    final_prob = sum(alpha[:, n - 1, m - 1]) * tao\n",
    "    \n",
    "    beta = np.zeros((3, n, m))\n",
    "    beta[:, n - 1, m - 1] = np.full((3, ), tao)\n",
    "    \n",
    "    for t1 in range(n - 2, -1, -1):\n",
    "        beta[:, t1, m - 1] = beta[1, t1 + 1, m - 1] * trans_prob[:, 1] * gap\n",
    "    for t2 in range(m - 2, -1, -1):\n",
    "        beta[:, n - 1, t2] = beta[2, n - 1, t2 + 1] * trans_prob[:, 2] * gap\n",
    "        \n",
    "    for t1 in range(n - 2, -1, -1):\n",
    "        for t2 in range(m - 2, -1, -1):\n",
    "            match_prob = match if s1[t1] == s2[t2] else mismatch\n",
    "            common_mult = np.asarray([beta[0, t1 + 1, t2 + 1] * match_prob,\n",
    "                                      beta[1, t1 + 1, t2] * gap,\n",
    "                                      beta[2, t1, t2 + 1] * gap])\n",
    "            beta[0, t1, t2] = sum(common_mult * trans_prob[0, :])\n",
    "            beta[1, t1, t2] = sum(common_mult * trans_prob[1, :])\n",
    "            beta[2, t1, t2] = sum(common_mult * trans_prob[2, :])\n",
    "\n",
    "    MID_prob = np.zeros((3, n, m))\n",
    "    \n",
    "    for i in range(n):\n",
    "        for j in range(m):\n",
    "            MID_prob[:, i, j] = alpha[:, i, j] * beta[:, i, j] / sum(alpha[:, i, j] * beta[:, i, j])\n",
    "            \n",
    "    return MID_prob[0,:,:], MID_prob[1,:,:], MID_prob[2,:,:]"
   ]
  },
  {
   "cell_type": "markdown",
   "metadata": {},
   "source": [
    "# Тесты 1-2"
   ]
  },
  {
   "cell_type": "code",
   "execution_count": 5,
   "metadata": {
    "collapsed": true
   },
   "outputs": [],
   "source": [
    "def test1():\n",
    "    alignment_HMM(\"AGAGA\", \"AGAGAGA\", 0.1, 0.1, 0.1, 0.1, 0.3, 0.3, 0.1, 0.9, 0.1, 1)"
   ]
  },
  {
   "cell_type": "code",
   "execution_count": 6,
   "metadata": {
    "collapsed": true
   },
   "outputs": [],
   "source": [
    "def test2():\n",
    "    alignment_HMM(\"ATAGCTACGAC\", \"TGCTAGCTAGC\", 0.1, 0.1, 0.1, 0.1, 0.3, 0.3, 0.1, 0.9, 0.1, 1)"
   ]
  },
  {
   "cell_type": "code",
   "execution_count": 7,
   "metadata": {},
   "outputs": [
    {
     "name": "stdout",
     "output_type": "stream",
     "text": [
      "Match\n",
      "----------------------\n",
      "1.00 0.00 0.00 0.00 0.00 0.00 0.00 0.00 \n",
      "0.00 0.97 0.03 0.45 0.04 0.36 0.04 0.28 \n",
      "0.00 0.06 0.96 0.03 0.62 0.05 0.50 0.05 \n",
      "0.00 0.41 0.06 0.95 0.03 0.71 0.06 0.54 \n",
      "0.00 0.05 0.56 0.06 0.94 0.03 0.76 0.06 \n",
      "0.00 0.32 0.06 0.61 0.06 0.90 0.03 0.74 \n",
      "\n",
      "Insertion\n",
      "----------------------\n",
      "0.00 0.00 0.00 0.00 0.00 0.00 0.00 0.00 \n",
      "1.00 0.01 0.02 0.02 0.07 0.03 0.07 0.06 \n",
      "1.00 0.85 0.02 0.04 0.02 0.12 0.04 0.13 \n",
      "1.00 0.55 0.78 0.02 0.05 0.02 0.17 0.07 \n",
      "1.00 0.87 0.39 0.71 0.02 0.06 0.02 0.23 \n",
      "1.00 0.62 0.79 0.31 0.64 0.02 0.06 0.03 \n",
      "\n",
      "Deletion\n",
      "----------------------\n",
      "0.00 1.00 1.00 1.00 1.00 1.00 1.00 1.00 \n",
      "0.00 0.02 0.95 0.53 0.89 0.60 0.89 0.66 \n",
      "0.00 0.09 0.02 0.93 0.36 0.83 0.46 0.82 \n",
      "0.00 0.04 0.16 0.03 0.92 0.27 0.78 0.38 \n",
      "0.00 0.08 0.05 0.22 0.04 0.91 0.22 0.71 \n",
      "0.00 0.06 0.15 0.08 0.30 0.07 0.91 0.23 \n"
     ]
    }
   ],
   "source": [
    "test1()"
   ]
  },
  {
   "cell_type": "code",
   "execution_count": 8,
   "metadata": {
    "scrolled": false
   },
   "outputs": [
    {
     "name": "stdout",
     "output_type": "stream",
     "text": [
      "Match\n",
      "----------------------\n",
      "1.00 0.00 0.00 0.00 0.00 0.00 0.00 0.00 0.00 0.00 0.00 0.00 \n",
      "0.00 0.65 0.14 0.28 0.16 0.60 0.07 0.13 0.09 0.45 0.07 0.07 \n",
      "0.00 0.62 0.24 0.11 0.77 0.09 0.24 0.10 0.66 0.08 0.16 0.10 \n",
      "0.00 0.18 0.39 0.22 0.13 0.91 0.09 0.12 0.08 0.78 0.08 0.09 \n",
      "0.00 0.11 0.81 0.18 0.13 0.09 0.95 0.08 0.08 0.06 0.80 0.07 \n",
      "0.00 0.10 0.12 0.93 0.09 0.07 0.06 0.96 0.07 0.07 0.06 0.79 \n",
      "0.00 0.50 0.09 0.08 0.95 0.07 0.05 0.06 0.95 0.07 0.07 0.05 \n",
      "0.00 0.06 0.28 0.09 0.08 0.92 0.09 0.06 0.06 0.92 0.08 0.07 \n",
      "0.00 0.09 0.12 0.54 0.06 0.09 0.58 0.66 0.07 0.09 0.56 0.67 \n",
      "0.00 0.07 0.54 0.07 0.21 0.07 0.68 0.17 0.36 0.11 0.61 0.15 \n",
      "0.00 0.07 0.10 0.17 0.10 0.46 0.13 0.32 0.16 0.58 0.18 0.26 \n",
      "0.00 0.07 0.09 0.50 0.10 0.07 0.21 0.63 0.13 0.08 0.25 0.73 \n",
      "\n",
      "Insertion\n",
      "----------------------\n",
      "0.00 0.00 0.00 0.00 0.00 0.00 0.00 0.00 0.00 0.00 0.00 0.00 \n",
      "1.00 0.13 0.09 0.13 0.26 0.10 0.09 0.07 0.14 0.08 0.11 0.12 \n",
      "1.00 0.31 0.14 0.10 0.05 0.38 0.21 0.15 0.05 0.25 0.18 0.20 \n",
      "1.00 0.74 0.40 0.22 0.30 0.04 0.22 0.18 0.26 0.04 0.17 0.18 \n",
      "1.00 0.72 0.14 0.30 0.27 0.51 0.02 0.14 0.16 0.36 0.05 0.15 \n",
      "1.00 0.77 0.68 0.04 0.19 0.34 0.66 0.02 0.12 0.17 0.45 0.07 \n",
      "1.00 0.44 0.68 0.75 0.03 0.14 0.46 0.71 0.02 0.11 0.20 0.51 \n",
      "1.00 0.85 0.59 0.75 0.82 0.04 0.13 0.39 0.78 0.05 0.11 0.23 \n",
      "1.00 0.84 0.69 0.37 0.74 0.83 0.18 0.13 0.55 0.80 0.30 0.17 \n",
      "1.00 0.83 0.35 0.67 0.66 0.79 0.19 0.32 0.35 0.72 0.33 0.62 \n",
      "1.00 0.82 0.76 0.65 0.69 0.45 0.59 0.33 0.36 0.26 0.57 0.61 \n",
      "1.00 0.81 0.74 0.39 0.57 0.76 0.53 0.19 0.22 0.51 0.38 0.18 \n",
      "\n",
      "Deletion\n",
      "----------------------\n",
      "0.00 1.00 1.00 1.00 1.00 1.00 1.00 1.00 1.00 1.00 1.00 1.00 \n",
      "0.00 0.22 0.77 0.59 0.58 0.30 0.83 0.79 0.77 0.47 0.82 0.81 \n",
      "0.00 0.07 0.62 0.78 0.19 0.53 0.56 0.74 0.29 0.67 0.65 0.70 \n",
      "0.00 0.09 0.21 0.56 0.57 0.05 0.68 0.70 0.66 0.17 0.75 0.73 \n",
      "0.00 0.17 0.05 0.52 0.60 0.40 0.03 0.78 0.76 0.58 0.15 0.78 \n",
      "0.00 0.14 0.20 0.03 0.73 0.59 0.28 0.03 0.81 0.77 0.49 0.14 \n",
      "0.00 0.06 0.23 0.16 0.03 0.79 0.49 0.24 0.03 0.82 0.73 0.44 \n",
      "0.00 0.09 0.12 0.16 0.10 0.04 0.78 0.55 0.17 0.04 0.81 0.70 \n",
      "0.00 0.07 0.19 0.08 0.20 0.08 0.24 0.20 0.38 0.11 0.15 0.16 \n",
      "0.00 0.10 0.10 0.26 0.13 0.13 0.12 0.51 0.28 0.17 0.07 0.23 \n",
      "0.00 0.11 0.13 0.18 0.21 0.09 0.28 0.34 0.48 0.16 0.26 0.13 \n",
      "0.00 0.12 0.18 0.12 0.34 0.17 0.26 0.18 0.64 0.40 0.37 0.09 \n"
     ]
    }
   ],
   "source": [
    "test2()"
   ]
  }
 ],
 "metadata": {
  "kernelspec": {
   "display_name": "Python 3",
   "language": "python",
   "name": "python3"
  },
  "language_info": {
   "codemirror_mode": {
    "name": "ipython",
    "version": 3
   },
   "file_extension": ".py",
   "mimetype": "text/x-python",
   "name": "python",
   "nbconvert_exporter": "python",
   "pygments_lexer": "ipython3",
   "version": "3.6.1"
  }
 },
 "nbformat": 4,
 "nbformat_minor": 2
}
