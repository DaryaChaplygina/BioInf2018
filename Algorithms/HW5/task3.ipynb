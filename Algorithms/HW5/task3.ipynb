{
 "cells": [
  {
   "cell_type": "code",
   "execution_count": 1,
   "metadata": {
    "collapsed": true
   },
   "outputs": [],
   "source": [
    "import numpy as np"
   ]
  },
  {
   "cell_type": "markdown",
   "metadata": {},
   "source": [
    "# Алгоритм Витерби"
   ]
  },
  {
   "cell_type": "code",
   "execution_count": 2,
   "metadata": {
    "collapsed": true
   },
   "outputs": [],
   "source": [
    "def Viterbi(observed, event_codes, p, trans_prob, event_prob):\n",
    "    ob_seq = [event_codes[o] for o in observed]\n",
    "    n_events = len(observed)\n",
    "    n_states = trans_prob.shape[0]\n",
    "    delta = np.zeros((n_states, n_events))\n",
    "    \n",
    "    for i in range(n_states):\n",
    "        delta[i, 0] = p[i] * event_prob[i, ob_seq[0]]\n",
    "        \n",
    "    for t in range(1, n_events):\n",
    "        for i in range(n_states):\n",
    "            delta[i, t] = max(delta[:, t - 1] * trans_prob[:, i] * event_prob[i, ob_seq[t]])\n",
    "    \n",
    "    hidden_st = np.zeros((n_events, ), dtype=int)\n",
    "    hidden_st[n_events - 1] = np.argmax(delta[:, n_events - 1])\n",
    "    \n",
    "    for t in range(n_events - 2, -1, -1):\n",
    "        hidden_st[t] = np.argmax(delta[:, t].T * trans_prob[:, hidden_st[t + 1]]\n",
    "                                 * event_prob[:, ob_seq[t]])\n",
    "        \n",
    "    return hidden_st"
   ]
  },
  {
   "cell_type": "markdown",
   "metadata": {},
   "source": [
    "# Алгорим прямого-обратного хода"
   ]
  },
  {
   "cell_type": "code",
   "execution_count": 3,
   "metadata": {
    "collapsed": true
   },
   "outputs": [],
   "source": [
    "def FB(observed, event_codes, p, trans_prob, event_prob):\n",
    "    ob_seq = [event_codes[o] for o in observed]\n",
    "    n_events = len(observed)\n",
    "    n_states = trans_prob.shape[0]\n",
    "    \n",
    "    alpha = np.zeros((n_states, n_events))\n",
    "    for i in range(n_states):\n",
    "        alpha[i, 0] = p[i] * event_prob[i, ob_seq[0]]\n",
    "        \n",
    "    for t in range(1, n_events):\n",
    "        for i in range(n_states):\n",
    "            alpha[i, t] = alpha[:, t - 1].T @ trans_prob[:, i] * event_prob[i, ob_seq[t]]\n",
    "    \n",
    "    beta = np.zeros((n_states, n_events))\n",
    "    for i in range(n_states):\n",
    "        beta[i, n_events - 1] = 1\n",
    "        \n",
    "    for t in range(n_events - 2, -1, -1):\n",
    "        for i in range(n_states):\n",
    "            beta[i, t] = trans_prob[i, :] @ (event_prob[:, ob_seq[t + 1]] * beta[:, t + 1])\n",
    "       \n",
    "    end_prob = sum(alpha[:, n_events- 1])\n",
    "    P = np.zeros((n_states, n_events))\n",
    "    for t in range(n_events):\n",
    "        P[:, t] = alpha[:, t] * beta[:, t] / end_prob\n",
    "        \n",
    "    return P"
   ]
  },
  {
   "cell_type": "code",
   "execution_count": 4,
   "metadata": {
    "collapsed": true
   },
   "outputs": [],
   "source": [
    "def print_FB_res(P):\n",
    "    n = P.shape[0]\n",
    "    m = P.shape[1]\n",
    "    \n",
    "    k = int(m / 2)\n",
    "    print(\"\\nВероятности скрытых состояний, предсказанные алгоритмом прямого-обратного хода:\")\n",
    "    \n",
    "    for i in range(2):\n",
    "        left = 0 ** (1 - i) * k ** i\n",
    "        right = k ** (1 - i) * m ** i\n",
    "        for j in range(n):\n",
    "            for l in range(left, right):\n",
    "                print(\"{:.2f}\".format(P[j, l]), end=\"|\")\n",
    "            print()\n",
    "        print()\n",
    "        \n",
    "    print(\"Наиболее вероятные скрытые состояния:\")\n",
    "    for i in range(m):\n",
    "        print(np.argmax(P[:, i]), end=\" \")"
   ]
  },
  {
   "cell_type": "code",
   "execution_count": 5,
   "metadata": {
    "collapsed": true
   },
   "outputs": [],
   "source": [
    "def print_Vit_res(st):\n",
    "    print(\"Скрытые состояния, предсказанные алгоритмом Витерби:\")\n",
    "    for s in st:\n",
    "        print(s, end=\" \")\n",
    "    print()"
   ]
  },
  {
   "cell_type": "markdown",
   "metadata": {},
   "source": [
    "# Тесты 1-2"
   ]
  },
  {
   "cell_type": "code",
   "execution_count": 6,
   "metadata": {
    "collapsed": true
   },
   "outputs": [],
   "source": [
    "def test1():\n",
    "    event_codes = {\"О\": 0, \"Р\": 1}\n",
    "    p = np.asarray([0.5, 0.5])\n",
    "    trans_prob = np.asarray([[0.8, 0.2],\n",
    "                             [0.2, 0.8]])\n",
    "    event_prob = np.asarray([[0.5, 0.5],\n",
    "                             [0.1, 0.9]])\n",
    "    print(\"Последовательность наблюдений:\\n{}\\n\".format(\" \".join(\"ОРОРОРООРРРРРРРРРРОООООООО\")))\n",
    "    print_Vit_res(Viterbi(\"ОРОРОРООРРРРРРРРРРОООООООО\", event_codes, p, trans_prob, event_prob))\n",
    "    print_FB_res(FB(\"ОРОРОРООРРРРРРРРРРОООООООО\", event_codes, p, trans_prob, event_prob))"
   ]
  },
  {
   "cell_type": "code",
   "execution_count": 7,
   "metadata": {},
   "outputs": [
    {
     "name": "stdout",
     "output_type": "stream",
     "text": [
      "Последовательность наблюдений:\n",
      "О Р О Р О Р О О Р Р Р Р Р Р Р Р Р Р О О О О О О О О\n",
      "\n",
      "Скрытые состояния, предсказанные алгоритмом Витерби:\n",
      "0 0 0 0 0 0 0 0 1 1 1 1 1 1 1 1 1 1 0 0 0 0 0 0 0 0 \n",
      "\n",
      "Вероятности скрытых состояний, предсказанные алгоритмом прямого-обратного хода:\n",
      "0.86|0.77|0.88|0.78|0.89|0.80|0.91|0.86|0.46|0.27|0.19|0.15|0.14|\n",
      "0.14|0.23|0.12|0.22|0.11|0.20|0.09|0.14|0.54|0.73|0.81|0.85|0.86|\n",
      "\n",
      "0.14|0.15|0.19|0.28|0.47|0.89|0.96|0.98|0.98|0.98|0.98|0.97|0.94|\n",
      "0.86|0.85|0.81|0.72|0.53|0.11|0.04|0.02|0.02|0.02|0.02|0.03|0.06|\n",
      "\n",
      "Наиболее вероятные скрытые состояния:\n",
      "0 0 0 0 0 0 0 0 1 1 1 1 1 1 1 1 1 1 0 0 0 0 0 0 0 0 "
     ]
    }
   ],
   "source": [
    "test1()"
   ]
  },
  {
   "cell_type": "code",
   "execution_count": 8,
   "metadata": {
    "collapsed": true
   },
   "outputs": [],
   "source": [
    "def test2():\n",
    "    event_codes = {\"О\": 0, \"Р\": 1}\n",
    "    p = np.asarray([0.5, 0.5])\n",
    "    trans_prob = np.asarray([[0.5, 0.5],\n",
    "                             [0.5, 0.5]])\n",
    "    event_prob = np.asarray([[0.5, 0.5],\n",
    "                             [0.51, 0.49]])\n",
    "    print(\"Последовательность наблюдений:\\n{}\\n\".format(\" \".join(\"ОРОРОРООРРРРРРРРРРОООООООО\")))\n",
    "    print_Vit_res(Viterbi(\"ОРОРОРООРРРРРРРРРРОООООООО\", event_codes, p, trans_prob, event_prob))\n",
    "    print_FB_res(FB(\"ОРОРОРООРРРРРРРРРРОООООООО\", event_codes, p, trans_prob, event_prob))"
   ]
  },
  {
   "cell_type": "code",
   "execution_count": 9,
   "metadata": {},
   "outputs": [
    {
     "name": "stdout",
     "output_type": "stream",
     "text": [
      "Последовательность наблюдений:\n",
      "О Р О Р О Р О О Р Р Р Р Р Р Р Р Р Р О О О О О О О О\n",
      "\n",
      "Скрытые состояния, предсказанные алгоритмом Витерби:\n",
      "1 0 1 0 1 0 1 1 0 0 0 0 0 0 0 0 0 0 1 1 1 1 1 1 1 1 \n",
      "\n",
      "Вероятности скрытых состояний, предсказанные алгоритмом прямого-обратного хода:\n",
      "0.50|0.51|0.50|0.51|0.50|0.51|0.50|0.50|0.51|0.51|0.51|0.51|0.51|\n",
      "0.50|0.49|0.50|0.49|0.50|0.49|0.50|0.50|0.49|0.49|0.49|0.49|0.49|\n",
      "\n",
      "0.51|0.51|0.51|0.51|0.51|0.50|0.50|0.50|0.50|0.50|0.50|0.50|0.50|\n",
      "0.49|0.49|0.49|0.49|0.49|0.50|0.50|0.50|0.50|0.50|0.50|0.50|0.50|\n",
      "\n",
      "Наиболее вероятные скрытые состояния:\n",
      "1 0 1 0 1 0 1 1 0 0 0 0 0 0 0 0 0 0 1 1 1 1 1 1 1 1 "
     ]
    }
   ],
   "source": [
    "test2()"
   ]
  }
 ],
 "metadata": {
  "kernelspec": {
   "display_name": "Python 3",
   "language": "python",
   "name": "python3"
  },
  "language_info": {
   "codemirror_mode": {
    "name": "ipython",
    "version": 3
   },
   "file_extension": ".py",
   "mimetype": "text/x-python",
   "name": "python",
   "nbconvert_exporter": "python",
   "pygments_lexer": "ipython3",
   "version": "3.6.1"
  }
 },
 "nbformat": 4,
 "nbformat_minor": 2
}
