{
 "cells": [
  {
   "cell_type": "code",
   "execution_count": 1,
   "metadata": {},
   "outputs": [],
   "source": [
    "import numpy as np\n",
    "import pandas as pd\n",
    "from matplotlib import pyplot as plt\n",
    "import re\n",
    "from sklearn.model_selection import train_test_split\n",
    "from sklearn.metrics import accuracy_score, auc, roc_curve\n",
    "from nltk.stem import PorterStemmer\n",
    "from nltk.tokenize import word_tokenize\n",
    "from nltk.corpus import stopwords"
   ]
  },
  {
   "cell_type": "code",
   "execution_count": 2,
   "metadata": {},
   "outputs": [],
   "source": [
    "spam = pd.read_csv('../HW6/spam.csv')"
   ]
  },
  {
   "cell_type": "markdown",
   "metadata": {},
   "source": [
    "# Gaussian Naive Bayes"
   ]
  },
  {
   "cell_type": "code",
   "execution_count": 3,
   "metadata": {},
   "outputs": [],
   "source": [
    "class ContinuousNaiveBayes():\n",
    "    def __init__(self):\n",
    "        self.__features_distribution = []\n",
    "        self.__classes_freqs = []\n",
    "        self.__classes_lbls = []\n",
    "        \n",
    "    def fit(self, X, y):\n",
    "        classes, ns = np.unique(y, return_counts=True)\n",
    "        c_indexes = [y == c for c in classes]\n",
    "        for c, n in zip(classes, ns):\n",
    "            self.__features_distribution.append([])\n",
    "            self.__classes_freqs.append(n / X.shape[0]) \n",
    "            \n",
    "        for j in range(X.shape[1]):\n",
    "            for c, idx in zip(classes, c_indexes):\n",
    "                self.__features_distribution[c].append([np.mean(X[idx, j]),\n",
    "                                                        np.std(X[idx, j]) ** 2])\n",
    "        \n",
    "    def predict_proba(self, X):\n",
    "        probs = np.ones((X.shape[0], 2))\n",
    "        probs = probs * np.asarray(self.__classes_freqs).reshape(1,2)\n",
    "        \n",
    "        for j in range(X.shape[1]):\n",
    "            p = np.ones((X.shape[0], 2))\n",
    "            for c in range(2):\n",
    "                p[:, c] = probs[:, c] * np.exp(- (X[:, j] - self.__features_distribution[c][j][0])  ** 2 \\\n",
    "                                                   / (2 * self.__features_distribution[c][j][1])) \\\n",
    "                   / np.sqrt(2 * np.pi * self.__features_distribution[c][j][1])\n",
    "                    \n",
    "            for k in range(X.shape[0]):\n",
    "                if p[k, 0] == p[k, 1] == 0: # really weird outlier\n",
    "                    p[k, :] = probs[k, :]\n",
    "            \n",
    "            probs = p \n",
    "        probs = probs / (probs[:, 0] + probs[:, 1])[:, None] \n",
    "        return probs\n",
    "    \n",
    "    def eval_model(self, X, y):\n",
    "        probs = self.predict_proba(X)\n",
    "        preds = np.argmax(probs, axis=1)\n",
    "        print(f'Accuracy score: {accuracy_score(y, preds)}')\n",
    "            \n",
    "        tpr, fpr, _ = roc_curve(y, probs[:, 0])\n",
    "        print(f'ROC-AUC score: {auc(fpr, tpr)}')\n",
    "        plt.figure(figsize=(10, 7))\n",
    "        plt.plot(fpr, tpr)\n",
    "        plt.title('ROC-кривая')"
   ]
  },
  {
   "cell_type": "code",
   "execution_count": 4,
   "metadata": {},
   "outputs": [],
   "source": [
    "spam_X_train, spam_X_val, spam_y_train, spam_y_val = train_test_split(spam.drop(columns=['label']).values,\n",
    "                                                                      spam.label.values,\n",
    "                                                                      test_size=0.2,\n",
    "                                                                      shuffle=True,\n",
    "                                                                      stratify=spam.label.values)"
   ]
  },
  {
   "cell_type": "code",
   "execution_count": 5,
   "metadata": {},
   "outputs": [],
   "source": [
    "spam_nb = ContinuousNaiveBayes()"
   ]
  },
  {
   "cell_type": "code",
   "execution_count": 6,
   "metadata": {},
   "outputs": [],
   "source": [
    "spam_nb.fit(spam_X_train, spam_y_train)"
   ]
  },
  {
   "cell_type": "code",
   "execution_count": 7,
   "metadata": {
    "scrolled": false
   },
   "outputs": [
    {
     "name": "stdout",
     "output_type": "stream",
     "text": [
      "Accuracy score: 0.8132464712269273\n",
      "ROC-AUC score: 0.9453182854942385\n"
     ]
    },
    {
     "data": {
      "image/png": "[encoded data removed]",
      "text/plain": [
       "<Figure size 720x504 with 1 Axes>"
      ]
     },
     "metadata": {},
     "output_type": "display_data"
    }
   ],
   "source": [
    "ContinuousNaiveBayes.eval_model(spam_nb, spam_X_val, spam_y_val)"
   ]
  },
  {
   "cell_type": "markdown",
   "metadata": {},
   "source": [
    "# Multinomial Naive Bayes"
   ]
  },
  {
   "cell_type": "code",
   "execution_count": 46,
   "metadata": {
    "scrolled": true
   },
   "outputs": [
    {
     "data": {
      "text/html": [
       "<div>\n",
       "<style scoped>\n",
       "    .dataframe tbody tr th:only-of-type {\n",
       "        vertical-align: middle;\n",
       "    }\n",
       "\n",
       "    .dataframe tbody tr th {\n",
       "        vertical-align: top;\n",
       "    }\n",
       "\n",
       "    .dataframe thead th {\n",
       "        text-align: right;\n",
       "    }\n",
       "</style>\n",
       "<table border=\"1\" class=\"dataframe\">\n",
       "  <thead>\n",
       "    <tr style=\"text-align: right;\">\n",
       "      <th></th>\n",
       "      <th>label</th>\n",
       "      <th>text</th>\n",
       "    </tr>\n",
       "  </thead>\n",
       "  <tbody>\n",
       "    <tr>\n",
       "      <th>0</th>\n",
       "      <td>ham</td>\n",
       "      <td>Go until jurong point, crazy.. Available only ...</td>\n",
       "    </tr>\n",
       "    <tr>\n",
       "      <th>1</th>\n",
       "      <td>ham</td>\n",
       "      <td>Ok lar... Joking wif u oni...</td>\n",
       "    </tr>\n",
       "    <tr>\n",
       "      <th>2</th>\n",
       "      <td>spam</td>\n",
       "      <td>Free entry in 2 a wkly comp to win FA Cup fina...</td>\n",
       "    </tr>\n",
       "    <tr>\n",
       "      <th>3</th>\n",
       "      <td>ham</td>\n",
       "      <td>U dun say so early hor... U c already then say...</td>\n",
       "    </tr>\n",
       "    <tr>\n",
       "      <th>4</th>\n",
       "      <td>ham</td>\n",
       "      <td>Nah I don't think he goes to usf, he lives aro...</td>\n",
       "    </tr>\n",
       "  </tbody>\n",
       "</table>\n",
       "</div>"
      ],
      "text/plain": [
       "  label                                               text\n",
       "0   ham  Go until jurong point, crazy.. Available only ...\n",
       "1   ham                      Ok lar... Joking wif u oni...\n",
       "2  spam  Free entry in 2 a wkly comp to win FA Cup fina...\n",
       "3   ham  U dun say so early hor... U c already then say...\n",
       "4   ham  Nah I don't think he goes to usf, he lives aro..."
      ]
     },
     "execution_count": 46,
     "metadata": {},
     "output_type": "execute_result"
    }
   ],
   "source": [
    "smsspam = pd.read_csv('smsspam.csv')\n",
    "smsspam.head()"
   ]
  },
  {
   "cell_type": "code",
   "execution_count": 47,
   "metadata": {},
   "outputs": [],
   "source": [
    "smsspam.label = smsspam.label.apply(lambda x: 0 if x == 'ham' else 1)"
   ]
  },
  {
   "cell_type": "code",
   "execution_count": 111,
   "metadata": {},
   "outputs": [],
   "source": [
    "class TextProcessor():\n",
    "    def __init__(self):\n",
    "        self.__words = set()\n",
    "        self.__stemmer = PorterStemmer()\n",
    "        self.codes = {}\n",
    "        \n",
    "    def fit(self, X):\n",
    "        for x in X:\n",
    "            for word in self.__get_document_words(x):\n",
    "                if word != '':\n",
    "                    self.__words.add(word)\n",
    "                    \n",
    "        lbls, words = pd.factorize(list(self.__words))\n",
    "        self.codes = dict(zip(words, lbls))\n",
    "        \n",
    "    def transform(self, X):\n",
    "        transformed = np.zeros((X.shape[0], len(self.__words)), dtype=int)\n",
    "        for i in range(X.shape[0]):\n",
    "            for w in self.__get_document_words(X[i]):\n",
    "               \n",
    "                if w in self.__words:\n",
    "                    transformed[i][self.codes[w]] += 1\n",
    "                     \n",
    "        return transformed\n",
    "        \n",
    "    def fit_transform(self, X):\n",
    "        self.fit(X)\n",
    "        return self.transform(X)\n",
    "        \n",
    "    def __get_document_words(self, x):\n",
    "        tokens = word_tokenize(x)\n",
    "        \n",
    "        def split_numbers(w):\n",
    "            res = []\n",
    "            for d in re.findall('\\d+', w):\n",
    "                res.append(f'$number{len(d)}')\n",
    "                \n",
    "            for d in re.findall('[^\\d\\w]{1}', w):\n",
    "                res.append(d)\n",
    "                \n",
    "            for d in re.split('[\\d\\W]', w):\n",
    "                if d != '':\n",
    "                    res.append(d.lower())\n",
    "            return res\n",
    "        \n",
    "        clean_tokens = []\n",
    "        for w in tokens:\n",
    "            for c in split_numbers(w):\n",
    "                clean_tokens.append(c)\n",
    "        \n",
    "        stemmed = list(map(self.__stemmer.stem, \n",
    "                        filter(lambda x: x not in stopwords.words('english'), clean_tokens)))\n",
    "            \n",
    "        return stemmed"
   ]
  },
  {
   "cell_type": "code",
   "execution_count": 48,
   "metadata": {},
   "outputs": [],
   "source": [
    "smssp_X_train, smssp_X_val, smssp_y_train, smssp_y_val = train_test_split(smsspam.text.values,\n",
    "                                                                          smsspam.label.values,\n",
    "                                                                          test_size=0.2,\n",
    "                                                                          shuffle=True,\n",
    "                                                                          stratify=smsspam.label.values)"
   ]
  },
  {
   "cell_type": "code",
   "execution_count": 65,
   "metadata": {},
   "outputs": [],
   "source": [
    "smsspam_proc = TextProcessor()\n",
    "smsspam_train_categs = smsspam_proc.fit_transform(smssp_X_train)"
   ]
  },
  {
   "cell_type": "code",
   "execution_count": 66,
   "metadata": {},
   "outputs": [
    {
     "data": {
      "text/plain": [
       "(4457, 5656)"
      ]
     },
     "execution_count": 66,
     "metadata": {},
     "output_type": "execute_result"
    }
   ],
   "source": [
    "smsspam_train_categs.shape"
   ]
  },
  {
   "cell_type": "code",
   "execution_count": 67,
   "metadata": {},
   "outputs": [],
   "source": [
    "smsspam_val_categs = smsspam_proc.transform(smssp_X_val)"
   ]
  },
  {
   "cell_type": "code",
   "execution_count": 102,
   "metadata": {},
   "outputs": [],
   "source": [
    "class CategorialNaiveBayes():\n",
    "    def __init__(self):\n",
    "        self.__features_counts = None\n",
    "        self.__classes_freqs = None\n",
    "        self.__class_sizes = None\n",
    "        \n",
    "    def fit(self, X, y):\n",
    "        classes, ns = np.unique(y, return_counts=True)\n",
    "        c_indexes = [y == c for c in [0,1]]\n",
    "        self.__classes_freqs = ns / len(y)\n",
    "        self.__features_counts = [[[], []] for i in range(X.shape[1])]\n",
    "        self.__class_sizes = [np.count_nonzero(idx) for idx in c_indexes]\n",
    "        \n",
    "        for j in range(X.shape[1]):\n",
    "            for c, idx in zip(classes, c_indexes):\n",
    "                counts, ns = np.unique(X[idx, j], return_counts=True)\n",
    "                max_ = max(counts)\n",
    "                self.__features_counts[j][c] = [0 for _ in range(max_ + 1)]\n",
    "                for v, n in zip(counts, ns):\n",
    "                    self.__features_counts[j][c][v] = n \n",
    "                self.__features_counts[j][c] = np.asarray(self.__features_counts[j][c])\n",
    "                \n",
    "    def predict_proba(self, X, alpha=0.01):\n",
    "        probs = np.ones((X.shape[0], 2))\n",
    "        probs = probs * np.asarray(self.__classes_freqs).reshape(1,2)\n",
    "        \n",
    "        for j in range(X.shape[1]):\n",
    "            for c in range(2):\n",
    "                l = len(self.__features_counts[j][c])\n",
    "                K = max(max(X[:, j]), l - 1)\n",
    "                if K >= l:\n",
    "                    self.__features_counts[j][c] = np.concatenate((self.__features_counts[j][c],\n",
    "                                                                   np.zeros(K - l + 1,)), axis=0)\n",
    "                probs[:, c] = probs[:, c] * (self.__features_counts[j][c][X[:, j]] + alpha) \\\n",
    "                            / (self.__class_sizes[c] + alpha * K) \n",
    "     \n",
    "        probs = probs / (probs[:, 0] + probs[:, 1])[:, None] \n",
    "        return probs\n",
    "    \n",
    "    def eval_model(self, X, y):\n",
    "        probs = self.predict_proba(X)\n",
    "        preds = np.argmax(probs, axis=1)\n",
    "        print(f'Accuracy score: {accuracy_score(y, preds)}')\n",
    "            \n",
    "        tpr, fpr, _ = roc_curve(y, probs[:, 0])\n",
    "        print(f'ROC-AUC score: {auc(fpr, tpr)}')\n",
    "        plt.figure(figsize=(10, 7))\n",
    "        plt.plot(fpr, tpr)\n",
    "        plt.title('ROC-кривая')"
   ]
  },
  {
   "cell_type": "code",
   "execution_count": 103,
   "metadata": {},
   "outputs": [],
   "source": [
    "nb_sms = CategorialNaiveBayes()"
   ]
  },
  {
   "cell_type": "code",
   "execution_count": 104,
   "metadata": {},
   "outputs": [],
   "source": [
    "nb_sms.fit(smsspam_train_categs, smssp_y_train)"
   ]
  },
  {
   "cell_type": "code",
   "execution_count": 106,
   "metadata": {},
   "outputs": [
    {
     "name": "stdout",
     "output_type": "stream",
     "text": [
      "Accuracy score: 0.9910313901345291\n",
      "ROC-AUC score: 0.9990551224866953\n"
     ]
    },
    {
     "data": {
      "image/png": "[encoded data removed]",
      "text/plain": [
       "<Figure size 720x504 with 1 Axes>"
      ]
     },
     "metadata": {},
     "output_type": "display_data"
    }
   ],
   "source": [
    "CategorialNaiveBayes.eval_model(nb_sms, smsspam_val_categs, smssp_y_val)"
   ]
  }
 ],
 "metadata": {
  "kernelspec": {
   "display_name": "Python 3",
   "language": "python",
   "name": "python3"
  },
  "language_info": {
   "codemirror_mode": {
    "name": "ipython",
    "version": 3
   },
   "file_extension": ".py",
   "mimetype": "text/x-python",
   "name": "python",
   "nbconvert_exporter": "python",
   "pygments_lexer": "ipython3",
   "version": "3.6.7"
  }
 },
 "nbformat": 4,
 "nbformat_minor": 2
}
