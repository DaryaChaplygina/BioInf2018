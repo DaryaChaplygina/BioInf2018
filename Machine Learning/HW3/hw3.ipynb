{
 "cells": [
  {
   "cell_type": "code",
   "execution_count": 204,
   "metadata": {},
   "outputs": [],
   "source": [
    "import numpy as np\n",
    "import pandas as pd\n",
    "from sklearn.metrics import auc, accuracy_score\n",
    "from sklearn.model_selection import train_test_split\n",
    "from matplotlib import pyplot as plt\n",
    "%matplotlib inline"
   ]
  },
  {
   "cell_type": "code",
   "execution_count": 2,
   "metadata": {},
   "outputs": [
    {
     "data": {
      "text/html": [
       "<div>\n",
       "<style scoped>\n",
       "    .dataframe tbody tr th:only-of-type {\n",
       "        vertical-align: middle;\n",
       "    }\n",
       "\n",
       "    .dataframe tbody tr th {\n",
       "        vertical-align: top;\n",
       "    }\n",
       "\n",
       "    .dataframe thead th {\n",
       "        text-align: right;\n",
       "    }\n",
       "</style>\n",
       "<table border=\"1\" class=\"dataframe\">\n",
       "  <thead>\n",
       "    <tr style=\"text-align: right;\">\n",
       "      <th></th>\n",
       "      <th>label</th>\n",
       "      <th>1</th>\n",
       "      <th>2</th>\n",
       "      <th>3</th>\n",
       "      <th>4</th>\n",
       "      <th>5</th>\n",
       "      <th>6</th>\n",
       "      <th>7</th>\n",
       "      <th>8</th>\n",
       "      <th>9</th>\n",
       "      <th>...</th>\n",
       "      <th>21</th>\n",
       "      <th>22</th>\n",
       "      <th>23</th>\n",
       "      <th>24</th>\n",
       "      <th>25</th>\n",
       "      <th>26</th>\n",
       "      <th>27</th>\n",
       "      <th>28</th>\n",
       "      <th>29</th>\n",
       "      <th>30</th>\n",
       "    </tr>\n",
       "  </thead>\n",
       "  <tbody>\n",
       "    <tr>\n",
       "      <th>0</th>\n",
       "      <td>M</td>\n",
       "      <td>17.99</td>\n",
       "      <td>10.38</td>\n",
       "      <td>122.80</td>\n",
       "      <td>1001.0</td>\n",
       "      <td>0.11840</td>\n",
       "      <td>0.27760</td>\n",
       "      <td>0.3001</td>\n",
       "      <td>0.14710</td>\n",
       "      <td>0.2419</td>\n",
       "      <td>...</td>\n",
       "      <td>25.38</td>\n",
       "      <td>17.33</td>\n",
       "      <td>184.60</td>\n",
       "      <td>2019.0</td>\n",
       "      <td>0.1622</td>\n",
       "      <td>0.6656</td>\n",
       "      <td>0.7119</td>\n",
       "      <td>0.2654</td>\n",
       "      <td>0.4601</td>\n",
       "      <td>0.11890</td>\n",
       "    </tr>\n",
       "    <tr>\n",
       "      <th>1</th>\n",
       "      <td>M</td>\n",
       "      <td>20.57</td>\n",
       "      <td>17.77</td>\n",
       "      <td>132.90</td>\n",
       "      <td>1326.0</td>\n",
       "      <td>0.08474</td>\n",
       "      <td>0.07864</td>\n",
       "      <td>0.0869</td>\n",
       "      <td>0.07017</td>\n",
       "      <td>0.1812</td>\n",
       "      <td>...</td>\n",
       "      <td>24.99</td>\n",
       "      <td>23.41</td>\n",
       "      <td>158.80</td>\n",
       "      <td>1956.0</td>\n",
       "      <td>0.1238</td>\n",
       "      <td>0.1866</td>\n",
       "      <td>0.2416</td>\n",
       "      <td>0.1860</td>\n",
       "      <td>0.2750</td>\n",
       "      <td>0.08902</td>\n",
       "    </tr>\n",
       "    <tr>\n",
       "      <th>2</th>\n",
       "      <td>M</td>\n",
       "      <td>19.69</td>\n",
       "      <td>21.25</td>\n",
       "      <td>130.00</td>\n",
       "      <td>1203.0</td>\n",
       "      <td>0.10960</td>\n",
       "      <td>0.15990</td>\n",
       "      <td>0.1974</td>\n",
       "      <td>0.12790</td>\n",
       "      <td>0.2069</td>\n",
       "      <td>...</td>\n",
       "      <td>23.57</td>\n",
       "      <td>25.53</td>\n",
       "      <td>152.50</td>\n",
       "      <td>1709.0</td>\n",
       "      <td>0.1444</td>\n",
       "      <td>0.4245</td>\n",
       "      <td>0.4504</td>\n",
       "      <td>0.2430</td>\n",
       "      <td>0.3613</td>\n",
       "      <td>0.08758</td>\n",
       "    </tr>\n",
       "    <tr>\n",
       "      <th>3</th>\n",
       "      <td>M</td>\n",
       "      <td>11.42</td>\n",
       "      <td>20.38</td>\n",
       "      <td>77.58</td>\n",
       "      <td>386.1</td>\n",
       "      <td>0.14250</td>\n",
       "      <td>0.28390</td>\n",
       "      <td>0.2414</td>\n",
       "      <td>0.10520</td>\n",
       "      <td>0.2597</td>\n",
       "      <td>...</td>\n",
       "      <td>14.91</td>\n",
       "      <td>26.50</td>\n",
       "      <td>98.87</td>\n",
       "      <td>567.7</td>\n",
       "      <td>0.2098</td>\n",
       "      <td>0.8663</td>\n",
       "      <td>0.6869</td>\n",
       "      <td>0.2575</td>\n",
       "      <td>0.6638</td>\n",
       "      <td>0.17300</td>\n",
       "    </tr>\n",
       "    <tr>\n",
       "      <th>4</th>\n",
       "      <td>M</td>\n",
       "      <td>20.29</td>\n",
       "      <td>14.34</td>\n",
       "      <td>135.10</td>\n",
       "      <td>1297.0</td>\n",
       "      <td>0.10030</td>\n",
       "      <td>0.13280</td>\n",
       "      <td>0.1980</td>\n",
       "      <td>0.10430</td>\n",
       "      <td>0.1809</td>\n",
       "      <td>...</td>\n",
       "      <td>22.54</td>\n",
       "      <td>16.67</td>\n",
       "      <td>152.20</td>\n",
       "      <td>1575.0</td>\n",
       "      <td>0.1374</td>\n",
       "      <td>0.2050</td>\n",
       "      <td>0.4000</td>\n",
       "      <td>0.1625</td>\n",
       "      <td>0.2364</td>\n",
       "      <td>0.07678</td>\n",
       "    </tr>\n",
       "  </tbody>\n",
       "</table>\n",
       "<p>5 rows × 31 columns</p>\n",
       "</div>"
      ],
      "text/plain": [
       "  label      1      2       3       4        5        6       7        8  \\\n",
       "0     M  17.99  10.38  122.80  1001.0  0.11840  0.27760  0.3001  0.14710   \n",
       "1     M  20.57  17.77  132.90  1326.0  0.08474  0.07864  0.0869  0.07017   \n",
       "2     M  19.69  21.25  130.00  1203.0  0.10960  0.15990  0.1974  0.12790   \n",
       "3     M  11.42  20.38   77.58   386.1  0.14250  0.28390  0.2414  0.10520   \n",
       "4     M  20.29  14.34  135.10  1297.0  0.10030  0.13280  0.1980  0.10430   \n",
       "\n",
       "        9  ...     21     22      23      24      25      26      27      28  \\\n",
       "0  0.2419  ...  25.38  17.33  184.60  2019.0  0.1622  0.6656  0.7119  0.2654   \n",
       "1  0.1812  ...  24.99  23.41  158.80  1956.0  0.1238  0.1866  0.2416  0.1860   \n",
       "2  0.2069  ...  23.57  25.53  152.50  1709.0  0.1444  0.4245  0.4504  0.2430   \n",
       "3  0.2597  ...  14.91  26.50   98.87   567.7  0.2098  0.8663  0.6869  0.2575   \n",
       "4  0.1809  ...  22.54  16.67  152.20  1575.0  0.1374  0.2050  0.4000  0.1625   \n",
       "\n",
       "       29       30  \n",
       "0  0.4601  0.11890  \n",
       "1  0.2750  0.08902  \n",
       "2  0.3613  0.08758  \n",
       "3  0.6638  0.17300  \n",
       "4  0.2364  0.07678  \n",
       "\n",
       "[5 rows x 31 columns]"
      ]
     },
     "execution_count": 2,
     "metadata": {},
     "output_type": "execute_result"
    }
   ],
   "source": [
    "cancer = pd.read_csv('../HW1/cancer.csv')\n",
    "cancer.head()"
   ]
  },
  {
   "cell_type": "code",
   "execution_count": 33,
   "metadata": {},
   "outputs": [],
   "source": [
    "cancer_y = cancer.label.values\n",
    "cancer_x = cancer.loc[:, '1':'30'].values\n",
    "cancer_features = cancer.drop(['label'], axis=1).columns.values"
   ]
  },
  {
   "cell_type": "code",
   "execution_count": 27,
   "metadata": {},
   "outputs": [
    {
     "data": {
      "text/html": [
       "<div>\n",
       "<style scoped>\n",
       "    .dataframe tbody tr th:only-of-type {\n",
       "        vertical-align: middle;\n",
       "    }\n",
       "\n",
       "    .dataframe tbody tr th {\n",
       "        vertical-align: top;\n",
       "    }\n",
       "\n",
       "    .dataframe thead th {\n",
       "        text-align: right;\n",
       "    }\n",
       "</style>\n",
       "<table border=\"1\" class=\"dataframe\">\n",
       "  <thead>\n",
       "    <tr style=\"text-align: right;\">\n",
       "      <th></th>\n",
       "      <th>word_freq_make</th>\n",
       "      <th>word_freq_address</th>\n",
       "      <th>word_freq_all</th>\n",
       "      <th>word_freq_3d</th>\n",
       "      <th>word_freq_our</th>\n",
       "      <th>word_freq_over</th>\n",
       "      <th>word_freq_remove</th>\n",
       "      <th>word_freq_internet</th>\n",
       "      <th>word_freq_order</th>\n",
       "      <th>word_freq_mail</th>\n",
       "      <th>...</th>\n",
       "      <th>char_freq_:</th>\n",
       "      <th>char_freq_(</th>\n",
       "      <th>char_freq_[</th>\n",
       "      <th>char_freq_!</th>\n",
       "      <th>char_freq_$</th>\n",
       "      <th>char_freq_#</th>\n",
       "      <th>capital_run_length_average</th>\n",
       "      <th>capital_run_length_longest</th>\n",
       "      <th>capital_run_length_total</th>\n",
       "      <th>label</th>\n",
       "    </tr>\n",
       "  </thead>\n",
       "  <tbody>\n",
       "    <tr>\n",
       "      <th>0</th>\n",
       "      <td>0.00</td>\n",
       "      <td>0.64</td>\n",
       "      <td>0.64</td>\n",
       "      <td>0.0</td>\n",
       "      <td>0.32</td>\n",
       "      <td>0.00</td>\n",
       "      <td>0.00</td>\n",
       "      <td>0.00</td>\n",
       "      <td>0.00</td>\n",
       "      <td>0.00</td>\n",
       "      <td>...</td>\n",
       "      <td>0.00</td>\n",
       "      <td>0.000</td>\n",
       "      <td>0.0</td>\n",
       "      <td>0.778</td>\n",
       "      <td>0.000</td>\n",
       "      <td>0.000</td>\n",
       "      <td>3.756</td>\n",
       "      <td>61</td>\n",
       "      <td>278</td>\n",
       "      <td>1</td>\n",
       "    </tr>\n",
       "    <tr>\n",
       "      <th>1</th>\n",
       "      <td>0.21</td>\n",
       "      <td>0.28</td>\n",
       "      <td>0.50</td>\n",
       "      <td>0.0</td>\n",
       "      <td>0.14</td>\n",
       "      <td>0.28</td>\n",
       "      <td>0.21</td>\n",
       "      <td>0.07</td>\n",
       "      <td>0.00</td>\n",
       "      <td>0.94</td>\n",
       "      <td>...</td>\n",
       "      <td>0.00</td>\n",
       "      <td>0.132</td>\n",
       "      <td>0.0</td>\n",
       "      <td>0.372</td>\n",
       "      <td>0.180</td>\n",
       "      <td>0.048</td>\n",
       "      <td>5.114</td>\n",
       "      <td>101</td>\n",
       "      <td>1028</td>\n",
       "      <td>1</td>\n",
       "    </tr>\n",
       "    <tr>\n",
       "      <th>2</th>\n",
       "      <td>0.06</td>\n",
       "      <td>0.00</td>\n",
       "      <td>0.71</td>\n",
       "      <td>0.0</td>\n",
       "      <td>1.23</td>\n",
       "      <td>0.19</td>\n",
       "      <td>0.19</td>\n",
       "      <td>0.12</td>\n",
       "      <td>0.64</td>\n",
       "      <td>0.25</td>\n",
       "      <td>...</td>\n",
       "      <td>0.01</td>\n",
       "      <td>0.143</td>\n",
       "      <td>0.0</td>\n",
       "      <td>0.276</td>\n",
       "      <td>0.184</td>\n",
       "      <td>0.010</td>\n",
       "      <td>9.821</td>\n",
       "      <td>485</td>\n",
       "      <td>2259</td>\n",
       "      <td>1</td>\n",
       "    </tr>\n",
       "    <tr>\n",
       "      <th>3</th>\n",
       "      <td>0.00</td>\n",
       "      <td>0.00</td>\n",
       "      <td>0.00</td>\n",
       "      <td>0.0</td>\n",
       "      <td>0.63</td>\n",
       "      <td>0.00</td>\n",
       "      <td>0.31</td>\n",
       "      <td>0.63</td>\n",
       "      <td>0.31</td>\n",
       "      <td>0.63</td>\n",
       "      <td>...</td>\n",
       "      <td>0.00</td>\n",
       "      <td>0.137</td>\n",
       "      <td>0.0</td>\n",
       "      <td>0.137</td>\n",
       "      <td>0.000</td>\n",
       "      <td>0.000</td>\n",
       "      <td>3.537</td>\n",
       "      <td>40</td>\n",
       "      <td>191</td>\n",
       "      <td>1</td>\n",
       "    </tr>\n",
       "    <tr>\n",
       "      <th>4</th>\n",
       "      <td>0.00</td>\n",
       "      <td>0.00</td>\n",
       "      <td>0.00</td>\n",
       "      <td>0.0</td>\n",
       "      <td>0.63</td>\n",
       "      <td>0.00</td>\n",
       "      <td>0.31</td>\n",
       "      <td>0.63</td>\n",
       "      <td>0.31</td>\n",
       "      <td>0.63</td>\n",
       "      <td>...</td>\n",
       "      <td>0.00</td>\n",
       "      <td>0.135</td>\n",
       "      <td>0.0</td>\n",
       "      <td>0.135</td>\n",
       "      <td>0.000</td>\n",
       "      <td>0.000</td>\n",
       "      <td>3.537</td>\n",
       "      <td>40</td>\n",
       "      <td>191</td>\n",
       "      <td>1</td>\n",
       "    </tr>\n",
       "  </tbody>\n",
       "</table>\n",
       "<p>5 rows × 58 columns</p>\n",
       "</div>"
      ],
      "text/plain": [
       "   word_freq_make  word_freq_address  word_freq_all  word_freq_3d  \\\n",
       "0            0.00               0.64           0.64           0.0   \n",
       "1            0.21               0.28           0.50           0.0   \n",
       "2            0.06               0.00           0.71           0.0   \n",
       "3            0.00               0.00           0.00           0.0   \n",
       "4            0.00               0.00           0.00           0.0   \n",
       "\n",
       "   word_freq_our  word_freq_over  word_freq_remove  word_freq_internet  \\\n",
       "0           0.32            0.00              0.00                0.00   \n",
       "1           0.14            0.28              0.21                0.07   \n",
       "2           1.23            0.19              0.19                0.12   \n",
       "3           0.63            0.00              0.31                0.63   \n",
       "4           0.63            0.00              0.31                0.63   \n",
       "\n",
       "   word_freq_order  word_freq_mail  ...  char_freq_:  char_freq_(  \\\n",
       "0             0.00            0.00  ...         0.00        0.000   \n",
       "1             0.00            0.94  ...         0.00        0.132   \n",
       "2             0.64            0.25  ...         0.01        0.143   \n",
       "3             0.31            0.63  ...         0.00        0.137   \n",
       "4             0.31            0.63  ...         0.00        0.135   \n",
       "\n",
       "   char_freq_[  char_freq_!  char_freq_$  char_freq_#  \\\n",
       "0          0.0        0.778        0.000        0.000   \n",
       "1          0.0        0.372        0.180        0.048   \n",
       "2          0.0        0.276        0.184        0.010   \n",
       "3          0.0        0.137        0.000        0.000   \n",
       "4          0.0        0.135        0.000        0.000   \n",
       "\n",
       "   capital_run_length_average  capital_run_length_longest  \\\n",
       "0                       3.756                          61   \n",
       "1                       5.114                         101   \n",
       "2                       9.821                         485   \n",
       "3                       3.537                          40   \n",
       "4                       3.537                          40   \n",
       "\n",
       "   capital_run_length_total  label  \n",
       "0                       278      1  \n",
       "1                      1028      1  \n",
       "2                      2259      1  \n",
       "3                       191      1  \n",
       "4                       191      1  \n",
       "\n",
       "[5 rows x 58 columns]"
      ]
     },
     "execution_count": 27,
     "metadata": {},
     "output_type": "execute_result"
    }
   ],
   "source": [
    "spam = pd.read_csv('../HW1/spam.csv')\n",
    "spam.head()"
   ]
  },
  {
   "cell_type": "code",
   "execution_count": 43,
   "metadata": {},
   "outputs": [],
   "source": [
    "spam_y = spam.label.values\n",
    "spam_x = spam.loc[:, 'word_freq_make':'capital_run_length_total'].values\n",
    "spam_features = spam.drop(['label'], axis=1).columns.values"
   ]
  },
  {
   "cell_type": "markdown",
   "metadata": {},
   "source": [
    "# 1. Подсчет ROC AUC для пороговых условий "
   ]
  },
  {
   "cell_type": "code",
   "execution_count": 210,
   "metadata": {},
   "outputs": [],
   "source": [
    "def best_thr_features(x, y, features, dataset, pos_lbl=1, neg_lbl=0, step=30):\n",
    "    n = x.shape[0]\n",
    "    n_pos = sum([1 if l == pos_lbl else 0 for l in y])\n",
    "    n_neg = n - n_pos\n",
    "\n",
    "    features_scores = []\n",
    "\n",
    "    for i in range(x.shape[1]):\n",
    "        col_sorted, idx_sorted = zip(*sorted(zip(x[:, i], range(n))))\n",
    "        min_, max_ = col_sorted[0], col_sorted[n - 1]\n",
    "        thresholds = np.linspace(min_, max_, step)\n",
    "        tp_fp = np.zeros((step, 2))\n",
    "\n",
    "        col_idx = 0\n",
    "        for j in range(step):\n",
    "            while col_idx + 1 < n and col_sorted[col_idx + 1] <= thresholds[j]:\n",
    "                col_idx += 1\n",
    "\n",
    "            # indexes for columns which is > thresholds and classified as positive\n",
    "            for k in range(col_idx + 1, n):\n",
    "                if y[idx_sorted[k]] == pos_lbl:\n",
    "                    tp_fp[j, 0] += 1\n",
    "                else:\n",
    "                    tp_fp[j, 1] += 1\n",
    "\n",
    "        tp_fp[:, 0] /= n_pos\n",
    "        tp_fp[:, 1] /= n_neg\n",
    "        features_scores.append((auc(tp_fp[:, 1], tp_fp[:, 0]), tp_fp))\n",
    "\n",
    "\n",
    "    features_scores, idx_sorted = zip(*sorted(zip(features_scores, range(x.shape[1])), \n",
    "                                  reverse=True))\n",
    "    print(f'Датасет: {dataset}\\n'\n",
    "          f'Топ-3 признаков по значению roc-auc: {[features[i] for i in idx_sorted[:3]]}\\n'\n",
    "          f'ROC-AUC топ-3х признаков: {[s[0] for s in features_scores[:3]]}')\n",
    "    for i in range(3):\n",
    "        plt.plot(features_scores[i][1][:, 1], features_scores[i][1][:, 0])\n",
    "        plt.title(f'roc кривая для признака {features[idx_sorted[i]]}')\n",
    "        plt.show()"
   ]
  },
  {
   "cell_type": "code",
   "execution_count": 211,
   "metadata": {},
   "outputs": [
    {
     "name": "stdout",
     "output_type": "stream",
     "text": [
      "Датасет: cancer\n",
      "Топ-3 признаков по значению roc-auc: ['23', '21', '24']\n",
      "ROC-AUC топ-3х признаков: [0.9699143808466782, 0.9655673590190794, 0.9625350140056023]\n"
     ]
    },
    {
     "data": {
      "image/png": "[encoded data removed]",
      "text/plain": [
       "<Figure size 432x288 with 1 Axes>"
      ]
     },
     "metadata": {},
     "output_type": "display_data"
    },
    {
     "data": {
      "image/png": "[encoded data removed]",
      "text/plain": [
       "<Figure size 432x288 with 1 Axes>"
      ]
     },
     "metadata": {},
     "output_type": "display_data"
    },
    {
     "data": {
      "image/png": "[encoded data removed]",
      "text/plain": [
       "<Figure size 432x288 with 1 Axes>"
      ]
     },
     "metadata": {},
     "output_type": "display_data"
    }
   ],
   "source": [
    "best_thr_features(cancer_x, cancer_y, cancer_features, 'cancer', 'M', 'B')"
   ]
  },
  {
   "cell_type": "code",
   "execution_count": 212,
   "metadata": {},
   "outputs": [
    {
     "name": "stdout",
     "output_type": "stream",
     "text": [
      "Датасет: spam\n",
      "Топ-3 признаков по значению roc-auc: ['capital_run_length_total', 'capital_run_length_longest', 'capital_run_length_average']\n",
      "ROC-AUC топ-3х признаков: [0.5829278975927881, 0.4665238541032761, 0.44684581149532976]\n"
     ]
    },
    {
     "data": {
      "image/png": "[encoded data removed]",
      "text/plain": [
       "<Figure size 432x288 with 1 Axes>"
      ]
     },
     "metadata": {},
     "output_type": "display_data"
    },
    {
     "data": {
      "image/png": "[encoded data removed]",
      "text/plain": [
       "<Figure size 432x288 with 1 Axes>"
      ]
     },
     "metadata": {},
     "output_type": "display_data"
    },
    {
     "data": {
      "image/png": "[encoded data removed]",
      "text/plain": [
       "<Figure size 432x288 with 1 Axes>"
      ]
     },
     "metadata": {},
     "output_type": "display_data"
    }
   ],
   "source": [
    "best_thr_features(spam_x, spam_y, spam_features, 'spam')"
   ]
  },
  {
   "cell_type": "markdown",
   "metadata": {},
   "source": [
    "# 2. Разделение датасетов на train/test"
   ]
  },
  {
   "cell_type": "code",
   "execution_count": 71,
   "metadata": {},
   "outputs": [],
   "source": [
    "def splitter(x, y):\n",
    "    x_train, x_test, y_train, y_test = train_test_split(x, y, test_size=0.2, shuffle=True, stratify=y)\n",
    "    \n",
    "    def __printer(a, name):\n",
    "        lbls, counts = np.unique(a, return_counts=True)\n",
    "        print(f'Пропорции классов в {name} датасете:\\n'\n",
    "              f'\\t{lbls[0]}: {counts[0] / len(a)}; {lbls[1]}: {counts[1] / len(a)}\\n')\n",
    "    \n",
    "    __printer(y, 'исходном')\n",
    "    __printer(y_train, 'обучающем')\n",
    "    __printer(y_test, 'валидационном')\n",
    "    \n",
    "    return x_train, x_test, y_train, y_test"
   ]
  },
  {
   "cell_type": "code",
   "execution_count": 72,
   "metadata": {},
   "outputs": [
    {
     "name": "stdout",
     "output_type": "stream",
     "text": [
      "Пропорции классов в исходном датасете:\n",
      "\tB: 0.6274165202108963; M: 0.37258347978910367\n",
      "\n",
      "Пропорции классов в обучающем датасете:\n",
      "\tB: 0.6263736263736264; M: 0.37362637362637363\n",
      "\n",
      "Пропорции классов в валидационном датасете:\n",
      "\tB: 0.631578947368421; M: 0.3684210526315789\n",
      "\n"
     ]
    }
   ],
   "source": [
    "cancer_x_train, cancer_x_validate, \\\n",
    "    cancer_y_train, cancer_y_validate = splitter(cancer_x, cancer_y)"
   ]
  },
  {
   "cell_type": "code",
   "execution_count": 73,
   "metadata": {},
   "outputs": [
    {
     "name": "stdout",
     "output_type": "stream",
     "text": [
      "Пропорции классов в исходном датасете:\n",
      "\t0: 0.6059552271245382; 1: 0.39404477287546186\n",
      "\n",
      "Пропорции классов в обучающем датасете:\n",
      "\t0: 0.6059782608695652; 1: 0.39402173913043476\n",
      "\n",
      "Пропорции классов в валидационном датасете:\n",
      "\t0: 0.6058631921824105; 1: 0.3941368078175896\n",
      "\n"
     ]
    }
   ],
   "source": [
    "spam_x_train, spam_x_validate, \\\n",
    "    spam_y_train, spam_y_validate = splitter(spam_x, spam_y)"
   ]
  },
  {
   "cell_type": "markdown",
   "metadata": {},
   "source": [
    "# 3. Реализация алгоритма построения дерева"
   ]
  },
  {
   "cell_type": "code",
   "execution_count": 230,
   "metadata": {},
   "outputs": [],
   "source": [
    "def tree_builder(x, y, metrics, depth, max_depth, rules, idx, N, pos_lbl=1, neg_lbl=0):\n",
    "    lbls, counts = np.unique(y, return_counts=True)\n",
    "    if len(lbls) == 1:\n",
    "        rules[idx] = [lbls[0]]\n",
    "        return lbls[0]\n",
    "    if depth == max_depth:\n",
    "        rules[idx] = [lbls[np.argmax(counts)]] \n",
    "        return lbls[np.argmax(counts)]\n",
    "    \n",
    "    best_params = [-1 for _ in range(x.shape[1])]\n",
    "    best_metric = [-1 for _ in range(x.shape[1])]\n",
    "    n = x.shape[0]\n",
    "    for i in range(x.shape[1]):\n",
    "        col_sorted, idx_sorted = zip(*sorted(zip(x[:, i], \n",
    "                                                 range(n))))\n",
    "        min_, max_ = col_sorted[0], col_sorted[n - 1]\n",
    "        thresholds = np.linspace(min_, max_, 30)\n",
    "        \n",
    "        col_idx = 0\n",
    "        for j in range(30):\n",
    "            while col_idx + 1 < n and col_sorted[col_idx + 1] <= thresholds[j]:\n",
    "                col_idx += 1\n",
    "            \n",
    "            left = [y[i] for i in idx_sorted[:col_idx + 1]]\n",
    "            right = [y[i] for i in idx_sorted[col_idx + 1:]]\n",
    "            \n",
    "            if left == [] or right == []:\n",
    "                continue\n",
    "                \n",
    "            if metrics(y, left, right, N) > best_metric[i]:\n",
    "                best_params[i] = thresholds[j]\n",
    "                best_metric[i] = metrics(y, left, right, N)\n",
    "                \n",
    "    if len(np.argwhere(best_metric == max(best_metric))) > 1:\n",
    "        rules[idx] = [np.argmax(counts)] \n",
    "        return lbls[np.argmax(counts)]\n",
    "    \n",
    "    max_idx = np.argmax(best_metric)\n",
    "    rules[idx] = [best_params[max_idx], max_idx,\n",
    "                  2 * idx, 2 * idx + 1, lbls[np.argmax(counts)]]\n",
    "    \n",
    "    less_idx = np.argwhere(x[:, max_idx] <= best_params[max_idx])\n",
    "    \n",
    "    tree_builder(x[less_idx].reshape(-1, x.shape[1]), y[less_idx], metrics, depth + 1, \n",
    "                 max_depth, rules, 2 * idx, N, pos_lbl, neg_lbl)\n",
    "    greater_idx = np.argwhere(x[:, max_idx] > best_params[max_idx])\n",
    "    tree_builder(x[greater_idx].reshape(-1, x.shape[1]), y[greater_idx], metrics, depth + 1, \n",
    "                 max_depth, rules, 2 * idx + 1, N, pos_lbl, neg_lbl)\n",
    "    \n",
    "    \"\"\"\n",
    "    [thr, col, <_idx, >_idx, dominant_label]\n",
    "    or\n",
    "    [lbl]\n",
    "    \"\"\"     "
   ]
  },
  {
   "cell_type": "code",
   "execution_count": 196,
   "metadata": {},
   "outputs": [],
   "source": [
    "def misclass_error(y, left, right, N):\n",
    "    lbls = np.unique(y)\n",
    "    \n",
    "    ie = lambda ys: (1 - max([sum([1 if y_ == l else 0 for y_ in ys]) / len(ys) \n",
    "                             for l in lbls]))\n",
    "    \n",
    "    node = len(y) / N * ie(y)\n",
    "    l = len(left) / N * ie(left)\n",
    "    r = len(right) / N * ie(right)\n",
    "    \n",
    "    return node - l - r"
   ]
  },
  {
   "cell_type": "code",
   "execution_count": 247,
   "metadata": {},
   "outputs": [],
   "source": [
    "def entropy(y, left, right, N):\n",
    "    lbls = np.unique(y)\n",
    "    \n",
    "    e = lambda ys: - sum([ sum([1 if y_ == l else 0 for y_ in ys]) / len(ys) \\\n",
    "                           * np.log2(1 if sum([1 if y_ == l else 0 for y_ in ys]) / len(ys) == 0 else\n",
    "                                      sum([1 if y_ == l else 0 for y_ in ys]) / len(ys)) \n",
    "                          for l in lbls\n",
    "                         ])\n",
    "    \n",
    "    node = len(y) / N * e(y)\n",
    "    l = len(left) / N * e(left)\n",
    "    r = len(right) / N * e(right)\n",
    "    \n",
    "    return node - l - r"
   ]
  },
  {
   "cell_type": "code",
   "execution_count": 252,
   "metadata": {},
   "outputs": [],
   "source": [
    "def gini_impurity(y, left, right, N):\n",
    "    lbls = np.unique(y)\n",
    "    \n",
    "    g = lambda ys: 2 * sum([1 if y_ == lbls[0] else 0 for y_ in ys]) / len(ys) ** 2 \\\n",
    "                           * sum([0 if y_ == lbls[0] else 1 for y_ in ys]) \n",
    "    node = len(y) / N * g(y)\n",
    "    l = len(left) / N * g(left)\n",
    "    r = len(right) / N * g(right)\n",
    "    \n",
    "    return node - l - r"
   ]
  },
  {
   "cell_type": "code",
   "execution_count": 229,
   "metadata": {},
   "outputs": [],
   "source": [
    "def find_best_depth(train_x, train_y, valid_x, valid_y, dataset, metrics, metrics_name, pos_lbl=1, neg_lbl=0):\n",
    "    best_acc = 0\n",
    "    best_depth = -1\n",
    "    \n",
    "    print(f'Датасет: {dataset}\\n'\n",
    "          f'Метрика: {metrics_name}')\n",
    "    \n",
    "    rules = [[] for _ in range(2 ** (10 + 1))]\n",
    "    tree_builder(train_x, train_y, metrics, 0, 10, rules, 1, train_x.shape[0], pos_lbl, neg_lbl)\n",
    "    \n",
    "    for d in range(1, 11):\n",
    "        pred = []\n",
    "        for x in valid_x:\n",
    "            r_idx = 1\n",
    "            curr_d = 0\n",
    "            while len(rules[r_idx]) > 1 and curr_d < d:\n",
    "                if x[rules[r_idx][1]] > rules[r_idx][0]:\n",
    "                    r_idx = rules[r_idx][3]\n",
    "                else:\n",
    "                    r_idx = rules[r_idx][2]\n",
    "                curr_d += 1\n",
    "            \n",
    "            pred.append(rules[r_idx][0] if len(rules[r_idx]) == 1 else rules[r_idx][4])\n",
    "            \n",
    "        print(f'\\tглубина дерева: {d}, accuracy: {accuracy_score(valid_y, pred)}')\n",
    "        if accuracy_score(valid_y, pred) > best_acc:\n",
    "            best_acc = accuracy_score(valid_y, pred)\n",
    "            best_depth = d\n",
    "            \n",
    "    print(f'Лучшая глубина: {best_depth}')\n",
    "    return rules, best_depth"
   ]
  },
  {
   "cell_type": "code",
   "execution_count": 232,
   "metadata": {
    "scrolled": true
   },
   "outputs": [
    {
     "name": "stdout",
     "output_type": "stream",
     "text": [
      "Датасет: cancer\n",
      "Метрика: misclassification error\n",
      "\tглубина дерева: 1, accuracy: 0.8859649122807017\n",
      "\tглубина дерева: 2, accuracy: 0.8947368421052632\n",
      "\tглубина дерева: 3, accuracy: 0.9122807017543859\n",
      "\tглубина дерева: 4, accuracy: 0.9122807017543859\n",
      "\tглубина дерева: 5, accuracy: 0.9122807017543859\n",
      "\tглубина дерева: 6, accuracy: 0.9035087719298246\n",
      "\tглубина дерева: 7, accuracy: 0.9035087719298246\n",
      "\tглубина дерева: 8, accuracy: 0.9035087719298246\n",
      "\tглубина дерева: 9, accuracy: 0.9122807017543859\n",
      "\tглубина дерева: 10, accuracy: 0.9035087719298246\n",
      "Лучшая глубина: 3\n"
     ]
    }
   ],
   "source": [
    "me_cancer_rules, me_cancer_best = find_best_depth(cancer_x_train, cancer_y_train, \\\n",
    "                                                  cancer_x_validate, cancer_y_validate, \\\n",
    "                                                  'cancer', misclass_error, 'misclassification error', 'M', 'B')"
   ]
  },
  {
   "cell_type": "code",
   "execution_count": 248,
   "metadata": {},
   "outputs": [
    {
     "name": "stdout",
     "output_type": "stream",
     "text": [
      "Датасет: cancer\n",
      "Метрика: entropy\n",
      "\tглубина дерева: 1, accuracy: 0.8859649122807017\n",
      "\tглубина дерева: 2, accuracy: 0.34210526315789475\n",
      "\tглубина дерева: 3, accuracy: 0.35964912280701755\n",
      "\tглубина дерева: 4, accuracy: 0.32456140350877194\n",
      "\tглубина дерева: 5, accuracy: 0.32456140350877194\n",
      "\tглубина дерева: 6, accuracy: 0.32456140350877194\n",
      "\tглубина дерева: 7, accuracy: 0.32456140350877194\n",
      "\tглубина дерева: 8, accuracy: 0.32456140350877194\n",
      "\tглубина дерева: 9, accuracy: 0.32456140350877194\n",
      "\tглубина дерева: 10, accuracy: 0.32456140350877194\n",
      "Лучшая глубина: 1\n"
     ]
    }
   ],
   "source": [
    "ent_cancer_rules, ent_cancer_best = find_best_depth(cancer_x_train, cancer_y_train, \\\n",
    "                                                  cancer_x_validate, cancer_y_validate, \\\n",
    "                                                  'cancer', entropy, 'entropy', 'M', 'B')"
   ]
  },
  {
   "cell_type": "code",
   "execution_count": 253,
   "metadata": {},
   "outputs": [
    {
     "name": "stdout",
     "output_type": "stream",
     "text": [
      "Датасет: cancer\n",
      "Метрика: Gini impurity\n",
      "\tглубина дерева: 1, accuracy: 0.8859649122807017\n",
      "\tглубина дерева: 2, accuracy: 0.8947368421052632\n",
      "\tглубина дерева: 3, accuracy: 0.9035087719298246\n",
      "\tглубина дерева: 4, accuracy: 0.8596491228070176\n",
      "\tглубина дерева: 5, accuracy: 0.8859649122807017\n",
      "\tглубина дерева: 6, accuracy: 0.8859649122807017\n",
      "\tглубина дерева: 7, accuracy: 0.8859649122807017\n",
      "\tглубина дерева: 8, accuracy: 0.8859649122807017\n",
      "\tглубина дерева: 9, accuracy: 0.8859649122807017\n",
      "\tглубина дерева: 10, accuracy: 0.8859649122807017\n",
      "Лучшая глубина: 3\n"
     ]
    }
   ],
   "source": [
    "gini_cancer_rules, gini_cancer_best = find_best_depth(cancer_x_train, cancer_y_train, \\\n",
    "                                                  cancer_x_validate, cancer_y_validate, \\\n",
    "                                                  'cancer', gini_impurity, 'Gini impurity', 'M', 'B')"
   ]
  },
  {
   "cell_type": "code",
   "execution_count": 235,
   "metadata": {},
   "outputs": [
    {
     "name": "stdout",
     "output_type": "stream",
     "text": [
      "Датасет: spam\n",
      "Метрика: misclassification error\n",
      "\tглубина дерева: 1, accuracy: 0.7730727470141151\n",
      "\tглубина дерева: 2, accuracy: 0.8686210640608035\n",
      "\tглубина дерева: 3, accuracy: 0.8968512486427795\n",
      "\tглубина дерева: 4, accuracy: 0.9055374592833876\n",
      "\tглубина дерева: 5, accuracy: 0.9098805646036916\n",
      "\tглубина дерева: 6, accuracy: 0.9131378935939196\n",
      "\tглубина дерева: 7, accuracy: 0.9153094462540716\n",
      "\tглубина дерева: 8, accuracy: 0.9153094462540716\n",
      "\tглубина дерева: 9, accuracy: 0.9163952225841476\n",
      "\tглубина дерева: 10, accuracy: 0.9109663409337676\n",
      "Лучшая глубина: 9\n"
     ]
    }
   ],
   "source": [
    "me_spam_rules, me_spam_best = find_best_depth(spam_x_train, spam_y_train, spam_x_validate, spam_y_validate,\n",
    "               'spam', misclass_error, 'misclassification error')"
   ]
  },
  {
   "cell_type": "code",
   "execution_count": 249,
   "metadata": {},
   "outputs": [
    {
     "name": "stdout",
     "output_type": "stream",
     "text": [
      "Датасет: spam\n",
      "Метрика: entropy\n",
      "\tглубина дерева: 1, accuracy: 0.7665580890336591\n",
      "\tглубина дерева: 2, accuracy: 0.8165038002171553\n",
      "\tглубина дерева: 3, accuracy: 0.8697068403908795\n",
      "\tглубина дерева: 4, accuracy: 0.8935939196525515\n",
      "\tглубина дерева: 5, accuracy: 0.8957654723127035\n",
      "\tглубина дерева: 6, accuracy: 0.8968512486427795\n",
      "\tглубина дерева: 7, accuracy: 0.9066232356134636\n",
      "\tглубина дерева: 8, accuracy: 0.9229098805646037\n",
      "\tглубина дерева: 9, accuracy: 0.9305103148751357\n",
      "\tглубина дерева: 10, accuracy: 0.9315960912052117\n",
      "Лучшая глубина: 10\n"
     ]
    }
   ],
   "source": [
    "ent_spam_rules, ent_spam_best = find_best_depth(spam_x_train, spam_y_train, spam_x_validate, spam_y_validate,\n",
    "                           'spam', entropy, 'entropy')"
   ]
  },
  {
   "cell_type": "code",
   "execution_count": 254,
   "metadata": {},
   "outputs": [
    {
     "name": "stdout",
     "output_type": "stream",
     "text": [
      "Датасет: spam\n",
      "Метрика: Gini impurity\n",
      "\tглубина дерева: 1, accuracy: 0.7665580890336591\n",
      "\tглубина дерева: 2, accuracy: 0.8165038002171553\n",
      "\tглубина дерева: 3, accuracy: 0.8697068403908795\n",
      "\tглубина дерева: 4, accuracy: 0.8957654723127035\n",
      "\tглубина дерева: 5, accuracy: 0.8957654723127035\n",
      "\tглубина дерева: 6, accuracy: 0.9033659066232356\n",
      "\tглубина дерева: 7, accuracy: 0.9131378935939196\n",
      "\tглубина дерева: 8, accuracy: 0.9250814332247557\n",
      "\tглубина дерева: 9, accuracy: 0.9326818675352877\n",
      "\tглубина дерева: 10, accuracy: 0.9261672095548317\n",
      "Лучшая глубина: 9\n"
     ]
    }
   ],
   "source": [
    "gini_spam_rules, gini_spam_best = find_best_depth(spam_x_train, spam_y_train, spam_x_validate, spam_y_validate,\n",
    "                                       'spam', gini_impurity, 'Gini impurity')"
   ]
  },
  {
   "cell_type": "markdown",
   "metadata": {},
   "source": [
    "# 4. Построение ROC-кривых"
   ]
  },
  {
   "cell_type": "code",
   "execution_count": 278,
   "metadata": {},
   "outputs": [],
   "source": [
    "def plot_roc(x, y, dataset, depth, rules, metric, pos_lbl=1, neg_lbl=0):\n",
    "    nodes = {}\n",
    "    point_to_node = [-1 for _ in range(x.shape[0])]\n",
    "    n_pos = sum([1 if l == pos_lbl else 0 for l in y])\n",
    "    n_neg = x.shape[0] - n_pos\n",
    "    for i in range(x.shape[0]):\n",
    "        r_idx = 1\n",
    "        curr_d = 0\n",
    "        while len(rules[r_idx]) > 1 and curr_d < depth:\n",
    "            if x[i][rules[r_idx][1]] > rules[r_idx][0]:\n",
    "                r_idx = rules[r_idx][3]\n",
    "            else:\n",
    "                r_idx = rules[r_idx][2]\n",
    "            curr_d += 1\n",
    "        if r_idx not in nodes.keys():\n",
    "            nodes[r_idx] = [0, 0]\n",
    "        nodes[r_idx][1 if y[i] == pos_lbl else 0] += 1\n",
    "        point_to_node[i] = r_idx\n",
    "        \n",
    "    for key, value in nodes.items():\n",
    "        nodes[key] = [v / sum(value) for v in value]\n",
    "            \n",
    "    thr = np.linspace(0, 1, 10)\n",
    "    tp_fp = np.zeros((10, 2))\n",
    "    for i in range(10):\n",
    "        for j in range(x.shape[0]):\n",
    "            if y[j] == pos_lbl and nodes[point_to_node[j]][1] >= thr[i]:\n",
    "                tp_fp[i, 0] += 1\n",
    "            elif y[j] != pos_lbl and nodes[point_to_node[j]][1] >= thr[i]:\n",
    "                tp_fp[i, 1] += 1\n",
    "            \n",
    "    tp_fp[:, 0] /= n_pos\n",
    "    tp_fp[:, 1] /= n_neg\n",
    "    print(f'Датасет: {dataset}\\n'\n",
    "          f'Функция impurity: {metric}\\n'\n",
    "          f'Оптимальная глубина дерева: {depth}\\n'\n",
    "          f'ROC-AUC: {auc(tp_fp[:, 1], tp_fp[:, 0])}')\n",
    "    plt.plot(tp_fp[:, 1], tp_fp[:, 0])\n",
    "    plt.title('roc-кривая')"
   ]
  },
  {
   "cell_type": "code",
   "execution_count": 279,
   "metadata": {},
   "outputs": [
    {
     "name": "stdout",
     "output_type": "stream",
     "text": [
      "Датасет: cancer\n",
      "Функция impurity: misclassification error\n",
      "Оптимальная глубина дерева: 3\n",
      "ROC-AUC: 0.9498573014111306\n"
     ]
    },
    {
     "data": {
      "image/png": "[encoded data removed]",
      "text/plain": [
       "<Figure size 432x288 with 1 Axes>"
      ]
     },
     "metadata": {},
     "output_type": "display_data"
    }
   ],
   "source": [
    "plot_roc(cancer_x, cancer_y, 'cancer', me_cancer_best, me_cancer_rules,\n",
    "         'misclassification error', 'M', 'B')"
   ]
  },
  {
   "cell_type": "code",
   "execution_count": 280,
   "metadata": {},
   "outputs": [
    {
     "name": "stdout",
     "output_type": "stream",
     "text": [
      "Датасет: cancer\n",
      "Функция impurity: entropy\n",
      "Оптимальная глубина дерева: 1\n",
      "ROC-AUC: 0.8929826647640189\n"
     ]
    },
    {
     "data": {
      "image/png": "[encoded data removed]",
      "text/plain": [
       "<Figure size 432x288 with 1 Axes>"
      ]
     },
     "metadata": {},
     "output_type": "display_data"
    }
   ],
   "source": [
    "plot_roc(cancer_x, cancer_y, 'cancer', ent_cancer_best, ent_cancer_rules,\n",
    "         'entropy', 'M', 'B')"
   ]
  },
  {
   "cell_type": "code",
   "execution_count": 281,
   "metadata": {},
   "outputs": [
    {
     "name": "stdout",
     "output_type": "stream",
     "text": [
      "Датасет: cancer\n",
      "Функция impurity: Gini impurity\n",
      "Оптимальная глубина дерева: 3\n",
      "ROC-AUC: 0.9734620263199619\n"
     ]
    },
    {
     "data": {
      "image/png": "[encoded data removed]",
      "text/plain": [
       "<Figure size 432x288 with 1 Axes>"
      ]
     },
     "metadata": {},
     "output_type": "display_data"
    }
   ],
   "source": [
    "plot_roc(cancer_x, cancer_y, 'cancer', gini_cancer_best, gini_cancer_rules,\n",
    "         'Gini impurity', 'M', 'B')"
   ]
  },
  {
   "cell_type": "code",
   "execution_count": 282,
   "metadata": {},
   "outputs": [
    {
     "name": "stdout",
     "output_type": "stream",
     "text": [
      "Датасет: spam\n",
      "Функция impurity: misclassification error\n",
      "Оптимальная глубина дерева: 9\n",
      "ROC-AUC: 0.920927270051066\n"
     ]
    },
    {
     "data": {
      "image/png": "[encoded data removed]",
      "text/plain": [
       "<Figure size 432x288 with 1 Axes>"
      ]
     },
     "metadata": {},
     "output_type": "display_data"
    }
   ],
   "source": [
    "plot_roc(spam_x, spam_y, 'spam', me_spam_best, me_spam_rules,\n",
    "         'misclassification error')"
   ]
  },
  {
   "cell_type": "code",
   "execution_count": 283,
   "metadata": {},
   "outputs": [
    {
     "name": "stdout",
     "output_type": "stream",
     "text": [
      "Датасет: spam\n",
      "Функция impurity: entropy\n",
      "Оптимальная глубина дерева: 10\n",
      "ROC-AUC: 0.9795851102471312\n"
     ]
    },
    {
     "data": {
      "image/png": "[encoded data removed]",
      "text/plain": [
       "<Figure size 432x288 with 1 Axes>"
      ]
     },
     "metadata": {},
     "output_type": "display_data"
    }
   ],
   "source": [
    "plot_roc(spam_x, spam_y, 'spam', ent_spam_best, ent_spam_rules,\n",
    "         'entropy')"
   ]
  },
  {
   "cell_type": "code",
   "execution_count": 284,
   "metadata": {},
   "outputs": [
    {
     "name": "stdout",
     "output_type": "stream",
     "text": [
      "Датасет: spam\n",
      "Функция impurity: Gini impurity\n",
      "Оптимальная глубина дерева: 9\n",
      "ROC-AUC: 0.9547533911389209\n"
     ]
    },
    {
     "data": {
      "image/png": "[encoded data removed]",
      "text/plain": [
       "<Figure size 432x288 with 1 Axes>"
      ]
     },
     "metadata": {},
     "output_type": "display_data"
    }
   ],
   "source": [
    "plot_roc(spam_x, spam_y, 'spam', gini_spam_best, gini_spam_rules,\n",
    "         'Gini impurity')"
   ]
  }
 ],
 "metadata": {
  "kernelspec": {
   "display_name": "Python 3",
   "language": "python",
   "name": "python3"
  },
  "language_info": {
   "codemirror_mode": {
    "name": "ipython",
    "version": 3
   },
   "file_extension": ".py",
   "mimetype": "text/x-python",
   "name": "python",
   "nbconvert_exporter": "python",
   "pygments_lexer": "ipython3",
   "version": "3.6.7"
  }
 },
 "nbformat": 4,
 "nbformat_minor": 2
}
