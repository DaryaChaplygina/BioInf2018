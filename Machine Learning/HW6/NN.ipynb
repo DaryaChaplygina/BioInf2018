{
 "cells": [
  {
   "cell_type": "code",
   "execution_count": 1,
   "metadata": {
    "scrolled": true
   },
   "outputs": [
    {
     "name": "stderr",
     "output_type": "stream",
     "text": [
      "Using TensorFlow backend.\n"
     ]
    }
   ],
   "source": [
    "import os\n",
    "import pandas as pd\n",
    "import numpy as np\n",
    "from keras.models import Sequential\n",
    "from keras.layers import Dense, Activation, Conv2D, Flatten\n",
    "from keras.utils import to_categorical\n",
    "from sklearn.metrics import accuracy_score, classification_report\n",
    "from sklearn.model_selection import train_test_split\n",
    "from matplotlib import image\n",
    "from matplotlib import pyplot as plt"
   ]
  },
  {
   "cell_type": "markdown",
   "metadata": {},
   "source": [
    "# 2. Read and transform mnist and notMNIST datasets"
   ]
  },
  {
   "cell_type": "code",
   "execution_count": 84,
   "metadata": {},
   "outputs": [],
   "source": [
    "def transform_picture_dataset(X, y, show_test=False):\n",
    "    side_size = X.shape[1]\n",
    "    if len(X.shape) == 2:\n",
    "        side_size = int(np.sqrt(side_size))\n",
    "    X = X.reshape((-1, side_size, side_size, 1))\n",
    "    \n",
    "    y, classes = pd.factorize(y)\n",
    "    y = to_categorical(pd.factorize(y)[0], num_classes=10)\n",
    "    if show_test:\n",
    "        print(f'First label: {np.argmax(y[0, :])}\\n'\n",
    "              f'First image: ')\n",
    "        plt.imshow(X[0, :, :, 0])\n",
    "        plt.show()\n",
    "        \n",
    "    return X, y, classes"
   ]
  },
  {
   "cell_type": "code",
   "execution_count": 3,
   "metadata": {},
   "outputs": [
    {
     "data": {
      "text/html": [
       "<div>\n",
       "<style scoped>\n",
       "    .dataframe tbody tr th:only-of-type {\n",
       "        vertical-align: middle;\n",
       "    }\n",
       "\n",
       "    .dataframe tbody tr th {\n",
       "        vertical-align: top;\n",
       "    }\n",
       "\n",
       "    .dataframe thead th {\n",
       "        text-align: right;\n",
       "    }\n",
       "</style>\n",
       "<table border=\"1\" class=\"dataframe\">\n",
       "  <thead>\n",
       "    <tr style=\"text-align: right;\">\n",
       "      <th></th>\n",
       "      <th>label</th>\n",
       "      <th>0</th>\n",
       "      <th>1</th>\n",
       "      <th>2</th>\n",
       "      <th>3</th>\n",
       "      <th>4</th>\n",
       "      <th>5</th>\n",
       "      <th>6</th>\n",
       "      <th>7</th>\n",
       "      <th>8</th>\n",
       "      <th>...</th>\n",
       "      <th>774</th>\n",
       "      <th>775</th>\n",
       "      <th>776</th>\n",
       "      <th>777</th>\n",
       "      <th>778</th>\n",
       "      <th>779</th>\n",
       "      <th>780</th>\n",
       "      <th>781</th>\n",
       "      <th>782</th>\n",
       "      <th>783</th>\n",
       "    </tr>\n",
       "  </thead>\n",
       "  <tbody>\n",
       "    <tr>\n",
       "      <th>0</th>\n",
       "      <td>7</td>\n",
       "      <td>0</td>\n",
       "      <td>0</td>\n",
       "      <td>0</td>\n",
       "      <td>0</td>\n",
       "      <td>0</td>\n",
       "      <td>0</td>\n",
       "      <td>0</td>\n",
       "      <td>0</td>\n",
       "      <td>0</td>\n",
       "      <td>...</td>\n",
       "      <td>0</td>\n",
       "      <td>0</td>\n",
       "      <td>0</td>\n",
       "      <td>0</td>\n",
       "      <td>0</td>\n",
       "      <td>0</td>\n",
       "      <td>0</td>\n",
       "      <td>0</td>\n",
       "      <td>0</td>\n",
       "      <td>0</td>\n",
       "    </tr>\n",
       "    <tr>\n",
       "      <th>1</th>\n",
       "      <td>2</td>\n",
       "      <td>0</td>\n",
       "      <td>0</td>\n",
       "      <td>0</td>\n",
       "      <td>0</td>\n",
       "      <td>0</td>\n",
       "      <td>0</td>\n",
       "      <td>0</td>\n",
       "      <td>0</td>\n",
       "      <td>0</td>\n",
       "      <td>...</td>\n",
       "      <td>0</td>\n",
       "      <td>0</td>\n",
       "      <td>0</td>\n",
       "      <td>0</td>\n",
       "      <td>0</td>\n",
       "      <td>0</td>\n",
       "      <td>0</td>\n",
       "      <td>0</td>\n",
       "      <td>0</td>\n",
       "      <td>0</td>\n",
       "    </tr>\n",
       "    <tr>\n",
       "      <th>2</th>\n",
       "      <td>1</td>\n",
       "      <td>0</td>\n",
       "      <td>0</td>\n",
       "      <td>0</td>\n",
       "      <td>0</td>\n",
       "      <td>0</td>\n",
       "      <td>0</td>\n",
       "      <td>0</td>\n",
       "      <td>0</td>\n",
       "      <td>0</td>\n",
       "      <td>...</td>\n",
       "      <td>0</td>\n",
       "      <td>0</td>\n",
       "      <td>0</td>\n",
       "      <td>0</td>\n",
       "      <td>0</td>\n",
       "      <td>0</td>\n",
       "      <td>0</td>\n",
       "      <td>0</td>\n",
       "      <td>0</td>\n",
       "      <td>0</td>\n",
       "    </tr>\n",
       "    <tr>\n",
       "      <th>3</th>\n",
       "      <td>0</td>\n",
       "      <td>0</td>\n",
       "      <td>0</td>\n",
       "      <td>0</td>\n",
       "      <td>0</td>\n",
       "      <td>0</td>\n",
       "      <td>0</td>\n",
       "      <td>0</td>\n",
       "      <td>0</td>\n",
       "      <td>0</td>\n",
       "      <td>...</td>\n",
       "      <td>0</td>\n",
       "      <td>0</td>\n",
       "      <td>0</td>\n",
       "      <td>0</td>\n",
       "      <td>0</td>\n",
       "      <td>0</td>\n",
       "      <td>0</td>\n",
       "      <td>0</td>\n",
       "      <td>0</td>\n",
       "      <td>0</td>\n",
       "    </tr>\n",
       "    <tr>\n",
       "      <th>4</th>\n",
       "      <td>4</td>\n",
       "      <td>0</td>\n",
       "      <td>0</td>\n",
       "      <td>0</td>\n",
       "      <td>0</td>\n",
       "      <td>0</td>\n",
       "      <td>0</td>\n",
       "      <td>0</td>\n",
       "      <td>0</td>\n",
       "      <td>0</td>\n",
       "      <td>...</td>\n",
       "      <td>0</td>\n",
       "      <td>0</td>\n",
       "      <td>0</td>\n",
       "      <td>0</td>\n",
       "      <td>0</td>\n",
       "      <td>0</td>\n",
       "      <td>0</td>\n",
       "      <td>0</td>\n",
       "      <td>0</td>\n",
       "      <td>0</td>\n",
       "    </tr>\n",
       "  </tbody>\n",
       "</table>\n",
       "<p>5 rows × 785 columns</p>\n",
       "</div>"
      ],
      "text/plain": [
       "   label  0  1  2  3  4  5  6  7  8  ...  774  775  776  777  778  779  780  \\\n",
       "0      7  0  0  0  0  0  0  0  0  0  ...    0    0    0    0    0    0    0   \n",
       "1      2  0  0  0  0  0  0  0  0  0  ...    0    0    0    0    0    0    0   \n",
       "2      1  0  0  0  0  0  0  0  0  0  ...    0    0    0    0    0    0    0   \n",
       "3      0  0  0  0  0  0  0  0  0  0  ...    0    0    0    0    0    0    0   \n",
       "4      4  0  0  0  0  0  0  0  0  0  ...    0    0    0    0    0    0    0   \n",
       "\n",
       "   781  782  783  \n",
       "0    0    0    0  \n",
       "1    0    0    0  \n",
       "2    0    0    0  \n",
       "3    0    0    0  \n",
       "4    0    0    0  \n",
       "\n",
       "[5 rows x 785 columns]"
      ]
     },
     "execution_count": 3,
     "metadata": {},
     "output_type": "execute_result"
    }
   ],
   "source": [
    "mnist = pd.read_csv('mnist.csv')\n",
    "mnist.head()"
   ]
  },
  {
   "cell_type": "code",
   "execution_count": 85,
   "metadata": {},
   "outputs": [
    {
     "name": "stdout",
     "output_type": "stream",
     "text": [
      "First label: 0\n",
      "First image: \n"
     ]
    },
    {
     "data": {
      "image/png": "[encoded data removed]",
      "text/plain": [
       "<Figure size 432x288 with 1 Axes>"
      ]
     },
     "metadata": {},
     "output_type": "display_data"
    }
   ],
   "source": [
    "mnist_X, mnist_y, _ = transform_picture_dataset(mnist.drop(columns=['label']).values,\n",
    "                          mnist.label.values,\n",
    "                          show_test=True)"
   ]
  },
  {
   "cell_type": "code",
   "execution_count": 93,
   "metadata": {},
   "outputs": [
    {
     "name": "stdout",
     "output_type": "stream",
     "text": [
      "Error occured while reading notMNIST_small/ARGVtb2NyYXRpY2FCb2xkT2xkc3R5bGUgQm9sZC50dGY=.png\n",
      "Error occured while reading notMNIST_small/FQ3Jvc3NvdmVyIEJvbGRPYmxpcXVlLnR0Zg==.png\n"
     ]
    }
   ],
   "source": [
    "not_mnist_X = []\n",
    "not_mnist_y = []\n",
    "path = 'notMNIST_small/'\n",
    "for r, d, f in os.walk('notMNIST_small/'):\n",
    "    for file in f:\n",
    "        try:\n",
    "            not_mnist_X.append(image.imread(r + '/' + file))\n",
    "            not_mnist_y.append(r[-1])\n",
    "        except:\n",
    "            print('Error occured while reading', r + file)\n",
    "        "
   ]
  },
  {
   "cell_type": "code",
   "execution_count": 94,
   "metadata": {},
   "outputs": [
    {
     "name": "stdout",
     "output_type": "stream",
     "text": [
      "First label: 0\n",
      "First image: \n"
     ]
    },
    {
     "data": {
      "image/png": "[encoded data removed]",
      "text/plain": [
       "<Figure size 432x288 with 1 Axes>"
      ]
     },
     "metadata": {},
     "output_type": "display_data"
    }
   ],
   "source": [
    "not_mnist_X, not_mnist_y, letters = transform_picture_dataset(np.asarray(not_mnist_X),\n",
    "                                                     np.asarray(not_mnist_y),\n",
    "                                                     show_test=True)"
   ]
  },
  {
   "cell_type": "markdown",
   "metadata": {},
   "source": [
    "# 3. CNN for mnist"
   ]
  },
  {
   "cell_type": "code",
   "execution_count": 63,
   "metadata": {},
   "outputs": [],
   "source": [
    "class CNN():\n",
    "    def __init__(self, activation):\n",
    "        self.activation = activation\n",
    "        self.__model = Sequential()\n",
    "        self.__history = None\n",
    "        \n",
    "    def train(self, X, y, n_epoch, batch_size, verbose=0, optimizer='rmsprop'):\n",
    "        self.__init_model(X[0].shape)\n",
    "        self.__model.compile(optimizer=optimizer,\n",
    "                             loss='categorical_crossentropy')\n",
    "        self.__history = self.__model.fit(X, y, epochs=n_epoch, batch_size=batch_size,\n",
    "                                         verbose=verbose)\n",
    "        \n",
    "    def __init_model(self, shape):\n",
    "        self.__model.add(Conv2D(8, kernel_size=3, activation=self.activation, \n",
    "                               input_shape=shape))\n",
    "        for _ in range(2):\n",
    "            self.__model.add(Conv2D(8, kernel_size=3, activation=self.activation))\n",
    "        self.__model.add(Flatten())\n",
    "        for _ in range(2):\n",
    "            self.__model.add(Dense(64, activation=self.activation))\n",
    "        self.__model.add(Dense(10, activation='softmax'))\n",
    "        \n",
    "    def plot_epochs_loss(self):\n",
    "        plt.figure(figsize=(10, 5))\n",
    "        plt.plot(self.__history.epoch, self.__history.history['loss'])\n",
    "        plt.xlabel('epoch')\n",
    "        plt.ylabel('loss')\n",
    "        plt.title('Loss on train')\n",
    "        plt.show()\n",
    "        \n",
    "    def test(self, X, y):\n",
    "        predict = self.__model.predict(X)\n",
    "        true_classes = np.argmax(y, axis=1)\n",
    "        pred_classes = np.argmax(predict, axis=1)\n",
    "        \n",
    "        for c in np.unique(true_classes):\n",
    "            print(f'Accuracy for class {c}: {accuracy_score(true_classes == c, pred_classes == c)}')"
   ]
  },
  {
   "cell_type": "code",
   "execution_count": 8,
   "metadata": {},
   "outputs": [],
   "source": [
    "mnist_X_train, mnist_X_test, mnist_y_train, mnist_y_test = train_test_split(mnist_X, mnist_y,\n",
    "                                                                            shuffle=True,\n",
    "                                                                            test_size=0.3,\n",
    "                                                                            stratify=np.argmax(mnist_y, axis=1))"
   ]
  },
  {
   "cell_type": "markdown",
   "metadata": {},
   "source": [
    "### Sigmoid activation"
   ]
  },
  {
   "cell_type": "code",
   "execution_count": 61,
   "metadata": {},
   "outputs": [],
   "source": [
    "sigmoid_cnn = CNN('sigmoid')"
   ]
  },
  {
   "cell_type": "code",
   "execution_count": 62,
   "metadata": {
    "scrolled": false
   },
   "outputs": [],
   "source": [
    "sigmoid_cnn.train(mnist_X_train, mnist_y_train, 30, 100)"
   ]
  },
  {
   "cell_type": "code",
   "execution_count": 64,
   "metadata": {},
   "outputs": [
    {
     "name": "stdout",
     "output_type": "stream",
     "text": [
      "Accuracy for class 0: 0.99\n",
      "Accuracy for class 1: 0.9893333333333333\n",
      "Accuracy for class 2: 0.9946666666666667\n",
      "Accuracy for class 3: 0.9953333333333333\n",
      "Accuracy for class 4: 0.9906666666666667\n",
      "Accuracy for class 5: 0.9856666666666667\n",
      "Accuracy for class 6: 0.9913333333333333\n",
      "Accuracy for class 7: 0.9913333333333333\n",
      "Accuracy for class 8: 0.9923333333333333\n",
      "Accuracy for class 9: 0.9913333333333333\n"
     ]
    }
   ],
   "source": [
    "sigmoid_cnn.test(mnist_X_test, mnist_y_test)"
   ]
  },
  {
   "cell_type": "code",
   "execution_count": 65,
   "metadata": {},
   "outputs": [
    {
     "data": {
      "image/png": "[encoded data removed]",
      "text/plain": [
       "<Figure size 720x360 with 1 Axes>"
      ]
     },
     "metadata": {},
     "output_type": "display_data"
    }
   ],
   "source": [
    "sigmoid_cnn.plot_epochs_loss()"
   ]
  },
  {
   "cell_type": "markdown",
   "metadata": {},
   "source": [
    "### Tanh activation"
   ]
  },
  {
   "cell_type": "code",
   "execution_count": 66,
   "metadata": {},
   "outputs": [],
   "source": [
    "tanh_cnn = CNN(activation='tanh')"
   ]
  },
  {
   "cell_type": "code",
   "execution_count": 67,
   "metadata": {},
   "outputs": [
    {
     "name": "stdout",
     "output_type": "stream",
     "text": [
      "Epoch 1/30\n",
      "7000/7000 [==============================] - 6s 787us/step - loss: 0.5215\n",
      "Epoch 2/30\n",
      "7000/7000 [==============================] - 4s 596us/step - loss: 0.1241\n",
      "Epoch 3/30\n",
      "7000/7000 [==============================] - 4s 596us/step - loss: 0.0547\n",
      "Epoch 4/30\n",
      "7000/7000 [==============================] - 4s 624us/step - loss: 0.0265\n",
      "Epoch 5/30\n",
      "7000/7000 [==============================] - 5s 695us/step - loss: 0.0132\n",
      "Epoch 6/30\n",
      "7000/7000 [==============================] - 4s 632us/step - loss: 0.0078\n",
      "Epoch 7/30\n",
      "7000/7000 [==============================] - 4s 609us/step - loss: 0.0053\n",
      "Epoch 8/30\n",
      "7000/7000 [==============================] - 4s 633us/step - loss: 0.0039\n",
      "Epoch 9/30\n",
      "7000/7000 [==============================] - 4s 620us/step - loss: 0.0031\n",
      "Epoch 10/30\n",
      "7000/7000 [==============================] - 4s 615us/step - loss: 0.0025\n",
      "Epoch 11/30\n",
      "7000/7000 [==============================] - 4s 616us/step - loss: 0.0021\n",
      "Epoch 12/30\n",
      "7000/7000 [==============================] - 4s 620us/step - loss: 0.0017\n",
      "Epoch 13/30\n",
      "7000/7000 [==============================] - 4s 613us/step - loss: 0.0015\n",
      "Epoch 14/30\n",
      "7000/7000 [==============================] - 4s 617us/step - loss: 0.0013\n",
      "Epoch 15/30\n",
      "7000/7000 [==============================] - 4s 622us/step - loss: 0.0011\n",
      "Epoch 16/30\n",
      "7000/7000 [==============================] - 5s 659us/step - loss: 9.8772e-04\n",
      "Epoch 17/30\n",
      "7000/7000 [==============================] - 5s 643us/step - loss: 8.7374e-04\n",
      "Epoch 18/30\n",
      "7000/7000 [==============================] - 5s 719us/step - loss: 7.8370e-04\n",
      "Epoch 19/30\n",
      "7000/7000 [==============================] - 5s 690us/step - loss: 7.0269e-04\n",
      "Epoch 20/30\n",
      "7000/7000 [==============================] - 4s 521us/step - loss: 6.3633e-04\n",
      "Epoch 21/30\n",
      "7000/7000 [==============================] - 5s 664us/step - loss: 5.7516e-04\n",
      "Epoch 22/30\n",
      "7000/7000 [==============================] - 4s 626us/step - loss: 5.2565e-04\n",
      "Epoch 23/30\n",
      "7000/7000 [==============================] - 4s 623us/step - loss: 4.7982e-04\n",
      "Epoch 24/30\n",
      "7000/7000 [==============================] - 4s 637us/step - loss: 4.4012e-04\n",
      "Epoch 25/30\n",
      "7000/7000 [==============================] - 5s 778us/step - loss: 4.0490e-04\n",
      "Epoch 26/30\n",
      "7000/7000 [==============================] - 6s 877us/step - loss: 3.7307e-04\n",
      "Epoch 27/30\n",
      "7000/7000 [==============================] - 5s 681us/step - loss: 3.4508e-04\n",
      "Epoch 28/30\n",
      "7000/7000 [==============================] - 5s 644us/step - loss: 3.1930e-04\n",
      "Epoch 29/30\n",
      "7000/7000 [==============================] - 4s 630us/step - loss: 2.9685e-04\n",
      "Epoch 30/30\n",
      "7000/7000 [==============================] - 5s 653us/step - loss: 2.7605e-04\n"
     ]
    }
   ],
   "source": [
    "tanh_cnn.train(mnist_X_train, mnist_y_train, 30, 100, verbose=1, optimizer='adam')"
   ]
  },
  {
   "cell_type": "code",
   "execution_count": 68,
   "metadata": {},
   "outputs": [
    {
     "name": "stdout",
     "output_type": "stream",
     "text": [
      "Accuracy for class 0: 0.9943333333333333\n",
      "Accuracy for class 1: 0.995\n",
      "Accuracy for class 2: 0.994\n",
      "Accuracy for class 3: 0.9976666666666667\n",
      "Accuracy for class 4: 0.9953333333333333\n",
      "Accuracy for class 5: 0.9916666666666667\n",
      "Accuracy for class 6: 0.994\n",
      "Accuracy for class 7: 0.9953333333333333\n",
      "Accuracy for class 8: 0.9953333333333333\n",
      "Accuracy for class 9: 0.992\n"
     ]
    }
   ],
   "source": [
    "tanh_cnn.test(mnist_X_test, mnist_y_test)"
   ]
  },
  {
   "cell_type": "code",
   "execution_count": 69,
   "metadata": {},
   "outputs": [
    {
     "data": {
      "image/png": "[encoded data removed]",
      "text/plain": [
       "<Figure size 720x360 with 1 Axes>"
      ]
     },
     "metadata": {},
     "output_type": "display_data"
    }
   ],
   "source": [
    "tanh_cnn.plot_epochs_loss()"
   ]
  },
  {
   "cell_type": "markdown",
   "metadata": {},
   "source": [
    "### Relu activation"
   ]
  },
  {
   "cell_type": "code",
   "execution_count": 76,
   "metadata": {},
   "outputs": [],
   "source": [
    "relu_cnn = CNN(activation='relu')"
   ]
  },
  {
   "cell_type": "code",
   "execution_count": 77,
   "metadata": {},
   "outputs": [],
   "source": [
    "relu_cnn.train(mnist_X_train, mnist_y_train, 30, 100, verbose=0)"
   ]
  },
  {
   "cell_type": "code",
   "execution_count": 78,
   "metadata": {},
   "outputs": [
    {
     "data": {
      "image/png": "[encoded data removed]",
      "text/plain": [
       "<Figure size 720x360 with 1 Axes>"
      ]
     },
     "metadata": {},
     "output_type": "display_data"
    }
   ],
   "source": [
    "relu_cnn.plot_epochs_loss()"
   ]
  },
  {
   "cell_type": "code",
   "execution_count": 79,
   "metadata": {},
   "outputs": [
    {
     "name": "stdout",
     "output_type": "stream",
     "text": [
      "Accuracy for class 0: 0.9916666666666667\n",
      "Accuracy for class 1: 0.9926666666666667\n",
      "Accuracy for class 2: 0.9943333333333333\n",
      "Accuracy for class 3: 0.996\n",
      "Accuracy for class 4: 0.9943333333333333\n",
      "Accuracy for class 5: 0.9903333333333333\n",
      "Accuracy for class 6: 0.995\n",
      "Accuracy for class 7: 0.994\n",
      "Accuracy for class 8: 0.994\n",
      "Accuracy for class 9: 0.9883333333333333\n"
     ]
    }
   ],
   "source": [
    "relu_cnn.test(mnist_X_test, mnist_y_test)"
   ]
  },
  {
   "cell_type": "markdown",
   "metadata": {},
   "source": [
    "# 4. CNN for notMNIST"
   ]
  },
  {
   "cell_type": "code",
   "execution_count": 105,
   "metadata": {},
   "outputs": [],
   "source": [
    "class CNNLetters():\n",
    "    def __init__(self, letters_labels):\n",
    "        self.__letters_labels = letters_labels\n",
    "        self.__model = Sequential()\n",
    "        self.__history = None\n",
    "        \n",
    "    def train(self, X, y, n_epoch, batch_size, verbose=0, optimizer='rmsprop'):\n",
    "        self.__init_model(X[0].shape)\n",
    "        self.__model.compile(optimizer=optimizer,\n",
    "                             loss='categorical_crossentropy')\n",
    "        self.__history = self.__model.fit(X, y, epochs=n_epoch, batch_size=batch_size,\n",
    "                                         verbose=verbose)\n",
    "        \n",
    "    def __init_model(self, shape):\n",
    "        self.__model.add(Conv2D(8, kernel_size=5, activation='tanh', \n",
    "                               input_shape=shape))\n",
    "        self.__model.add(Conv2D(8, kernel_size=3, activation='tanh'))\n",
    "        self.__model.add(Flatten())\n",
    "        for _ in range(2):\n",
    "            self.__model.add(Dense(64, activation='sigmoid'))\n",
    "        self.__model.add(Dense(10, activation='softmax'))\n",
    "        \n",
    "    def plot_epochs_loss(self):\n",
    "        plt.figure(figsize=(10, 5))\n",
    "        plt.plot(self.__history.epoch, self.__history.history['loss'])\n",
    "        plt.xlabel('epoch')\n",
    "        plt.ylabel('loss')\n",
    "        plt.title('Loss on train')\n",
    "        plt.show()\n",
    "        \n",
    "    def test(self, X, y):\n",
    "        predict = self.__model.predict(X)\n",
    "        true_classes = np.argmax(y, axis=1)\n",
    "        pred_classes = np.argmax(predict, axis=1)\n",
    "        \n",
    "        for c in np.unique(true_classes):\n",
    "            print(f'Accuracy for letter {self.__letters_labels[c]}: '\n",
    "                  f'{accuracy_score(true_classes == c, pred_classes == c)}')"
   ]
  },
  {
   "cell_type": "code",
   "execution_count": 102,
   "metadata": {},
   "outputs": [],
   "source": [
    "letters_X_train, letters_X_test, letters_y_train, letters_y_test = train_test_split(not_mnist_X, not_mnist_y,\n",
    "                                                                            shuffle=True,\n",
    "                                                                            test_size=0.3,\n",
    "                                                                            stratify=np.argmax(not_mnist_y, axis=1))"
   ]
  },
  {
   "cell_type": "code",
   "execution_count": 106,
   "metadata": {},
   "outputs": [],
   "source": [
    "cnn_letters = CNNLetters(letters_labels=letters)"
   ]
  },
  {
   "cell_type": "code",
   "execution_count": null,
   "metadata": {},
   "outputs": [
    {
     "name": "stdout",
     "output_type": "stream",
     "text": [
      "Epoch 1/10\n",
      "13106/13106 [==============================] - 7s 562us/step - loss: 1.4054\n",
      "Epoch 2/10\n",
      "13106/13106 [==============================] - 6s 449us/step - loss: 0.6298\n",
      "Epoch 3/10\n",
      "13106/13106 [==============================] - 6s 447us/step - loss: 0.4297\n",
      "Epoch 4/10\n",
      "13106/13106 [==============================] - 6s 445us/step - loss: 0.3487\n",
      "Epoch 5/10\n",
      "13106/13106 [==============================] - 7s 533us/step - loss: 0.2934\n",
      "Epoch 6/10\n",
      "12400/13106 [===========================>..] - ETA: 0s - loss: 0.2556"
     ]
    }
   ],
   "source": [
    "cnn_letters.train(letters_X_train, letters_y_train, n_epoch=10, batch_size=100, verbose=1,\n",
    "                  optimizer='adadelta')"
   ]
  }
 ],
 "metadata": {
  "kernelspec": {
   "display_name": "Python 3",
   "language": "python",
   "name": "python3"
  },
  "language_info": {
   "codemirror_mode": {
    "name": "ipython",
    "version": 3
   },
   "file_extension": ".py",
   "mimetype": "text/x-python",
   "name": "python",
   "nbconvert_exporter": "python",
   "pygments_lexer": "ipython3",
   "version": "3.6.7"
  }
 },
 "nbformat": 4,
 "nbformat_minor": 2
}
