{
 "cells": [
  {
   "cell_type": "code",
   "execution_count": 1,
   "metadata": {},
   "outputs": [],
   "source": [
    "import numpy as np\n",
    "import pandas as pd\n",
    "from sklearn.metrics import auc\n",
    "from sklearn.model_selection import StratifiedKFold\n",
    "from matplotlib import pyplot as plt\n",
    "%matplotlib inline"
   ]
  },
  {
   "cell_type": "code",
   "execution_count": 2,
   "metadata": {
    "scrolled": true
   },
   "outputs": [
    {
     "data": {
      "text/html": [
       "<div>\n",
       "<style scoped>\n",
       "    .dataframe tbody tr th:only-of-type {\n",
       "        vertical-align: middle;\n",
       "    }\n",
       "\n",
       "    .dataframe tbody tr th {\n",
       "        vertical-align: top;\n",
       "    }\n",
       "\n",
       "    .dataframe thead th {\n",
       "        text-align: right;\n",
       "    }\n",
       "</style>\n",
       "<table border=\"1\" class=\"dataframe\">\n",
       "  <thead>\n",
       "    <tr style=\"text-align: right;\">\n",
       "      <th></th>\n",
       "      <th>label</th>\n",
       "      <th>1</th>\n",
       "      <th>2</th>\n",
       "      <th>3</th>\n",
       "      <th>4</th>\n",
       "      <th>5</th>\n",
       "      <th>6</th>\n",
       "      <th>7</th>\n",
       "      <th>8</th>\n",
       "      <th>9</th>\n",
       "      <th>...</th>\n",
       "      <th>21</th>\n",
       "      <th>22</th>\n",
       "      <th>23</th>\n",
       "      <th>24</th>\n",
       "      <th>25</th>\n",
       "      <th>26</th>\n",
       "      <th>27</th>\n",
       "      <th>28</th>\n",
       "      <th>29</th>\n",
       "      <th>30</th>\n",
       "    </tr>\n",
       "  </thead>\n",
       "  <tbody>\n",
       "    <tr>\n",
       "      <th>0</th>\n",
       "      <td>M</td>\n",
       "      <td>17.99</td>\n",
       "      <td>10.38</td>\n",
       "      <td>122.80</td>\n",
       "      <td>1001.0</td>\n",
       "      <td>0.11840</td>\n",
       "      <td>0.27760</td>\n",
       "      <td>0.3001</td>\n",
       "      <td>0.14710</td>\n",
       "      <td>0.2419</td>\n",
       "      <td>...</td>\n",
       "      <td>25.38</td>\n",
       "      <td>17.33</td>\n",
       "      <td>184.60</td>\n",
       "      <td>2019.0</td>\n",
       "      <td>0.1622</td>\n",
       "      <td>0.6656</td>\n",
       "      <td>0.7119</td>\n",
       "      <td>0.2654</td>\n",
       "      <td>0.4601</td>\n",
       "      <td>0.11890</td>\n",
       "    </tr>\n",
       "    <tr>\n",
       "      <th>1</th>\n",
       "      <td>M</td>\n",
       "      <td>20.57</td>\n",
       "      <td>17.77</td>\n",
       "      <td>132.90</td>\n",
       "      <td>1326.0</td>\n",
       "      <td>0.08474</td>\n",
       "      <td>0.07864</td>\n",
       "      <td>0.0869</td>\n",
       "      <td>0.07017</td>\n",
       "      <td>0.1812</td>\n",
       "      <td>...</td>\n",
       "      <td>24.99</td>\n",
       "      <td>23.41</td>\n",
       "      <td>158.80</td>\n",
       "      <td>1956.0</td>\n",
       "      <td>0.1238</td>\n",
       "      <td>0.1866</td>\n",
       "      <td>0.2416</td>\n",
       "      <td>0.1860</td>\n",
       "      <td>0.2750</td>\n",
       "      <td>0.08902</td>\n",
       "    </tr>\n",
       "    <tr>\n",
       "      <th>2</th>\n",
       "      <td>M</td>\n",
       "      <td>19.69</td>\n",
       "      <td>21.25</td>\n",
       "      <td>130.00</td>\n",
       "      <td>1203.0</td>\n",
       "      <td>0.10960</td>\n",
       "      <td>0.15990</td>\n",
       "      <td>0.1974</td>\n",
       "      <td>0.12790</td>\n",
       "      <td>0.2069</td>\n",
       "      <td>...</td>\n",
       "      <td>23.57</td>\n",
       "      <td>25.53</td>\n",
       "      <td>152.50</td>\n",
       "      <td>1709.0</td>\n",
       "      <td>0.1444</td>\n",
       "      <td>0.4245</td>\n",
       "      <td>0.4504</td>\n",
       "      <td>0.2430</td>\n",
       "      <td>0.3613</td>\n",
       "      <td>0.08758</td>\n",
       "    </tr>\n",
       "    <tr>\n",
       "      <th>3</th>\n",
       "      <td>M</td>\n",
       "      <td>11.42</td>\n",
       "      <td>20.38</td>\n",
       "      <td>77.58</td>\n",
       "      <td>386.1</td>\n",
       "      <td>0.14250</td>\n",
       "      <td>0.28390</td>\n",
       "      <td>0.2414</td>\n",
       "      <td>0.10520</td>\n",
       "      <td>0.2597</td>\n",
       "      <td>...</td>\n",
       "      <td>14.91</td>\n",
       "      <td>26.50</td>\n",
       "      <td>98.87</td>\n",
       "      <td>567.7</td>\n",
       "      <td>0.2098</td>\n",
       "      <td>0.8663</td>\n",
       "      <td>0.6869</td>\n",
       "      <td>0.2575</td>\n",
       "      <td>0.6638</td>\n",
       "      <td>0.17300</td>\n",
       "    </tr>\n",
       "    <tr>\n",
       "      <th>4</th>\n",
       "      <td>M</td>\n",
       "      <td>20.29</td>\n",
       "      <td>14.34</td>\n",
       "      <td>135.10</td>\n",
       "      <td>1297.0</td>\n",
       "      <td>0.10030</td>\n",
       "      <td>0.13280</td>\n",
       "      <td>0.1980</td>\n",
       "      <td>0.10430</td>\n",
       "      <td>0.1809</td>\n",
       "      <td>...</td>\n",
       "      <td>22.54</td>\n",
       "      <td>16.67</td>\n",
       "      <td>152.20</td>\n",
       "      <td>1575.0</td>\n",
       "      <td>0.1374</td>\n",
       "      <td>0.2050</td>\n",
       "      <td>0.4000</td>\n",
       "      <td>0.1625</td>\n",
       "      <td>0.2364</td>\n",
       "      <td>0.07678</td>\n",
       "    </tr>\n",
       "  </tbody>\n",
       "</table>\n",
       "<p>5 rows × 31 columns</p>\n",
       "</div>"
      ],
      "text/plain": [
       "  label      1      2       3       4        5        6       7        8  \\\n",
       "0     M  17.99  10.38  122.80  1001.0  0.11840  0.27760  0.3001  0.14710   \n",
       "1     M  20.57  17.77  132.90  1326.0  0.08474  0.07864  0.0869  0.07017   \n",
       "2     M  19.69  21.25  130.00  1203.0  0.10960  0.15990  0.1974  0.12790   \n",
       "3     M  11.42  20.38   77.58   386.1  0.14250  0.28390  0.2414  0.10520   \n",
       "4     M  20.29  14.34  135.10  1297.0  0.10030  0.13280  0.1980  0.10430   \n",
       "\n",
       "        9  ...     21     22      23      24      25      26      27      28  \\\n",
       "0  0.2419  ...  25.38  17.33  184.60  2019.0  0.1622  0.6656  0.7119  0.2654   \n",
       "1  0.1812  ...  24.99  23.41  158.80  1956.0  0.1238  0.1866  0.2416  0.1860   \n",
       "2  0.2069  ...  23.57  25.53  152.50  1709.0  0.1444  0.4245  0.4504  0.2430   \n",
       "3  0.2597  ...  14.91  26.50   98.87   567.7  0.2098  0.8663  0.6869  0.2575   \n",
       "4  0.1809  ...  22.54  16.67  152.20  1575.0  0.1374  0.2050  0.4000  0.1625   \n",
       "\n",
       "       29       30  \n",
       "0  0.4601  0.11890  \n",
       "1  0.2750  0.08902  \n",
       "2  0.3613  0.08758  \n",
       "3  0.6638  0.17300  \n",
       "4  0.2364  0.07678  \n",
       "\n",
       "[5 rows x 31 columns]"
      ]
     },
     "execution_count": 2,
     "metadata": {},
     "output_type": "execute_result"
    }
   ],
   "source": [
    "cancer = pd.read_csv('HW1/cancer.csv')\n",
    "cancer.head()"
   ]
  },
  {
   "cell_type": "code",
   "execution_count": 3,
   "metadata": {},
   "outputs": [],
   "source": [
    "cancer_y = cancer.label.values\n",
    "cancer_x = cancer.loc[:, '1':'30'].values\n",
    "cancer_features = cancer.drop(['label'], axis=1).columns.values"
   ]
  },
  {
   "cell_type": "code",
   "execution_count": 4,
   "metadata": {},
   "outputs": [],
   "source": [
    "cancer_y = np.asarray([1 if y == 'M' else 0 for y in cancer_y])"
   ]
  },
  {
   "cell_type": "code",
   "execution_count": 5,
   "metadata": {},
   "outputs": [
    {
     "data": {
      "text/html": [
       "<div>\n",
       "<style scoped>\n",
       "    .dataframe tbody tr th:only-of-type {\n",
       "        vertical-align: middle;\n",
       "    }\n",
       "\n",
       "    .dataframe tbody tr th {\n",
       "        vertical-align: top;\n",
       "    }\n",
       "\n",
       "    .dataframe thead th {\n",
       "        text-align: right;\n",
       "    }\n",
       "</style>\n",
       "<table border=\"1\" class=\"dataframe\">\n",
       "  <thead>\n",
       "    <tr style=\"text-align: right;\">\n",
       "      <th></th>\n",
       "      <th>word_freq_make</th>\n",
       "      <th>word_freq_address</th>\n",
       "      <th>word_freq_all</th>\n",
       "      <th>word_freq_3d</th>\n",
       "      <th>word_freq_our</th>\n",
       "      <th>word_freq_over</th>\n",
       "      <th>word_freq_remove</th>\n",
       "      <th>word_freq_internet</th>\n",
       "      <th>word_freq_order</th>\n",
       "      <th>word_freq_mail</th>\n",
       "      <th>...</th>\n",
       "      <th>char_freq_:</th>\n",
       "      <th>char_freq_(</th>\n",
       "      <th>char_freq_[</th>\n",
       "      <th>char_freq_!</th>\n",
       "      <th>char_freq_$</th>\n",
       "      <th>char_freq_#</th>\n",
       "      <th>capital_run_length_average</th>\n",
       "      <th>capital_run_length_longest</th>\n",
       "      <th>capital_run_length_total</th>\n",
       "      <th>label</th>\n",
       "    </tr>\n",
       "  </thead>\n",
       "  <tbody>\n",
       "    <tr>\n",
       "      <th>0</th>\n",
       "      <td>0.00</td>\n",
       "      <td>0.64</td>\n",
       "      <td>0.64</td>\n",
       "      <td>0.0</td>\n",
       "      <td>0.32</td>\n",
       "      <td>0.00</td>\n",
       "      <td>0.00</td>\n",
       "      <td>0.00</td>\n",
       "      <td>0.00</td>\n",
       "      <td>0.00</td>\n",
       "      <td>...</td>\n",
       "      <td>0.00</td>\n",
       "      <td>0.000</td>\n",
       "      <td>0.0</td>\n",
       "      <td>0.778</td>\n",
       "      <td>0.000</td>\n",
       "      <td>0.000</td>\n",
       "      <td>3.756</td>\n",
       "      <td>61</td>\n",
       "      <td>278</td>\n",
       "      <td>1</td>\n",
       "    </tr>\n",
       "    <tr>\n",
       "      <th>1</th>\n",
       "      <td>0.21</td>\n",
       "      <td>0.28</td>\n",
       "      <td>0.50</td>\n",
       "      <td>0.0</td>\n",
       "      <td>0.14</td>\n",
       "      <td>0.28</td>\n",
       "      <td>0.21</td>\n",
       "      <td>0.07</td>\n",
       "      <td>0.00</td>\n",
       "      <td>0.94</td>\n",
       "      <td>...</td>\n",
       "      <td>0.00</td>\n",
       "      <td>0.132</td>\n",
       "      <td>0.0</td>\n",
       "      <td>0.372</td>\n",
       "      <td>0.180</td>\n",
       "      <td>0.048</td>\n",
       "      <td>5.114</td>\n",
       "      <td>101</td>\n",
       "      <td>1028</td>\n",
       "      <td>1</td>\n",
       "    </tr>\n",
       "    <tr>\n",
       "      <th>2</th>\n",
       "      <td>0.06</td>\n",
       "      <td>0.00</td>\n",
       "      <td>0.71</td>\n",
       "      <td>0.0</td>\n",
       "      <td>1.23</td>\n",
       "      <td>0.19</td>\n",
       "      <td>0.19</td>\n",
       "      <td>0.12</td>\n",
       "      <td>0.64</td>\n",
       "      <td>0.25</td>\n",
       "      <td>...</td>\n",
       "      <td>0.01</td>\n",
       "      <td>0.143</td>\n",
       "      <td>0.0</td>\n",
       "      <td>0.276</td>\n",
       "      <td>0.184</td>\n",
       "      <td>0.010</td>\n",
       "      <td>9.821</td>\n",
       "      <td>485</td>\n",
       "      <td>2259</td>\n",
       "      <td>1</td>\n",
       "    </tr>\n",
       "    <tr>\n",
       "      <th>3</th>\n",
       "      <td>0.00</td>\n",
       "      <td>0.00</td>\n",
       "      <td>0.00</td>\n",
       "      <td>0.0</td>\n",
       "      <td>0.63</td>\n",
       "      <td>0.00</td>\n",
       "      <td>0.31</td>\n",
       "      <td>0.63</td>\n",
       "      <td>0.31</td>\n",
       "      <td>0.63</td>\n",
       "      <td>...</td>\n",
       "      <td>0.00</td>\n",
       "      <td>0.137</td>\n",
       "      <td>0.0</td>\n",
       "      <td>0.137</td>\n",
       "      <td>0.000</td>\n",
       "      <td>0.000</td>\n",
       "      <td>3.537</td>\n",
       "      <td>40</td>\n",
       "      <td>191</td>\n",
       "      <td>1</td>\n",
       "    </tr>\n",
       "    <tr>\n",
       "      <th>4</th>\n",
       "      <td>0.00</td>\n",
       "      <td>0.00</td>\n",
       "      <td>0.00</td>\n",
       "      <td>0.0</td>\n",
       "      <td>0.63</td>\n",
       "      <td>0.00</td>\n",
       "      <td>0.31</td>\n",
       "      <td>0.63</td>\n",
       "      <td>0.31</td>\n",
       "      <td>0.63</td>\n",
       "      <td>...</td>\n",
       "      <td>0.00</td>\n",
       "      <td>0.135</td>\n",
       "      <td>0.0</td>\n",
       "      <td>0.135</td>\n",
       "      <td>0.000</td>\n",
       "      <td>0.000</td>\n",
       "      <td>3.537</td>\n",
       "      <td>40</td>\n",
       "      <td>191</td>\n",
       "      <td>1</td>\n",
       "    </tr>\n",
       "  </tbody>\n",
       "</table>\n",
       "<p>5 rows × 58 columns</p>\n",
       "</div>"
      ],
      "text/plain": [
       "   word_freq_make  word_freq_address  word_freq_all  word_freq_3d  \\\n",
       "0            0.00               0.64           0.64           0.0   \n",
       "1            0.21               0.28           0.50           0.0   \n",
       "2            0.06               0.00           0.71           0.0   \n",
       "3            0.00               0.00           0.00           0.0   \n",
       "4            0.00               0.00           0.00           0.0   \n",
       "\n",
       "   word_freq_our  word_freq_over  word_freq_remove  word_freq_internet  \\\n",
       "0           0.32            0.00              0.00                0.00   \n",
       "1           0.14            0.28              0.21                0.07   \n",
       "2           1.23            0.19              0.19                0.12   \n",
       "3           0.63            0.00              0.31                0.63   \n",
       "4           0.63            0.00              0.31                0.63   \n",
       "\n",
       "   word_freq_order  word_freq_mail  ...  char_freq_:  char_freq_(  \\\n",
       "0             0.00            0.00  ...         0.00        0.000   \n",
       "1             0.00            0.94  ...         0.00        0.132   \n",
       "2             0.64            0.25  ...         0.01        0.143   \n",
       "3             0.31            0.63  ...         0.00        0.137   \n",
       "4             0.31            0.63  ...         0.00        0.135   \n",
       "\n",
       "   char_freq_[  char_freq_!  char_freq_$  char_freq_#  \\\n",
       "0          0.0        0.778        0.000        0.000   \n",
       "1          0.0        0.372        0.180        0.048   \n",
       "2          0.0        0.276        0.184        0.010   \n",
       "3          0.0        0.137        0.000        0.000   \n",
       "4          0.0        0.135        0.000        0.000   \n",
       "\n",
       "   capital_run_length_average  capital_run_length_longest  \\\n",
       "0                       3.756                          61   \n",
       "1                       5.114                         101   \n",
       "2                       9.821                         485   \n",
       "3                       3.537                          40   \n",
       "4                       3.537                          40   \n",
       "\n",
       "   capital_run_length_total  label  \n",
       "0                       278      1  \n",
       "1                      1028      1  \n",
       "2                      2259      1  \n",
       "3                       191      1  \n",
       "4                       191      1  \n",
       "\n",
       "[5 rows x 58 columns]"
      ]
     },
     "execution_count": 5,
     "metadata": {},
     "output_type": "execute_result"
    }
   ],
   "source": [
    "spam = pd.read_csv('HW1/spam.csv')\n",
    "spam.head()"
   ]
  },
  {
   "cell_type": "code",
   "execution_count": 6,
   "metadata": {},
   "outputs": [],
   "source": [
    "spam_y = spam.label.values\n",
    "spam_x = spam.loc[:, 'word_freq_make':'capital_run_length_total'].values\n",
    "spam_features = spam.drop(['label'], axis=1).columns.values"
   ]
  },
  {
   "cell_type": "markdown",
   "metadata": {},
   "source": [
    "# Реализация RandomForest"
   ]
  },
  {
   "cell_type": "code",
   "execution_count": 7,
   "metadata": {},
   "outputs": [],
   "source": [
    "def tree_builder(x, y, features, metrics, depth, max_depth, rules, idx, N):\n",
    "    lbls, counts = np.unique(y, return_counts=True)\n",
    "    if len(lbls) == 1:\n",
    "        rules[idx] = [0, 0]\n",
    "        rules[idx][lbls[0]] = 1\n",
    "        return\n",
    "    if depth == max_depth:\n",
    "        rules[idx] = [0, 0] \n",
    "        rules[idx][lbls[0]] = counts[0] / len(y)\n",
    "        rules[idx][lbls[1]] = counts[1] / len(y)\n",
    "        return\n",
    "    \n",
    "    best_params = -1\n",
    "    best_metric = -1\n",
    "    best_column = -1\n",
    "    splits = [[], []]\n",
    "    n = x.shape[0]\n",
    "    \n",
    "    for i in features:\n",
    "        col_sorted, idx_sorted = zip(*sorted(zip(x[:, i], \n",
    "                                                 range(n))))\n",
    "        min_, max_ = col_sorted[0], col_sorted[n - 1]\n",
    "        thresholds = [np.unique(col_sorted)[i] \n",
    "                      for i in np.linspace(0, len(np.unique(col_sorted)) - 1, 30, dtype=int)]\n",
    "        col_idx = 0\n",
    "        \n",
    "        for j in range(30):\n",
    "            while col_idx + 1 < n and col_sorted[col_idx + 1] <= thresholds[j]:\n",
    "                col_idx += 1\n",
    "            \n",
    "            left = [y[i] for i in idx_sorted[:col_idx + 1]]\n",
    "            right = [y[i] for i in idx_sorted[col_idx + 1:]]\n",
    "            \n",
    "            if left == [] or right == []:\n",
    "                continue\n",
    "                \n",
    "            score = metrics(y, left, right, N)\n",
    "            if score  > best_metric:\n",
    "                best_params = thresholds[j]\n",
    "                best_metric = score\n",
    "                best_column = i\n",
    "                splits[0], splits[1] = idx_sorted[:col_idx + 1], idx_sorted[col_idx + 1:]\n",
    "                \n",
    "    if best_metric == -1:\n",
    "        rules[idx] = [0, 0] \n",
    "        rules[idx][lbls[0]] = counts[0] / len(y)\n",
    "        rules[idx][lbls[1]] = counts[1] / len(y)\n",
    "        return\n",
    "    \n",
    "    rules[idx] = [best_params, best_column,\n",
    "                  2 * idx, 2 * idx + 1, 0, 0]\n",
    "    rules[idx][4 + lbls[0]] = counts[0] / len(y)\n",
    "    rules[idx][4 + lbls[1]] = counts[1] / len(y)\n",
    "    \n",
    "    tree_builder(x[splits[0], :], [y[i] for i in splits[0]], features, metrics, depth + 1, \n",
    "                 max_depth, rules, 2 * idx, N)\n",
    "    tree_builder(x[splits[1], :], [y[i] for i in splits[1]], features, metrics, depth + 1, \n",
    "                 max_depth, rules, 2 * idx + 1, N)\n",
    "    \n",
    "    \"\"\"\n",
    "    [thr, col, <_idx, >_idx, label0, label1]\n",
    "    or\n",
    "    [lbl0, lbl1]\n",
    "    \"\"\"     "
   ]
  },
  {
   "cell_type": "code",
   "execution_count": 8,
   "metadata": {},
   "outputs": [],
   "source": [
    "def gini_impurity(y, left, right, N):\n",
    "    \n",
    "    def __g(arr):\n",
    "        lbls, counts = np.unique(arr, return_counts=True)\n",
    "        res = 1 / (len(arr) ** 2)\n",
    "        for c in counts:\n",
    "            res *= c\n",
    "        return res * 2\n",
    "    \n",
    "    node = len(y) / N * __g(y)\n",
    "    l = len(left) / N * __g(left)\n",
    "    r = len(right) / N * __g(right)\n",
    "    \n",
    "    return node - l - r"
   ]
  },
  {
   "cell_type": "code",
   "execution_count": 9,
   "metadata": {},
   "outputs": [],
   "source": [
    "def tree_traversal(x, tree, max_depth):\n",
    "    curr_depth = 0\n",
    "    r_idx = 1\n",
    "    curr_d = 0\n",
    "    while len(tree[r_idx]) > 2 and curr_depth < max_depth:\n",
    "        if x[tree[r_idx][1]] > tree[r_idx][0]:\n",
    "            r_idx = tree[r_idx][3]\n",
    "        else:\n",
    "            r_idx = tree[r_idx][2]\n",
    "        curr_d += 1\n",
    "    if len(tree[r_idx]) == 2:\n",
    "        return tree[r_idx]\n",
    "    else:\n",
    "        return tree[4:]"
   ]
  },
  {
   "cell_type": "code",
   "execution_count": 10,
   "metadata": {},
   "outputs": [],
   "source": [
    "def RandomForest(x, y, n_trees, max_depth):\n",
    "    trees = []\n",
    "    N, M = x.shape\n",
    "    \n",
    "    for _ in range(n_trees):\n",
    "        x_idx = np.random.choice(N, N, replace=True)\n",
    "        features = np.random.choice(M, int(np.sqrt(M)) + 1, replace=False)\n",
    "        \n",
    "        rules = [0 for _ in range(2 ** (max_depth + 1))]\n",
    "        tree_builder(x[x_idx, :], [y[i] for i in x_idx], features, metrics=gini_impurity, depth=0,\n",
    "                     max_depth=max_depth, rules=rules, idx=1, N=N)\n",
    "        \n",
    "        trees.append(rules)\n",
    "        \n",
    "    return trees"
   ]
  },
  {
   "cell_type": "code",
   "execution_count": 11,
   "metadata": {},
   "outputs": [],
   "source": [
    "def rf_predict(x, rf, max_depth):\n",
    "    predictions = [0, 0]\n",
    "    for tree in rf:\n",
    "        p = tree_traversal(x, tree, max_depth)\n",
    "        predictions[0] += p[0]\n",
    "        predictions[1] += p[1]\n",
    "    \n",
    "    return [predictions[0] / len(rf), predictions[1] / len(rf)]"
   ]
  },
  {
   "cell_type": "code",
   "execution_count": 12,
   "metadata": {},
   "outputs": [],
   "source": [
    "def count_auc(x, y, max_depth, rf):\n",
    "    preds = np.zeros((x.shape[0], 2))\n",
    "    n_pos = sum([1 if y_ == 1 else 0 for y_ in y])\n",
    "    n_neg = x.shape[0] - n_pos\n",
    "    \n",
    "    for i in range(x.shape[0]):\n",
    "        pred = rf_predict(x[i,:], rf, max_depth)\n",
    "        preds[i, :] = pred\n",
    "    \n",
    "    thr = np.linspace(0, 1, 30)\n",
    "    tp_fp = np.zeros((30, 2))\n",
    "    for i in range(30):\n",
    "        for j in range(x.shape[0]):\n",
    "            if y[j] == 1 and preds[j, 1] >= thr[i]:\n",
    "                tp_fp[i, 0] += 1\n",
    "            elif y[j] != 1 and preds[j, 1] >= thr[i]:\n",
    "                tp_fp[i, 1] += 1\n",
    "            \n",
    "    tp_fp[:, 0] /= n_pos\n",
    "    tp_fp[:, 1] /= n_neg\n",
    "    return auc(tp_fp[:, 1], tp_fp[:, 0]), tp_fp"
   ]
  },
  {
   "cell_type": "code",
   "execution_count": 19,
   "metadata": {},
   "outputs": [],
   "source": [
    "def plot_roc(auc_, tp_fp, max_depth, n_trees, dataset, metric):\n",
    "    print(f'Датасет: {dataset}\\n'\n",
    "          f'Функция impurity: {metric}\\n'\n",
    "          f'Глубина дерева: {max_depth}\\n'\n",
    "          f'Число деревьев: {n_trees}\\n'\n",
    "          f'ROC-AUC: {auc_}')\n",
    "    if isinstance(tp_fp, list):\n",
    "        for tf in tp_fp:\n",
    "            plt.plot(tf[:, 1], tf[:, 0])\n",
    "        plt.legend([f'Fold {i}' for i in range(len(tp_fp))])\n",
    "        plt.title('roc-кривые для каждой \\nкроссвалидационной подвыборки')\n",
    "    else:\n",
    "        plt.plot(tp_fp[:, 1], tp_fp[:, 0])\n",
    "        plt.title('roc-кривая')\n",
    "    plt.show()"
   ]
  },
  {
   "cell_type": "code",
   "execution_count": 62,
   "metadata": {},
   "outputs": [],
   "source": [
    "cancer_rf = RandomForest(cancer_x, cancer_y, max_depth=3, n_trees=20)"
   ]
  },
  {
   "cell_type": "code",
   "execution_count": 102,
   "metadata": {},
   "outputs": [
    {
     "name": "stdout",
     "output_type": "stream",
     "text": [
      "Датасет: cancer\n",
      "Функция impurity: gini\n",
      "Глубина дерева: 3\n",
      "Число деревьев: 20\n",
      "ROC-AUC: 0.9954746049363141\n"
     ]
    },
    {
     "data": {
      "image/png": "[encoded data removed]",
      "text/plain": [
       "<Figure size 432x288 with 1 Axes>"
      ]
     },
     "metadata": {},
     "output_type": "display_data"
    }
   ],
   "source": [
    "plot_roc(*count_auc(cancer_x, cancer_y, 3, cancer_rf), 3, 20, 'cancer', 'gini')"
   ]
  },
  {
   "cell_type": "code",
   "execution_count": 71,
   "metadata": {},
   "outputs": [],
   "source": [
    "spam_rf = RandomForest(spam_x, spam_y, max_depth=3, n_trees=20)"
   ]
  },
  {
   "cell_type": "code",
   "execution_count": 72,
   "metadata": {
    "scrolled": false
   },
   "outputs": [
    {
     "name": "stdout",
     "output_type": "stream",
     "text": [
      "Датасет: spam\n",
      "Функция impurity: gini\n",
      "Глубина дерева: 3\n",
      "Число деревьев: 20\n",
      "ROC-AUC: 0.964913058169873\n"
     ]
    },
    {
     "data": {
      "image/png": "[encoded data removed]",
      "text/plain": [
       "<Figure size 432x288 with 1 Axes>"
      ]
     },
     "metadata": {},
     "output_type": "display_data"
    }
   ],
   "source": [
    "plot_roc(spam_x, spam_y, 'spam', 3, spam_rf, 'gini')"
   ]
  },
  {
   "cell_type": "markdown",
   "metadata": {},
   "source": [
    "# Оптимизация параметров на кроссвалидации"
   ]
  },
  {
   "cell_type": "code",
   "execution_count": 14,
   "metadata": {},
   "outputs": [],
   "source": [
    "def cross_val_rf(x, y, n_trees_params, max_depth_params, dataset, n_folds=5):\n",
    "    scores = {}\n",
    "    for n_trees in n_trees_params:\n",
    "        for max_depth in max_depth_params:\n",
    "            scores[(n_trees, max_depth)] = [0, [[] for _ in range(n_folds)]]\n",
    "            \n",
    "    max_depth, n_trees = max(max_depth_params), max(n_trees_params)\n",
    "    \n",
    "    skf = StratifiedKFold(n_splits=n_folds, shuffle=True)\n",
    "    n = 0\n",
    "    for train_idx, validate_idx in skf.split(x, y):\n",
    "        max_rf = RandomForest(x[train_idx], y[train_idx], max_depth=max_depth, n_trees=n_trees)\n",
    "#         print(max_rf)\n",
    "        \n",
    "        for n_trees_p in n_trees_params:\n",
    "            for max_depth_p in max_depth_params:\n",
    "                auc_, tp_fp = count_auc(x[validate_idx], y[validate_idx], max_depth_p,\n",
    "                                        max_rf[:n_trees_p])\n",
    "                scores[(n_trees_p, max_depth_p)][0] += auc_\n",
    "                scores[(n_trees_p, max_depth_p)][1][n] = tp_fp\n",
    "                \n",
    "        n += 1\n",
    "                \n",
    "    max_score = 0\n",
    "    best_params = ()\n",
    "    \n",
    "    for k, v in scores.items():\n",
    "        if v[0] > max_score:\n",
    "            max_score = v[0]\n",
    "            best_params = k\n",
    "            \n",
    "    print(f'Датасет: {dataset}\\n'\n",
    "          f'Лучшие параметры для RandomForest: \\n'\n",
    "          f'\\tчисло деревьев - {best_params[0]}, максимальная глубина - {best_params[1]}\\n'\n",
    "          f'Среднее значение auc: {(max_score / n_folds)}')\n",
    "    \n",
    "    return max_score / n_folds, scores[best_params][1]"
   ]
  },
  {
   "cell_type": "code",
   "execution_count": 15,
   "metadata": {},
   "outputs": [
    {
     "name": "stdout",
     "output_type": "stream",
     "text": [
      "Датасет: cancer\n",
      "Лучшие параметры для RandomForest: \n",
      "\tчисло деревьев - 100, максимальная глубина - 2\n",
      "Среднее значение auc: 0.9898584660417284\n"
     ]
    }
   ],
   "source": [
    "cancer_auc, cancer_tpfps = cross_val_rf(cancer_x, cancer_y,\n",
    "                                        n_trees_params=[5, 10, 20, 30, 50, 100], \n",
    "                                        max_depth_params=[2, 3, 5, 7, 10], dataset='cancer')"
   ]
  },
  {
   "cell_type": "code",
   "execution_count": 21,
   "metadata": {},
   "outputs": [
    {
     "name": "stdout",
     "output_type": "stream",
     "text": [
      "Датасет: cancer\n",
      "Функция impurity: gini\n",
      "Глубина дерева: 2\n",
      "Число деревьев: 100\n",
      "ROC-AUC: 0.9898584660417284\n"
     ]
    },
    {
     "data": {
      "image/png": "[encoded data removed]",
      "text/plain": [
       "<Figure size 432x288 with 1 Axes>"
      ]
     },
     "metadata": {},
     "output_type": "display_data"
    }
   ],
   "source": [
    "plot_roc(cancer_auc, cancer_tpfps, 2, 100, 'cancer', 'gini')"
   ]
  },
  {
   "cell_type": "code",
   "execution_count": 22,
   "metadata": {},
   "outputs": [
    {
     "name": "stdout",
     "output_type": "stream",
     "text": [
      "Датасет: spam\n",
      "Лучшие параметры для RandomForest: \n",
      "\tчисло деревьев - 100, максимальная глубина - 2\n",
      "Среднее значение auc: 0.976621782563584\n"
     ]
    }
   ],
   "source": [
    "spam_auc, spam_tpfps = cross_val_rf(spam_x, spam_y,\n",
    "                                        n_trees_params=[5, 10, 20, 30, 50, 100], \n",
    "                                        max_depth_params=[2, 3, 5, 7, 10], dataset='spam')"
   ]
  },
  {
   "cell_type": "code",
   "execution_count": 23,
   "metadata": {},
   "outputs": [
    {
     "name": "stdout",
     "output_type": "stream",
     "text": [
      "Датасет: spam\n",
      "Функция impurity: gini\n",
      "Глубина дерева: 2\n",
      "Число деревьев: 100\n",
      "ROC-AUC: 0.976621782563584\n"
     ]
    },
    {
     "data": {
      "image/png": "[encoded data removed]",
      "text/plain": [
       "<Figure size 432x288 with 1 Axes>"
      ]
     },
     "metadata": {},
     "output_type": "display_data"
    }
   ],
   "source": [
    "plot_roc(spam_auc, spam_tpfps, 2, 100, 'spam', 'gini')"
   ]
  }
 ],
 "metadata": {
  "kernelspec": {
   "display_name": "Python 3",
   "language": "python",
   "name": "python3"
  },
  "language_info": {
   "codemirror_mode": {
    "name": "ipython",
    "version": 3
   },
   "file_extension": ".py",
   "mimetype": "text/x-python",
   "name": "python",
   "nbconvert_exporter": "python",
   "pygments_lexer": "ipython3",
   "version": "3.6.7"
  }
 },
 "nbformat": 4,
 "nbformat_minor": 2
}
